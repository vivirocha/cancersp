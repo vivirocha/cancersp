{
  "nbformat": 4,
  "nbformat_minor": 0,
  "metadata": {
    "colab": {
      "provenance": [],
      "authorship_tag": "ABX9TyOT3R8dLAI+WX6DBbeavdcR",
      "include_colab_link": true
    },
    "kernelspec": {
      "name": "ir",
      "display_name": "R"
    },
    "language_info": {
      "name": "R"
    }
  },
  "cells": [
    {
      "cell_type": "markdown",
      "metadata": {
        "id": "view-in-github",
        "colab_type": "text"
      },
      "source": [
        "<a href=\"https://colab.research.google.com/github/vivirocha/cancersp/blob/main/CancerSP_TCC.ipynb\" target=\"_parent\"><img src=\"https://colab.research.google.com/assets/colab-badge.svg\" alt=\"Open In Colab\"/></a>"
      ]
    },
    {
      "cell_type": "code",
      "execution_count": null,
      "metadata": {
        "id": "juYPQXXQ9Ttk"
      },
      "outputs": [],
      "source": [
        "install.packages(\"pacman\")\n",
        "library(pacman)"
      ]
    },
    {
      "cell_type": "code",
      "source": [
        "pacman::p_load(dplyr, raster, tmap, plotly, caTools, h2o, caret, tidyverse, sf, foreign, caret)"
      ],
      "metadata": {
        "id": "YOywrYru_TYp"
      },
      "execution_count": null,
      "outputs": []
    },
    {
      "cell_type": "code",
      "source": [
        "anos <- read.dbf(file = \"pacigeral.dbf\")"
      ],
      "metadata": {
        "id": "mWQ_4svk_ROi"
      },
      "execution_count": null,
      "outputs": []
    },
    {
      "cell_type": "code",
      "source": [
        "dim(anos) "
      ],
      "metadata": {
        "colab": {
          "base_uri": "https://localhost:8080/",
          "height": 34
        },
        "id": "mEIcCPlhWBEJ",
        "outputId": "aeec299d-2c8e-4e76-f92b-76b806193b45"
      },
      "execution_count": 43,
      "outputs": [
        {
          "output_type": "display_data",
          "data": {
            "text/html": [
              "<style>\n",
              ".list-inline {list-style: none; margin:0; padding: 0}\n",
              ".list-inline>li {display: inline-block}\n",
              ".list-inline>li:not(:last-child)::after {content: \"\\00b7\"; padding: 0 .5ex}\n",
              "</style>\n",
              "<ol class=list-inline><li>1103941</li><li>100</li></ol>\n"
            ],
            "text/markdown": "1. 1103941\n2. 100\n\n\n",
            "text/latex": "\\begin{enumerate*}\n\\item 1103941\n\\item 100\n\\end{enumerate*}\n",
            "text/plain": [
              "[1] 1103941     100"
            ]
          },
          "metadata": {}
        }
      ]
    },
    {
      "cell_type": "code",
      "source": [
        "str(anos)"
      ],
      "metadata": {
        "id": "JHDBmNn8WJl4"
      },
      "execution_count": null,
      "outputs": []
    },
    {
      "cell_type": "code",
      "source": [
        "head(anos)"
      ],
      "metadata": {
        "colab": {
          "base_uri": "https://localhost:8080/",
          "height": 949
        },
        "id": "JUyYG-VAWM9e",
        "outputId": "81144071-8b58-4301-bdb8-3b68e2ec8b89"
      },
      "execution_count": null,
      "outputs": [
        {
          "output_type": "display_data",
          "data": {
            "text/html": [
              "<table class=\"dataframe\">\n",
              "<caption>A data.frame: 6 × 100</caption>\n",
              "<thead>\n",
              "\t<tr><th></th><th scope=col>ESCOLARI</th><th scope=col>IDADE</th><th scope=col>SEXO</th><th scope=col>UFNASC</th><th scope=col>UFRESID</th><th scope=col>IBGE</th><th scope=col>CIDADE</th><th scope=col>CATEATEND</th><th scope=col>DTCONSULT</th><th scope=col>CLINICA</th><th scope=col>⋯</th><th scope=col>REC03</th><th scope=col>REC04</th><th scope=col>IBGEATEN</th><th scope=col>CIDO</th><th scope=col>DSCCIDO</th><th scope=col>HABILIT</th><th scope=col>HABIT11</th><th scope=col>HABILIT1</th><th scope=col>HABILIT2</th><th scope=col>CIDADEH</th></tr>\n",
              "\t<tr><th></th><th scope=col>&lt;int&gt;</th><th scope=col>&lt;int&gt;</th><th scope=col>&lt;int&gt;</th><th scope=col>&lt;fct&gt;</th><th scope=col>&lt;fct&gt;</th><th scope=col>&lt;fct&gt;</th><th scope=col>&lt;fct&gt;</th><th scope=col>&lt;int&gt;</th><th scope=col>&lt;date&gt;</th><th scope=col>&lt;int&gt;</th><th scope=col>⋯</th><th scope=col>&lt;fct&gt;</th><th scope=col>&lt;fct&gt;</th><th scope=col>&lt;fct&gt;</th><th scope=col>&lt;fct&gt;</th><th scope=col>&lt;fct&gt;</th><th scope=col>&lt;int&gt;</th><th scope=col>&lt;fct&gt;</th><th scope=col>&lt;int&gt;</th><th scope=col>&lt;int&gt;</th><th scope=col>&lt;fct&gt;</th></tr>\n",
              "</thead>\n",
              "<tbody>\n",
              "\t<tr><th scope=row>1</th><td>9</td><td>113</td><td>2</td><td>SP</td><td>SP</td><td>3550308</td><td><span style=white-space:pre-wrap>SAO PAULO     </span></td><td>2</td><td>2017-03-16</td><td> 6</td><td>⋯</td><td>NA</td><td>NA</td><td>3550308</td><td>80903</td><td><span style=white-space:pre-wrap>CARCINOMA BASOCELULAR SOE                           </span></td><td> 7</td><td><span style=white-space:pre-wrap>CACON com Servi&lt;87&gt;o de Oncologia Pedi&lt;a0&gt;trica                                    </span></td><td>3</td><td>2</td><td><span style=white-space:pre-wrap>S&lt;c6&gt;o Paulo               </span></td></tr>\n",
              "\t<tr><th scope=row>2</th><td>9</td><td>109</td><td>2</td><td>BA</td><td>SP</td><td>3550308</td><td><span style=white-space:pre-wrap>SAO PAULO     </span></td><td>1</td><td>2019-04-09</td><td>17</td><td>⋯</td><td>NA</td><td>NA</td><td>3550308</td><td>96703</td><td>LINFOMA MALIGNO DE LINFOCITOS CELULAS B PEQUENAS SOE</td><td> 7</td><td><span style=white-space:pre-wrap>CACON com Servi&lt;87&gt;o de Oncologia Pedi&lt;a0&gt;trica                                    </span></td><td>3</td><td>2</td><td><span style=white-space:pre-wrap>S&lt;c6&gt;o Paulo               </span></td></tr>\n",
              "\t<tr><th scope=row>3</th><td>9</td><td>107</td><td>2</td><td>SP</td><td>SP</td><td>3550308</td><td><span style=white-space:pre-wrap>SAO PAULO     </span></td><td>9</td><td>2011-08-15</td><td> 3</td><td>⋯</td><td>NA</td><td>NA</td><td>3550308</td><td>80703</td><td><span style=white-space:pre-wrap>CARCINOMA ESCAMOCELULAR SOE                         </span></td><td> 7</td><td><span style=white-space:pre-wrap>CACON com Servi&lt;87&gt;o de Oncologia Pedi&lt;a0&gt;trica                                    </span></td><td>3</td><td>2</td><td><span style=white-space:pre-wrap>S&lt;c6&gt;o Paulo               </span></td></tr>\n",
              "\t<tr><th scope=row>4</th><td>2</td><td>106</td><td>1</td><td>SP</td><td>SP</td><td>3540804</td><td><span style=white-space:pre-wrap>POTIRENDABA   </span></td><td>2</td><td>2020-03-11</td><td>32</td><td>⋯</td><td>NA</td><td>NA</td><td>3549805</td><td>81203</td><td><span style=white-space:pre-wrap>CARCINOMA DE CELULAS TRANSICIONAIS SOE              </span></td><td>10</td><td>UNACON com Servi&lt;87&gt;os de Radioterapia, de Hematologia e de Oncologia Pedi&lt;a0&gt;trica</td><td>1</td><td>1</td><td>S&lt;c6&gt;o Jos&lt;82&gt; do Rio Preto</td></tr>\n",
              "\t<tr><th scope=row>5</th><td>2</td><td>106</td><td>2</td><td>MG</td><td>SP</td><td>3536604</td><td>PAULO DE FARIA</td><td>2</td><td>2020-07-29</td><td>10</td><td>⋯</td><td>NA</td><td>NA</td><td>3549805</td><td>80703</td><td><span style=white-space:pre-wrap>CARCINOMA ESCAMOCELULAR SOE                         </span></td><td>10</td><td>UNACON com Servi&lt;87&gt;os de Radioterapia, de Hematologia e de Oncologia Pedi&lt;a0&gt;trica</td><td>1</td><td>1</td><td>S&lt;c6&gt;o Jos&lt;82&gt; do Rio Preto</td></tr>\n",
              "\t<tr><th scope=row>6</th><td>2</td><td>106</td><td>2</td><td>MG</td><td>SP</td><td>3536604</td><td>PAULO DE FARIA</td><td>2</td><td>2020-07-29</td><td>10</td><td>⋯</td><td>NA</td><td>NA</td><td>3549805</td><td>80703</td><td><span style=white-space:pre-wrap>CARCINOMA ESCAMOCELULAR SOE                         </span></td><td>10</td><td>UNACON com Servi&lt;87&gt;os de Radioterapia, de Hematologia e de Oncologia Pedi&lt;a0&gt;trica</td><td>1</td><td>1</td><td>S&lt;c6&gt;o Jos&lt;82&gt; do Rio Preto</td></tr>\n",
              "</tbody>\n",
              "</table>\n"
            ],
            "text/markdown": "\nA data.frame: 6 × 100\n\n| <!--/--> | ESCOLARI &lt;int&gt; | IDADE &lt;int&gt; | SEXO &lt;int&gt; | UFNASC &lt;fct&gt; | UFRESID &lt;fct&gt; | IBGE &lt;fct&gt; | CIDADE &lt;fct&gt; | CATEATEND &lt;int&gt; | DTCONSULT &lt;date&gt; | CLINICA &lt;int&gt; | ⋯ ⋯ | REC03 &lt;fct&gt; | REC04 &lt;fct&gt; | IBGEATEN &lt;fct&gt; | CIDO &lt;fct&gt; | DSCCIDO &lt;fct&gt; | HABILIT &lt;int&gt; | HABIT11 &lt;fct&gt; | HABILIT1 &lt;int&gt; | HABILIT2 &lt;int&gt; | CIDADEH &lt;fct&gt; |\n|---|---|---|---|---|---|---|---|---|---|---|---|---|---|---|---|---|---|---|---|---|---|\n| 1 | 9 | 113 | 2 | SP | SP | 3550308 | SAO PAULO      | 2 | 2017-03-16 |  6 | ⋯ | NA | NA | 3550308 | 80903 | CARCINOMA BASOCELULAR SOE                            |  7 | CACON com Servi&lt;87&gt;o de Oncologia Pedi&lt;a0&gt;trica                                     | 3 | 2 | S&lt;c6&gt;o Paulo                |\n| 2 | 9 | 109 | 2 | BA | SP | 3550308 | SAO PAULO      | 1 | 2019-04-09 | 17 | ⋯ | NA | NA | 3550308 | 96703 | LINFOMA MALIGNO DE LINFOCITOS CELULAS B PEQUENAS SOE |  7 | CACON com Servi&lt;87&gt;o de Oncologia Pedi&lt;a0&gt;trica                                     | 3 | 2 | S&lt;c6&gt;o Paulo                |\n| 3 | 9 | 107 | 2 | SP | SP | 3550308 | SAO PAULO      | 9 | 2011-08-15 |  3 | ⋯ | NA | NA | 3550308 | 80703 | CARCINOMA ESCAMOCELULAR SOE                          |  7 | CACON com Servi&lt;87&gt;o de Oncologia Pedi&lt;a0&gt;trica                                     | 3 | 2 | S&lt;c6&gt;o Paulo                |\n| 4 | 2 | 106 | 1 | SP | SP | 3540804 | POTIRENDABA    | 2 | 2020-03-11 | 32 | ⋯ | NA | NA | 3549805 | 81203 | CARCINOMA DE CELULAS TRANSICIONAIS SOE               | 10 | UNACON com Servi&lt;87&gt;os de Radioterapia, de Hematologia e de Oncologia Pedi&lt;a0&gt;trica | 1 | 1 | S&lt;c6&gt;o Jos&lt;82&gt; do Rio Preto |\n| 5 | 2 | 106 | 2 | MG | SP | 3536604 | PAULO DE FARIA | 2 | 2020-07-29 | 10 | ⋯ | NA | NA | 3549805 | 80703 | CARCINOMA ESCAMOCELULAR SOE                          | 10 | UNACON com Servi&lt;87&gt;os de Radioterapia, de Hematologia e de Oncologia Pedi&lt;a0&gt;trica | 1 | 1 | S&lt;c6&gt;o Jos&lt;82&gt; do Rio Preto |\n| 6 | 2 | 106 | 2 | MG | SP | 3536604 | PAULO DE FARIA | 2 | 2020-07-29 | 10 | ⋯ | NA | NA | 3549805 | 80703 | CARCINOMA ESCAMOCELULAR SOE                          | 10 | UNACON com Servi&lt;87&gt;os de Radioterapia, de Hematologia e de Oncologia Pedi&lt;a0&gt;trica | 1 | 1 | S&lt;c6&gt;o Jos&lt;82&gt; do Rio Preto |\n\n",
            "text/latex": "A data.frame: 6 × 100\n\\begin{tabular}{r|lllllllllllllllllllll}\n  & ESCOLARI & IDADE & SEXO & UFNASC & UFRESID & IBGE & CIDADE & CATEATEND & DTCONSULT & CLINICA & ⋯ & REC03 & REC04 & IBGEATEN & CIDO & DSCCIDO & HABILIT & HABIT11 & HABILIT1 & HABILIT2 & CIDADEH\\\\\n  & <int> & <int> & <int> & <fct> & <fct> & <fct> & <fct> & <int> & <date> & <int> & ⋯ & <fct> & <fct> & <fct> & <fct> & <fct> & <int> & <fct> & <int> & <int> & <fct>\\\\\n\\hline\n\t1 & 9 & 113 & 2 & SP & SP & 3550308 & SAO PAULO      & 2 & 2017-03-16 &  6 & ⋯ & NA & NA & 3550308 & 80903 & CARCINOMA BASOCELULAR SOE                            &  7 & CACON com Servi<87>o de Oncologia Pedi<a0>trica                                     & 3 & 2 & S<c6>o Paulo               \\\\\n\t2 & 9 & 109 & 2 & BA & SP & 3550308 & SAO PAULO      & 1 & 2019-04-09 & 17 & ⋯ & NA & NA & 3550308 & 96703 & LINFOMA MALIGNO DE LINFOCITOS CELULAS B PEQUENAS SOE &  7 & CACON com Servi<87>o de Oncologia Pedi<a0>trica                                     & 3 & 2 & S<c6>o Paulo               \\\\\n\t3 & 9 & 107 & 2 & SP & SP & 3550308 & SAO PAULO      & 9 & 2011-08-15 &  3 & ⋯ & NA & NA & 3550308 & 80703 & CARCINOMA ESCAMOCELULAR SOE                          &  7 & CACON com Servi<87>o de Oncologia Pedi<a0>trica                                     & 3 & 2 & S<c6>o Paulo               \\\\\n\t4 & 2 & 106 & 1 & SP & SP & 3540804 & POTIRENDABA    & 2 & 2020-03-11 & 32 & ⋯ & NA & NA & 3549805 & 81203 & CARCINOMA DE CELULAS TRANSICIONAIS SOE               & 10 & UNACON com Servi<87>os de Radioterapia, de Hematologia e de Oncologia Pedi<a0>trica & 1 & 1 & S<c6>o Jos<82> do Rio Preto\\\\\n\t5 & 2 & 106 & 2 & MG & SP & 3536604 & PAULO DE FARIA & 2 & 2020-07-29 & 10 & ⋯ & NA & NA & 3549805 & 80703 & CARCINOMA ESCAMOCELULAR SOE                          & 10 & UNACON com Servi<87>os de Radioterapia, de Hematologia e de Oncologia Pedi<a0>trica & 1 & 1 & S<c6>o Jos<82> do Rio Preto\\\\\n\t6 & 2 & 106 & 2 & MG & SP & 3536604 & PAULO DE FARIA & 2 & 2020-07-29 & 10 & ⋯ & NA & NA & 3549805 & 80703 & CARCINOMA ESCAMOCELULAR SOE                          & 10 & UNACON com Servi<87>os de Radioterapia, de Hematologia e de Oncologia Pedi<a0>trica & 1 & 1 & S<c6>o Jos<82> do Rio Preto\\\\\n\\end{tabular}\n",
            "text/plain": [
              "  ESCOLARI IDADE SEXO UFNASC UFRESID IBGE    CIDADE         CATEATEND\n",
              "1 9        113   2    SP     SP      3550308 SAO PAULO      2        \n",
              "2 9        109   2    BA     SP      3550308 SAO PAULO      1        \n",
              "3 9        107   2    SP     SP      3550308 SAO PAULO      9        \n",
              "4 2        106   1    SP     SP      3540804 POTIRENDABA    2        \n",
              "5 2        106   2    MG     SP      3536604 PAULO DE FARIA 2        \n",
              "6 2        106   2    MG     SP      3536604 PAULO DE FARIA 2        \n",
              "  DTCONSULT  CLINICA ⋯ REC03 REC04 IBGEATEN CIDO \n",
              "1 2017-03-16  6      ⋯ NA    NA    3550308  80903\n",
              "2 2019-04-09 17      ⋯ NA    NA    3550308  96703\n",
              "3 2011-08-15  3      ⋯ NA    NA    3550308  80703\n",
              "4 2020-03-11 32      ⋯ NA    NA    3549805  81203\n",
              "5 2020-07-29 10      ⋯ NA    NA    3549805  80703\n",
              "6 2020-07-29 10      ⋯ NA    NA    3549805  80703\n",
              "  DSCCIDO                                              HABILIT\n",
              "1 CARCINOMA BASOCELULAR SOE                             7     \n",
              "2 LINFOMA MALIGNO DE LINFOCITOS CELULAS B PEQUENAS SOE  7     \n",
              "3 CARCINOMA ESCAMOCELULAR SOE                           7     \n",
              "4 CARCINOMA DE CELULAS TRANSICIONAIS SOE               10     \n",
              "5 CARCINOMA ESCAMOCELULAR SOE                          10     \n",
              "6 CARCINOMA ESCAMOCELULAR SOE                          10     \n",
              "  HABIT11                                                                            \n",
              "1 CACON com Servi\\x87o de Oncologia Pedi\\xa0trica                                    \n",
              "2 CACON com Servi\\x87o de Oncologia Pedi\\xa0trica                                    \n",
              "3 CACON com Servi\\x87o de Oncologia Pedi\\xa0trica                                    \n",
              "4 UNACON com Servi\\x87os de Radioterapia, de Hematologia e de Oncologia Pedi\\xa0trica\n",
              "5 UNACON com Servi\\x87os de Radioterapia, de Hematologia e de Oncologia Pedi\\xa0trica\n",
              "6 UNACON com Servi\\x87os de Radioterapia, de Hematologia e de Oncologia Pedi\\xa0trica\n",
              "  HABILIT1 HABILIT2 CIDADEH                    \n",
              "1 3        2        S\\xc6o Paulo               \n",
              "2 3        2        S\\xc6o Paulo               \n",
              "3 3        2        S\\xc6o Paulo               \n",
              "4 1        1        S\\xc6o Jos\\x82 do Rio Preto\n",
              "5 1        1        S\\xc6o Jos\\x82 do Rio Preto\n",
              "6 1        1        S\\xc6o Jos\\x82 do Rio Preto"
            ]
          },
          "metadata": {}
        }
      ]
    },
    {
      "cell_type": "code",
      "source": [
        "tail(anos)"
      ],
      "metadata": {
        "id": "U_W0bm9vWRFv"
      },
      "execution_count": null,
      "outputs": []
    },
    {
      "cell_type": "code",
      "source": [
        "colnames(anos)"
      ],
      "metadata": {
        "colab": {
          "base_uri": "https://localhost:8080/",
          "height": 191
        },
        "id": "7dCN7P7OWaNw",
        "outputId": "8b67e628-5a5a-4a9f-da82-d0de6bf2865d"
      },
      "execution_count": null,
      "outputs": [
        {
          "output_type": "display_data",
          "data": {
            "text/html": [
              "<style>\n",
              ".list-inline {list-style: none; margin:0; padding: 0}\n",
              ".list-inline>li {display: inline-block}\n",
              ".list-inline>li:not(:last-child)::after {content: \"\\00b7\"; padding: 0 .5ex}\n",
              "</style>\n",
              "<ol class=list-inline><li>'ESCOLARI'</li><li>'IDADE'</li><li>'SEXO'</li><li>'UFNASC'</li><li>'UFRESID'</li><li>'IBGE'</li><li>'CIDADE'</li><li>'CATEATEND'</li><li>'DTCONSULT'</li><li>'CLINICA'</li><li>'DIAGPREV'</li><li>'DTDIAG'</li><li>'BASEDIAG'</li><li>'TOPO'</li><li>'TOPOGRUP'</li><li>'DESCTOPO'</li><li>'MORFO'</li><li>'DESCMORFO'</li><li>'EC'</li><li>'ECGRUP'</li><li>'T'</li><li>'N'</li><li>'M'</li><li>'PT'</li><li>'PN'</li><li>'PM'</li><li>'S'</li><li>'G'</li><li>'LOCALTNM'</li><li>'IDMITOTIC'</li><li>'PSA'</li><li>'GLEASON'</li><li>'OUTRACLA'</li><li>'META01'</li><li>'META02'</li><li>'META03'</li><li>'META04'</li><li>'DTTRAT'</li><li>'NAOTRAT'</li><li>'TRATAMENTO'</li><li>'TRATHOSP'</li><li>'TRATFANTES'</li><li>'TRATFAPOS'</li><li>'NENHUM'</li><li>'CIRURGIA'</li><li>'RADIO'</li><li>'QUIMIO'</li><li>'HORMONIO'</li><li>'TMO'</li><li>'IMUNO'</li><li>'OUTROS'</li><li>'NENHUMANT'</li><li>'CIRURANT'</li><li>'RADIOANT'</li><li>'QUIMIOANT'</li><li>'HORMOANT'</li><li>'TMOANT'</li><li>'IMUNOANT'</li><li>'OUTROANT'</li><li>'NENHUMAPOS'</li><li>'CIRURAPOS'</li><li>'RADIOAPOS'</li><li>'QUIMIOAPOS'</li><li>'HORMOAPOS'</li><li>'TMOAPOS'</li><li>'IMUNOAPOS'</li><li>'OUTROAPOS'</li><li>'DTULTINFO'</li><li>'ULTINFO'</li><li>'CONSDIAG'</li><li>'TRATCONS'</li><li>'DIAGTRAT'</li><li>'ANODIAG'</li><li>'CICI'</li><li>'CICIGRUP'</li><li>'CICISUBGRU'</li><li>'FAIXAETAR'</li><li>'LATERALI'</li><li>'INSTORIG'</li><li>'DRS'</li><li>'RRAS'</li><li>'PERDASEG'</li><li>'ERRO'</li><li>'DTRECIDIVA'</li><li>'RECNENHUM'</li><li>'RECLOCAL'</li><li>'RECREGIO'</li><li>'RECDIST'</li><li>'REC01'</li><li>'REC02'</li><li>'REC03'</li><li>'REC04'</li><li>'IBGEATEN'</li><li>'CIDO'</li><li>'DSCCIDO'</li><li>'HABILIT'</li><li>'HABIT11'</li><li>'HABILIT1'</li><li>'HABILIT2'</li><li>'CIDADEH'</li></ol>\n"
            ],
            "text/markdown": "1. 'ESCOLARI'\n2. 'IDADE'\n3. 'SEXO'\n4. 'UFNASC'\n5. 'UFRESID'\n6. 'IBGE'\n7. 'CIDADE'\n8. 'CATEATEND'\n9. 'DTCONSULT'\n10. 'CLINICA'\n11. 'DIAGPREV'\n12. 'DTDIAG'\n13. 'BASEDIAG'\n14. 'TOPO'\n15. 'TOPOGRUP'\n16. 'DESCTOPO'\n17. 'MORFO'\n18. 'DESCMORFO'\n19. 'EC'\n20. 'ECGRUP'\n21. 'T'\n22. 'N'\n23. 'M'\n24. 'PT'\n25. 'PN'\n26. 'PM'\n27. 'S'\n28. 'G'\n29. 'LOCALTNM'\n30. 'IDMITOTIC'\n31. 'PSA'\n32. 'GLEASON'\n33. 'OUTRACLA'\n34. 'META01'\n35. 'META02'\n36. 'META03'\n37. 'META04'\n38. 'DTTRAT'\n39. 'NAOTRAT'\n40. 'TRATAMENTO'\n41. 'TRATHOSP'\n42. 'TRATFANTES'\n43. 'TRATFAPOS'\n44. 'NENHUM'\n45. 'CIRURGIA'\n46. 'RADIO'\n47. 'QUIMIO'\n48. 'HORMONIO'\n49. 'TMO'\n50. 'IMUNO'\n51. 'OUTROS'\n52. 'NENHUMANT'\n53. 'CIRURANT'\n54. 'RADIOANT'\n55. 'QUIMIOANT'\n56. 'HORMOANT'\n57. 'TMOANT'\n58. 'IMUNOANT'\n59. 'OUTROANT'\n60. 'NENHUMAPOS'\n61. 'CIRURAPOS'\n62. 'RADIOAPOS'\n63. 'QUIMIOAPOS'\n64. 'HORMOAPOS'\n65. 'TMOAPOS'\n66. 'IMUNOAPOS'\n67. 'OUTROAPOS'\n68. 'DTULTINFO'\n69. 'ULTINFO'\n70. 'CONSDIAG'\n71. 'TRATCONS'\n72. 'DIAGTRAT'\n73. 'ANODIAG'\n74. 'CICI'\n75. 'CICIGRUP'\n76. 'CICISUBGRU'\n77. 'FAIXAETAR'\n78. 'LATERALI'\n79. 'INSTORIG'\n80. 'DRS'\n81. 'RRAS'\n82. 'PERDASEG'\n83. 'ERRO'\n84. 'DTRECIDIVA'\n85. 'RECNENHUM'\n86. 'RECLOCAL'\n87. 'RECREGIO'\n88. 'RECDIST'\n89. 'REC01'\n90. 'REC02'\n91. 'REC03'\n92. 'REC04'\n93. 'IBGEATEN'\n94. 'CIDO'\n95. 'DSCCIDO'\n96. 'HABILIT'\n97. 'HABIT11'\n98. 'HABILIT1'\n99. 'HABILIT2'\n100. 'CIDADEH'\n\n\n",
            "text/latex": "\\begin{enumerate*}\n\\item 'ESCOLARI'\n\\item 'IDADE'\n\\item 'SEXO'\n\\item 'UFNASC'\n\\item 'UFRESID'\n\\item 'IBGE'\n\\item 'CIDADE'\n\\item 'CATEATEND'\n\\item 'DTCONSULT'\n\\item 'CLINICA'\n\\item 'DIAGPREV'\n\\item 'DTDIAG'\n\\item 'BASEDIAG'\n\\item 'TOPO'\n\\item 'TOPOGRUP'\n\\item 'DESCTOPO'\n\\item 'MORFO'\n\\item 'DESCMORFO'\n\\item 'EC'\n\\item 'ECGRUP'\n\\item 'T'\n\\item 'N'\n\\item 'M'\n\\item 'PT'\n\\item 'PN'\n\\item 'PM'\n\\item 'S'\n\\item 'G'\n\\item 'LOCALTNM'\n\\item 'IDMITOTIC'\n\\item 'PSA'\n\\item 'GLEASON'\n\\item 'OUTRACLA'\n\\item 'META01'\n\\item 'META02'\n\\item 'META03'\n\\item 'META04'\n\\item 'DTTRAT'\n\\item 'NAOTRAT'\n\\item 'TRATAMENTO'\n\\item 'TRATHOSP'\n\\item 'TRATFANTES'\n\\item 'TRATFAPOS'\n\\item 'NENHUM'\n\\item 'CIRURGIA'\n\\item 'RADIO'\n\\item 'QUIMIO'\n\\item 'HORMONIO'\n\\item 'TMO'\n\\item 'IMUNO'\n\\item 'OUTROS'\n\\item 'NENHUMANT'\n\\item 'CIRURANT'\n\\item 'RADIOANT'\n\\item 'QUIMIOANT'\n\\item 'HORMOANT'\n\\item 'TMOANT'\n\\item 'IMUNOANT'\n\\item 'OUTROANT'\n\\item 'NENHUMAPOS'\n\\item 'CIRURAPOS'\n\\item 'RADIOAPOS'\n\\item 'QUIMIOAPOS'\n\\item 'HORMOAPOS'\n\\item 'TMOAPOS'\n\\item 'IMUNOAPOS'\n\\item 'OUTROAPOS'\n\\item 'DTULTINFO'\n\\item 'ULTINFO'\n\\item 'CONSDIAG'\n\\item 'TRATCONS'\n\\item 'DIAGTRAT'\n\\item 'ANODIAG'\n\\item 'CICI'\n\\item 'CICIGRUP'\n\\item 'CICISUBGRU'\n\\item 'FAIXAETAR'\n\\item 'LATERALI'\n\\item 'INSTORIG'\n\\item 'DRS'\n\\item 'RRAS'\n\\item 'PERDASEG'\n\\item 'ERRO'\n\\item 'DTRECIDIVA'\n\\item 'RECNENHUM'\n\\item 'RECLOCAL'\n\\item 'RECREGIO'\n\\item 'RECDIST'\n\\item 'REC01'\n\\item 'REC02'\n\\item 'REC03'\n\\item 'REC04'\n\\item 'IBGEATEN'\n\\item 'CIDO'\n\\item 'DSCCIDO'\n\\item 'HABILIT'\n\\item 'HABIT11'\n\\item 'HABILIT1'\n\\item 'HABILIT2'\n\\item 'CIDADEH'\n\\end{enumerate*}\n",
            "text/plain": [
              "  [1] \"ESCOLARI\"   \"IDADE\"      \"SEXO\"       \"UFNASC\"     \"UFRESID\"   \n",
              "  [6] \"IBGE\"       \"CIDADE\"     \"CATEATEND\"  \"DTCONSULT\"  \"CLINICA\"   \n",
              " [11] \"DIAGPREV\"   \"DTDIAG\"     \"BASEDIAG\"   \"TOPO\"       \"TOPOGRUP\"  \n",
              " [16] \"DESCTOPO\"   \"MORFO\"      \"DESCMORFO\"  \"EC\"         \"ECGRUP\"    \n",
              " [21] \"T\"          \"N\"          \"M\"          \"PT\"         \"PN\"        \n",
              " [26] \"PM\"         \"S\"          \"G\"          \"LOCALTNM\"   \"IDMITOTIC\" \n",
              " [31] \"PSA\"        \"GLEASON\"    \"OUTRACLA\"   \"META01\"     \"META02\"    \n",
              " [36] \"META03\"     \"META04\"     \"DTTRAT\"     \"NAOTRAT\"    \"TRATAMENTO\"\n",
              " [41] \"TRATHOSP\"   \"TRATFANTES\" \"TRATFAPOS\"  \"NENHUM\"     \"CIRURGIA\"  \n",
              " [46] \"RADIO\"      \"QUIMIO\"     \"HORMONIO\"   \"TMO\"        \"IMUNO\"     \n",
              " [51] \"OUTROS\"     \"NENHUMANT\"  \"CIRURANT\"   \"RADIOANT\"   \"QUIMIOANT\" \n",
              " [56] \"HORMOANT\"   \"TMOANT\"     \"IMUNOANT\"   \"OUTROANT\"   \"NENHUMAPOS\"\n",
              " [61] \"CIRURAPOS\"  \"RADIOAPOS\"  \"QUIMIOAPOS\" \"HORMOAPOS\"  \"TMOAPOS\"   \n",
              " [66] \"IMUNOAPOS\"  \"OUTROAPOS\"  \"DTULTINFO\"  \"ULTINFO\"    \"CONSDIAG\"  \n",
              " [71] \"TRATCONS\"   \"DIAGTRAT\"   \"ANODIAG\"    \"CICI\"       \"CICIGRUP\"  \n",
              " [76] \"CICISUBGRU\" \"FAIXAETAR\"  \"LATERALI\"   \"INSTORIG\"   \"DRS\"       \n",
              " [81] \"RRAS\"       \"PERDASEG\"   \"ERRO\"       \"DTRECIDIVA\" \"RECNENHUM\" \n",
              " [86] \"RECLOCAL\"   \"RECREGIO\"   \"RECDIST\"    \"REC01\"      \"REC02\"     \n",
              " [91] \"REC03\"      \"REC04\"      \"IBGEATEN\"   \"CIDO\"       \"DSCCIDO\"   \n",
              " [96] \"HABILIT\"    \"HABIT11\"    \"HABILIT1\"   \"HABILIT2\"   \"CIDADEH\"   "
            ]
          },
          "metadata": {}
        }
      ]
    },
    {
      "cell_type": "code",
      "source": [
        "anos$DESCTOPO = NULL\n",
        "anos$OUTRACLA = NULL\n",
        "anos$CICI = NULL \n",
        "anos$CICIGRUP = NULL\n",
        "anos$CICISUBGRU = NULL\n",
        "anos$INSTORIG = NULL\n",
        "anos$DRS = NULL\n",
        "anos$RRAS = NULL\n",
        "anos$DSCINST = NULL\n",
        "anos$IBGEATEN = NULL\n",
        "anos$HABILIT = NULL\n",
        "anos$HABIT11 = NULL\n",
        "anos$HABILIT1 = NULL\n",
        "anos$HABILIT2 = NULL\n",
        "anos$CIDADEH = NULL\n"
      ],
      "metadata": {
        "id": "EzUC5U3aWk2k"
      },
      "execution_count": 44,
      "outputs": []
    },
    {
      "cell_type": "code",
      "source": [
        "anos <- filter(anos, IDADE > 12)"
      ],
      "metadata": {
        "id": "GKws5mDNWqW5"
      },
      "execution_count": 45,
      "outputs": []
    },
    {
      "cell_type": "code",
      "source": [
        "summary(anos)"
      ],
      "metadata": {
        "colab": {
          "base_uri": "https://localhost:8080/",
          "height": 1000
        },
        "id": "K22OQZA_Wtu_",
        "outputId": "d092e7c4-a318-404f-f5ea-905012c63470"
      },
      "execution_count": null,
      "outputs": [
        {
          "output_type": "display_data",
          "data": {
            "text/plain": [
              "    ESCOLARI         IDADE             SEXO           UFNASC     \n",
              " Min.   :1.000   Min.   : 87.00   Min.   :1.000   SP     :15794  \n",
              " 1st Qu.:2.000   1st Qu.: 88.00   1st Qu.:1.000   MG     : 1870  \n",
              " Median :2.000   Median : 90.00   Median :2.000   SI     : 1800  \n",
              " Mean   :4.027   Mean   : 90.48   Mean   :1.572   BA     :  907  \n",
              " 3rd Qu.:9.000   3rd Qu.: 92.00   3rd Qu.:2.000   OP     :  861  \n",
              " Max.   :9.000   Max.   :113.00   Max.   :2.000   PE     :  382  \n",
              "                                                  (Other): 1504  \n",
              "    UFRESID           IBGE                         CIDADE        CATEATEND   \n",
              " SP     :22073   3550308: 6975   SAO PAULO            : 6975   Min.   :1.00  \n",
              " MG     :  616   3507506:  573   BOTUCATU             :  573   1st Qu.:2.00  \n",
              " GO     :  140   3525300:  521   JAU                  :  521   Median :2.00  \n",
              " MS     :  134   3549805:  477   SAO JOSE DO RIO PRETO:  477   Mean   :4.17  \n",
              " MT     :   49   3543402:  410   RIBEIRAO PRETO       :  410   3rd Qu.:9.00  \n",
              " PR     :   16   3505500:  381   BARRETOS             :  381   Max.   :9.00  \n",
              " (Other):   90   (Other):13781   (Other)              :13781                 \n",
              "   DTCONSULT             CLINICA         DIAGPREV         DTDIAG          \n",
              " Min.   :1999-02-25   Min.   : 1.00   Min.   :1.000   Min.   :2000-01-03  \n",
              " 1st Qu.:2008-02-07   1st Qu.:10.00   1st Qu.:1.000   1st Qu.:2008-02-22  \n",
              " Median :2013-09-24   Median :23.00   Median :1.000   Median :2013-10-15  \n",
              " Mean   :2012-10-11   Mean   :18.71   Mean   :1.207   Mean   :2012-11-03  \n",
              " 3rd Qu.:2017-10-18   3rd Qu.:24.00   3rd Qu.:1.000   3rd Qu.:2017-11-07  \n",
              " Max.   :2022-09-03   Max.   :99.00   Max.   :2.000   Max.   :2022-08-04  \n",
              "                                                                          \n",
              "    BASEDIAG          TOPO         TOPOGRUP         MORFO     \n",
              " Min.   :1.000   C443   :6520   C44    :14229   80703  :6584  \n",
              " 1st Qu.:3.000   C446   :2074   C50    : 1506   80903  :4299  \n",
              " Median :3.000   C444   :1317   C61    : 1124   81403  :2048  \n",
              " Mean   :2.984   C447   :1181   C16    :  665   80973  :1840  \n",
              " 3rd Qu.:3.000   C619   :1124   C18    :  659   85003  :1053  \n",
              " Max.   :9.000   C445   :1027   C67    :  632   80702  : 835  \n",
              "                 (Other):9875   (Other): 4303   (Other):6459  \n",
              "                               DESCMORFO          EC        ECGRUP     \n",
              " CARCINOMA ESCAMOCELULAR SOE        :6404   I      :10123   0  : 1330  \n",
              " CARCINOMA BASOCELULAR SOE          :4299   II     : 2944   I  :10722  \n",
              " ADENOCARCINOMA SOE                 :2048   Y      : 1725   II : 4046  \n",
              " CARCINOMA BASOCELULAR NODULAR      :1840   IV     : 1500   III: 2019  \n",
              " CARCINOMA DUCTAL INFILTRANTE SOE   :1053   X      : 1343   IV : 1933  \n",
              " CARCINOMA ESCAMOCELULAR IN SITU SOE: 820   0      : 1227   X  : 1343  \n",
              " (Other)                            :6654   (Other): 4256   Y  : 1725  \n",
              "       T               N          M               PT              PN       \n",
              " 1      :10202   0      :16870   0 :18556   1      : 4235   0      : 6395  \n",
              " 2      : 3123   X      : 2640   1 : 1251   X      : 2642   X      : 2956  \n",
              " X      : 2573   Y      : 1725   1A:   79   2      : 1237   Y      :  576  \n",
              " Y      : 1725   1      : 1015   1B:  141   IS     :  592   1      :  305  \n",
              " 3      : 1605   2      :  456   1C:   22   Y      :  582   2      :  112  \n",
              " IS     : 1216   3      :  153   X : 1344   (Other): 1397   (Other):  194  \n",
              " (Other): 2674   (Other):  259   Y : 1725   NA's   :12433   NA's   :12580  \n",
              "       PM              S     G            LOCALTNM       IDMITOTIC    \n",
              " 0      : 6452   Min.   :8   1:   45   Min.   :1.000   Min.   :1.000  \n",
              " X      : 2750   1st Qu.:8   2:   56   1st Qu.:8.000   1st Qu.:8.000  \n",
              " Y      :  572   Median :8   3:   63   Median :8.000   Median :8.000  \n",
              " 1      :  200   Mean   :8   4:   50   Mean   :7.992   Mean   :7.999  \n",
              " < .    :   48   3rd Qu.:8   8:22732   3rd Qu.:8.000   3rd Qu.:8.000  \n",
              " (Other):   24   Max.   :8   9:  172   Max.   :9.000   Max.   :9.000  \n",
              " NA's   :13072                                                        \n",
              "      PSA           GLEASON          META01          META02     \n",
              " Min.   :1.000   Min.   :1.000   C22    :  352   C34    :   64  \n",
              " 1st Qu.:8.000   1st Qu.:8.000   C34    :  296   C41    :   62  \n",
              " Median :8.000   Median :8.000   C40    :  233   C22    :   46  \n",
              " Mean   :7.929   Mean   :7.934   C41    :  195   C77    :   43  \n",
              " 3rd Qu.:8.000   3rd Qu.:8.000   C77    :  191   C40    :   37  \n",
              " Max.   :9.000   Max.   :9.000   (Other):  376   (Other):  104  \n",
              "                                 NA's   :21475   NA's   :22762  \n",
              "     META03          META04          DTTRAT              NAOTRAT     \n",
              " C77    :   22   C34    :    4   Min.   :2000-01-04   Min.   :1.000  \n",
              " C34    :   14   C77    :    3   1st Qu.:2008-04-18   1st Qu.:8.000  \n",
              " C38    :   10   C49    :    2   Median :2014-01-13   Median :8.000  \n",
              " C41    :    9   C16    :    1   Mean   :2012-12-23   Mean   :7.643  \n",
              " C22    :    7   C22    :    1   3rd Qu.:2017-12-14   3rd Qu.:8.000  \n",
              " (Other):   24   (Other):    6   Max.   :2022-09-03   Max.   :9.000  \n",
              " NA's   :23032   NA's   :23101   NA's   :2884                        \n",
              "   TRATAMENTO       TRATHOSP     TRATFANTES TRATFAPOS     NENHUM      \n",
              " A      :14273   A      :14343   J:23118    A:   38   Min.   :0.0000  \n",
              " J      : 2885   J      : 2965              B:  210   1st Qu.:0.0000  \n",
              " I      : 2748   I      : 2695              C:   34   Median :0.0000  \n",
              " B      : 1407   B      : 1360              D:    3   Mean   :0.1282  \n",
              " C      :  705   C      :  752              F:    5   3rd Qu.:0.0000  \n",
              " D      :  534   D      :  479              I:  123   Max.   :1.0000  \n",
              " (Other):  566   (Other):  524              J:22705                   \n",
              "    CIRURGIA          RADIO            QUIMIO           HORMONIO     \n",
              " Min.   :0.0000   Min.   :0.0000   Min.   :0.00000   Min.   :0.0000  \n",
              " 1st Qu.:0.0000   1st Qu.:0.0000   1st Qu.:0.00000   1st Qu.:0.0000  \n",
              " Median :1.0000   Median :0.0000   Median :0.00000   Median :0.0000  \n",
              " Mean   :0.6939   Mean   :0.1101   Mean   :0.06826   Mean   :0.0715  \n",
              " 3rd Qu.:1.0000   3rd Qu.:0.0000   3rd Qu.:0.00000   3rd Qu.:0.0000  \n",
              " Max.   :1.0000   Max.   :1.0000   Max.   :1.00000   Max.   :1.0000  \n",
              "                                                                     \n",
              "      TMO                IMUNO              OUTROS          NENHUMANT     \n",
              " Min.   :0.0000000   Min.   :0.000000   Min.   :0.00000   Min.   :0.0000  \n",
              " 1st Qu.:0.0000000   1st Qu.:0.000000   1st Qu.:0.00000   1st Qu.:1.0000  \n",
              " Median :0.0000000   Median :0.000000   Median :0.00000   Median :1.0000  \n",
              " Mean   :0.0001298   Mean   :0.004715   Mean   :0.04559   Mean   :0.9997  \n",
              " 3rd Qu.:0.0000000   3rd Qu.:0.000000   3rd Qu.:0.00000   3rd Qu.:1.0000  \n",
              " Max.   :1.0000000   Max.   :1.000000   Max.   :1.00000   Max.   :1.0000  \n",
              "                                                                          \n",
              "    CIRURANT    RADIOANT   QUIMIOANT    HORMOANT     TMOANT     IMUNOANT\n",
              " Min.   :0   Min.   :0   Min.   :0   Min.   :0   Min.   :0   Min.   :0  \n",
              " 1st Qu.:0   1st Qu.:0   1st Qu.:0   1st Qu.:0   1st Qu.:0   1st Qu.:0  \n",
              " Median :0   Median :0   Median :0   Median :0   Median :0   Median :0  \n",
              " Mean   :0   Mean   :0   Mean   :0   Mean   :0   Mean   :0   Mean   :0  \n",
              " 3rd Qu.:0   3rd Qu.:0   3rd Qu.:0   3rd Qu.:0   3rd Qu.:0   3rd Qu.:0  \n",
              " Max.   :0   Max.   :0   Max.   :0   Max.   :0   Max.   :0   Max.   :0  \n",
              "                                                                        \n",
              "    OUTROANT   NENHUMAPOS       CIRURAPOS         RADIOAPOS       \n",
              " Min.   :0   Min.   :0.0000   Min.   :0.00000   Min.   :0.000000  \n",
              " 1st Qu.:0   1st Qu.:1.0000   1st Qu.:0.00000   1st Qu.:0.000000  \n",
              " Median :0   Median :1.0000   Median :0.00000   Median :0.000000  \n",
              " Mean   :0   Mean   :0.9682   Mean   :0.00199   Mean   :0.009733  \n",
              " 3rd Qu.:0   3rd Qu.:1.0000   3rd Qu.:0.00000   3rd Qu.:0.000000  \n",
              " Max.   :0   Max.   :1.0000   Max.   :1.00000   Max.   :1.000000  \n",
              "                                                                  \n",
              "   QUIMIOAPOS        HORMOAPOS           TMOAPOS    IMUNOAPOS        \n",
              " Min.   :0.00000   Min.   :0.000000   Min.   :0   Min.   :0.0000000  \n",
              " 1st Qu.:0.00000   1st Qu.:0.000000   1st Qu.:0   1st Qu.:0.0000000  \n",
              " Median :0.00000   Median :0.000000   Median :0   Median :0.0000000  \n",
              " Mean   :0.00186   Mean   :0.001298   Mean   :0   Mean   :0.0001298  \n",
              " 3rd Qu.:0.00000   3rd Qu.:0.000000   3rd Qu.:0   3rd Qu.:0.0000000  \n",
              " Max.   :1.00000   Max.   :1.000000   Max.   :0   Max.   :1.0000000  \n",
              "                                                                     \n",
              "   OUTROAPOS          DTULTINFO             ULTINFO         CONSDIAG    \n",
              " Min.   :0.000000   Min.   :2000-01-06   Min.   :1.000   Min.   :  0.0  \n",
              " 1st Qu.:0.000000   1st Qu.:2010-10-16   1st Qu.:2.000   1st Qu.:  2.0  \n",
              " Median :0.000000   Median :2015-11-11   Median :3.000   Median : 22.0  \n",
              " Mean   :0.003936   Mean   :2014-10-18   Mean   :2.899   Mean   : 43.2  \n",
              " 3rd Qu.:0.000000   3rd Qu.:2019-07-01   3rd Qu.:4.000   3rd Qu.: 53.0  \n",
              " Max.   :1.000000   Max.   :2022-09-08   Max.   :4.000   Max.   :966.0  \n",
              "                                                         NA's   :83     \n",
              "    TRATCONS         DIAGTRAT         ANODIAG     FAIXAETAR      LATERALI    \n",
              " Min.   :  0.00   Min.   :  0.00   Min.   :2000   70+:23118   Min.   :1.000  \n",
              " 1st Qu.:  8.00   1st Qu.:  0.00   1st Qu.:2008               1st Qu.:8.000  \n",
              " Median : 35.00   Median :  0.00   Median :2013               Median :8.000  \n",
              " Mean   : 58.57   Mean   : 38.15   Mean   :2012               Mean   :7.328  \n",
              " 3rd Qu.: 76.00   3rd Qu.: 51.00   3rd Qu.:2017               3rd Qu.:8.000  \n",
              " Max.   :998.00   Max.   :993.00   Max.   :2022               Max.   :8.000  \n",
              " NA's   :2952     NA's   :2903                                               \n",
              "    PERDASEG            ERRO     DTRECIDIVA           RECNENHUM     \n",
              " Min.   :0.00000   Min.   :0   Min.   :2000-08-29   Min.   :0.0000  \n",
              " 1st Qu.:0.00000   1st Qu.:0   1st Qu.:2008-03-14   1st Qu.:1.0000  \n",
              " Median :0.00000   Median :0   Median :2013-07-24   Median :1.0000  \n",
              " Mean   :0.05117   Mean   :0   Mean   :2012-10-30   Mean   :0.9689  \n",
              " 3rd Qu.:0.00000   3rd Qu.:0   3rd Qu.:2017-06-29   3rd Qu.:1.0000  \n",
              " Max.   :1.00000   Max.   :0   Max.   :2022-07-13   Max.   :1.0000  \n",
              "                               NA's   :22298                        \n",
              "    RECLOCAL          RECREGIO          RECDIST             REC01      \n",
              " Min.   :0.00000   Min.   :0.00000   Min.   :0.000000   C34    :  101  \n",
              " 1st Qu.:0.00000   1st Qu.:0.00000   1st Qu.:0.000000   C77    :   61  \n",
              " Median :0.00000   Median :0.00000   Median :0.000000   C40    :   59  \n",
              " Mean   :0.01856   Mean   :0.00744   Mean   :0.007051   C22    :   43  \n",
              " 3rd Qu.:0.00000   3rd Qu.:0.00000   3rd Qu.:0.000000   C41    :   36  \n",
              " Max.   :1.00000   Max.   :1.00000   Max.   :1.000000   (Other):  107  \n",
              "                                                        NA's   :22711  \n",
              "     REC02           REC03        REC04            CIDO     \n",
              " C77    :   19   C41    :    4   C34 :    1   80703  :6584  \n",
              " C34    :   16   C64    :    3   C41 :    1   80903  :4299  \n",
              " C22    :   15   C40    :    2   C65 :    1   81403  :2048  \n",
              " C41    :   15   C48    :    2   NA's:23115   80973  :1840  \n",
              " C40    :   10   C71    :    2                85003  :1053  \n",
              " (Other):   23   (Other):    8                80702  : 835  \n",
              " NA's   :23020   NA's   :23097                (Other):6459  \n",
              "                                DSCCIDO    \n",
              " CARCINOMA ESCAMOCELULAR SOE        :6584  \n",
              " CARCINOMA BASOCELULAR SOE          :4299  \n",
              " ADENOCARCINOMA SOE                 :2048  \n",
              " CARCINOMA BASOCELULAR NODULAR      :1840  \n",
              " CARCINOMA DUCTAL INFILTRANTE SOE   :1053  \n",
              " CARCINOMA ESCAMOCELULAR IN SITU SOE: 835  \n",
              " (Other)                            :6459  "
            ]
          },
          "metadata": {}
        }
      ]
    },
    {
      "cell_type": "code",
      "source": [
        "unique(anos$UFNASC)\n",
        "unique(anos$UFRESID)\n",
        "unique(anos$TOPOGRUP)\n",
        "unique(anos$ANODIAG)\n",
        "unique(anos$FAIXAETAR)"
      ],
      "metadata": {
        "colab": {
          "base_uri": "https://localhost:8080/",
          "height": 227
        },
        "id": "bqbFACGhWwmB",
        "outputId": "255a7a0f-41fe-4b65-ca96-dccfab5bebc6"
      },
      "execution_count": null,
      "outputs": [
        {
          "output_type": "display_data",
          "data": {
            "text/html": [
              "<style>\n",
              ".list-inline {list-style: none; margin:0; padding: 0}\n",
              ".list-inline>li {display: inline-block}\n",
              ".list-inline>li:not(:last-child)::after {content: \"\\00b7\"; padding: 0 .5ex}\n",
              "</style>\n",
              "<ol class=list-inline><li>SP</li><li>BA</li><li>MG</li><li>PI</li><li>SI</li><li>CE</li><li>PE</li><li>PR</li><li>MS</li><li>RS</li><li>AL</li><li>OP</li><li>GO</li><li>RN</li><li>PB</li><li>SE</li><li>SC</li><li>PA</li><li>ES</li><li>RJ</li><li>MA</li><li>MT</li><li>AM</li><li>TO</li><li>DF</li><li>AC</li><li>RO</li></ol>\n",
              "\n",
              "<details>\n",
              "\t<summary style=display:list-item;cursor:pointer>\n",
              "\t\t<strong>Levels</strong>:\n",
              "\t</summary>\n",
              "\t<style>\n",
              "\t.list-inline {list-style: none; margin:0; padding: 0}\n",
              "\t.list-inline>li {display: inline-block}\n",
              "\t.list-inline>li:not(:last-child)::after {content: \"\\00b7\"; padding: 0 .5ex}\n",
              "\t</style>\n",
              "\t<ol class=list-inline><li>'AC'</li><li>'AL'</li><li>'AM'</li><li>'BA'</li><li>'CE'</li><li>'DF'</li><li>'ES'</li><li>'GO'</li><li>'MA'</li><li>'MG'</li><li>'MS'</li><li>'MT'</li><li>'OP'</li><li>'PA'</li><li>'PB'</li><li>'PE'</li><li>'PI'</li><li>'PR'</li><li>'RJ'</li><li>'RN'</li><li>'RO'</li><li>'RS'</li><li>'SC'</li><li>'SE'</li><li>'SI'</li><li>'SP'</li><li>'TO'</li></ol>\n",
              "</details>"
            ],
            "text/markdown": "1. SP\n2. BA\n3. MG\n4. PI\n5. SI\n6. CE\n7. PE\n8. PR\n9. MS\n10. RS\n11. AL\n12. OP\n13. GO\n14. RN\n15. PB\n16. SE\n17. SC\n18. PA\n19. ES\n20. RJ\n21. MA\n22. MT\n23. AM\n24. TO\n25. DF\n26. AC\n27. RO\n\n\n\n**Levels**: 1. 'AC'\n2. 'AL'\n3. 'AM'\n4. 'BA'\n5. 'CE'\n6. 'DF'\n7. 'ES'\n8. 'GO'\n9. 'MA'\n10. 'MG'\n11. 'MS'\n12. 'MT'\n13. 'OP'\n14. 'PA'\n15. 'PB'\n16. 'PE'\n17. 'PI'\n18. 'PR'\n19. 'RJ'\n20. 'RN'\n21. 'RO'\n22. 'RS'\n23. 'SC'\n24. 'SE'\n25. 'SI'\n26. 'SP'\n27. 'TO'\n\n\n",
            "text/latex": "\\begin{enumerate*}\n\\item SP\n\\item BA\n\\item MG\n\\item PI\n\\item SI\n\\item CE\n\\item PE\n\\item PR\n\\item MS\n\\item RS\n\\item AL\n\\item OP\n\\item GO\n\\item RN\n\\item PB\n\\item SE\n\\item SC\n\\item PA\n\\item ES\n\\item RJ\n\\item MA\n\\item MT\n\\item AM\n\\item TO\n\\item DF\n\\item AC\n\\item RO\n\\end{enumerate*}\n\n\\emph{Levels}: \\begin{enumerate*}\n\\item 'AC'\n\\item 'AL'\n\\item 'AM'\n\\item 'BA'\n\\item 'CE'\n\\item 'DF'\n\\item 'ES'\n\\item 'GO'\n\\item 'MA'\n\\item 'MG'\n\\item 'MS'\n\\item 'MT'\n\\item 'OP'\n\\item 'PA'\n\\item 'PB'\n\\item 'PE'\n\\item 'PI'\n\\item 'PR'\n\\item 'RJ'\n\\item 'RN'\n\\item 'RO'\n\\item 'RS'\n\\item 'SC'\n\\item 'SE'\n\\item 'SI'\n\\item 'SP'\n\\item 'TO'\n\\end{enumerate*}\n",
            "text/plain": [
              " [1] SP BA MG PI SI CE PE PR MS RS AL OP GO RN PB SE SC PA ES RJ MA MT AM TO DF\n",
              "[26] AC RO\n",
              "27 Levels: AC AL AM BA CE DF ES GO MA MG MS MT OP PA PB PE PI PR RJ RN ... TO"
            ]
          },
          "metadata": {}
        },
        {
          "output_type": "display_data",
          "data": {
            "text/html": [
              "<style>\n",
              ".list-inline {list-style: none; margin:0; padding: 0}\n",
              ".list-inline>li {display: inline-block}\n",
              ".list-inline>li:not(:last-child)::after {content: \"\\00b7\"; padding: 0 .5ex}\n",
              "</style>\n",
              "<ol class=list-inline><li>SP</li><li>MG</li><li>GO</li><li>PR</li><li>OP</li><li>MS</li><li>MT</li><li>RJ</li><li>DF</li><li>CE</li><li>PE</li><li>SC</li><li>BA</li><li>RS</li><li>RO</li><li>ES</li><li>PA</li><li>MA</li><li>AC</li><li>AM</li><li>SE</li><li>TO</li><li>AL</li><li>RN</li><li>PB</li></ol>\n",
              "\n",
              "<details>\n",
              "\t<summary style=display:list-item;cursor:pointer>\n",
              "\t\t<strong>Levels</strong>:\n",
              "\t</summary>\n",
              "\t<style>\n",
              "\t.list-inline {list-style: none; margin:0; padding: 0}\n",
              "\t.list-inline>li {display: inline-block}\n",
              "\t.list-inline>li:not(:last-child)::after {content: \"\\00b7\"; padding: 0 .5ex}\n",
              "\t</style>\n",
              "\t<ol class=list-inline><li>'AC'</li><li>'AL'</li><li>'AM'</li><li>'BA'</li><li>'CE'</li><li>'DF'</li><li>'ES'</li><li>'GO'</li><li>'MA'</li><li>'MG'</li><li>'MS'</li><li>'MT'</li><li>'OP'</li><li>'PA'</li><li>'PB'</li><li>'PE'</li><li>'PR'</li><li>'RJ'</li><li>'RN'</li><li>'RO'</li><li>'RS'</li><li>'SC'</li><li>'SE'</li><li>'SP'</li><li>'TO'</li></ol>\n",
              "</details>"
            ],
            "text/markdown": "1. SP\n2. MG\n3. GO\n4. PR\n5. OP\n6. MS\n7. MT\n8. RJ\n9. DF\n10. CE\n11. PE\n12. SC\n13. BA\n14. RS\n15. RO\n16. ES\n17. PA\n18. MA\n19. AC\n20. AM\n21. SE\n22. TO\n23. AL\n24. RN\n25. PB\n\n\n\n**Levels**: 1. 'AC'\n2. 'AL'\n3. 'AM'\n4. 'BA'\n5. 'CE'\n6. 'DF'\n7. 'ES'\n8. 'GO'\n9. 'MA'\n10. 'MG'\n11. 'MS'\n12. 'MT'\n13. 'OP'\n14. 'PA'\n15. 'PB'\n16. 'PE'\n17. 'PR'\n18. 'RJ'\n19. 'RN'\n20. 'RO'\n21. 'RS'\n22. 'SC'\n23. 'SE'\n24. 'SP'\n25. 'TO'\n\n\n",
            "text/latex": "\\begin{enumerate*}\n\\item SP\n\\item MG\n\\item GO\n\\item PR\n\\item OP\n\\item MS\n\\item MT\n\\item RJ\n\\item DF\n\\item CE\n\\item PE\n\\item SC\n\\item BA\n\\item RS\n\\item RO\n\\item ES\n\\item PA\n\\item MA\n\\item AC\n\\item AM\n\\item SE\n\\item TO\n\\item AL\n\\item RN\n\\item PB\n\\end{enumerate*}\n\n\\emph{Levels}: \\begin{enumerate*}\n\\item 'AC'\n\\item 'AL'\n\\item 'AM'\n\\item 'BA'\n\\item 'CE'\n\\item 'DF'\n\\item 'ES'\n\\item 'GO'\n\\item 'MA'\n\\item 'MG'\n\\item 'MS'\n\\item 'MT'\n\\item 'OP'\n\\item 'PA'\n\\item 'PB'\n\\item 'PE'\n\\item 'PR'\n\\item 'RJ'\n\\item 'RN'\n\\item 'RO'\n\\item 'RS'\n\\item 'SC'\n\\item 'SE'\n\\item 'SP'\n\\item 'TO'\n\\end{enumerate*}\n",
            "text/plain": [
              " [1] SP MG GO PR OP MS MT RJ DF CE PE SC BA RS RO ES PA MA AC AM SE TO AL RN PB\n",
              "25 Levels: AC AL AM BA CE DF ES GO MA MG MS MT OP PA PB PE PR RJ RN RO ... TO"
            ]
          },
          "metadata": {}
        },
        {
          "output_type": "display_data",
          "data": {
            "text/html": [
              "<style>\n",
              ".list-inline {list-style: none; margin:0; padding: 0}\n",
              ".list-inline>li {display: inline-block}\n",
              ".list-inline>li:not(:last-child)::after {content: \"\\00b7\"; padding: 0 .5ex}\n",
              "</style>\n",
              "<ol class=list-inline><li>C44</li><li>C77</li><li>C67</li><li>C20</li><li>C00</li><li>C04</li><li>C16</li><li>C76</li><li>C61</li><li>C32</li><li>C50</li><li>C80</li><li>C73</li><li>C42</li><li>C15</li><li>C51</li><li>C07</li><li>C18</li><li>C55</li><li>C03</li><li>C56</li><li>C05</li><li>C53</li><li>C71</li><li>C60</li><li>C09</li><li>C34</li><li>C19</li><li>C10</li><li>C48</li><li>C24</li><li>C25</li><li>C69</li><li>C02</li><li>C08</li><li>C23</li><li>C06</li><li>C21</li><li>C11</li><li>C49</li><li>C54</li><li>C41</li><li>C17</li><li>C01</li><li>C64</li><li>C38</li><li>C13</li><li>C52</li><li>C30</li><li>C31</li><li>C12</li><li>C22</li><li>C65</li><li>C40</li><li>C66</li><li>C68</li><li>C26</li><li>C57</li><li>C63</li><li>C62</li><li>C72</li><li>C37</li><li>C14</li><li>C70</li></ol>\n",
              "\n",
              "<details>\n",
              "\t<summary style=display:list-item;cursor:pointer>\n",
              "\t\t<strong>Levels</strong>:\n",
              "\t</summary>\n",
              "\t<style>\n",
              "\t.list-inline {list-style: none; margin:0; padding: 0}\n",
              "\t.list-inline>li {display: inline-block}\n",
              "\t.list-inline>li:not(:last-child)::after {content: \"\\00b7\"; padding: 0 .5ex}\n",
              "\t</style>\n",
              "\t<ol class=list-inline><li>'C00'</li><li>'C01'</li><li>'C02'</li><li>'C03'</li><li>'C04'</li><li>'C05'</li><li>'C06'</li><li>'C07'</li><li>'C08'</li><li>'C09'</li><li>'C10'</li><li>'C11'</li><li>'C12'</li><li>'C13'</li><li>'C14'</li><li>'C15'</li><li>'C16'</li><li>'C17'</li><li>'C18'</li><li>'C19'</li><li>'C20'</li><li>'C21'</li><li>'C22'</li><li>'C23'</li><li>'C24'</li><li>'C25'</li><li>'C26'</li><li>'C30'</li><li>'C31'</li><li>'C32'</li><li>'C34'</li><li>'C37'</li><li>'C38'</li><li>'C40'</li><li>'C41'</li><li>'C42'</li><li>'C44'</li><li>'C48'</li><li>'C49'</li><li>'C50'</li><li>'C51'</li><li>'C52'</li><li>'C53'</li><li>'C54'</li><li>'C55'</li><li>'C56'</li><li>'C57'</li><li>'C60'</li><li>'C61'</li><li>'C62'</li><li>'C63'</li><li>'C64'</li><li>'C65'</li><li>'C66'</li><li>'C67'</li><li>'C68'</li><li>'C69'</li><li>'C70'</li><li>'C71'</li><li>'C72'</li><li>'C73'</li><li>'C76'</li><li>'C77'</li><li>'C80'</li></ol>\n",
              "</details>"
            ],
            "text/markdown": "1. C44\n2. C77\n3. C67\n4. C20\n5. C00\n6. C04\n7. C16\n8. C76\n9. C61\n10. C32\n11. C50\n12. C80\n13. C73\n14. C42\n15. C15\n16. C51\n17. C07\n18. C18\n19. C55\n20. C03\n21. C56\n22. C05\n23. C53\n24. C71\n25. C60\n26. C09\n27. C34\n28. C19\n29. C10\n30. C48\n31. C24\n32. C25\n33. C69\n34. C02\n35. C08\n36. C23\n37. C06\n38. C21\n39. C11\n40. C49\n41. C54\n42. C41\n43. C17\n44. C01\n45. C64\n46. C38\n47. C13\n48. C52\n49. C30\n50. C31\n51. C12\n52. C22\n53. C65\n54. C40\n55. C66\n56. C68\n57. C26\n58. C57\n59. C63\n60. C62\n61. C72\n62. C37\n63. C14\n64. C70\n\n\n\n**Levels**: 1. 'C00'\n2. 'C01'\n3. 'C02'\n4. 'C03'\n5. 'C04'\n6. 'C05'\n7. 'C06'\n8. 'C07'\n9. 'C08'\n10. 'C09'\n11. 'C10'\n12. 'C11'\n13. 'C12'\n14. 'C13'\n15. 'C14'\n16. 'C15'\n17. 'C16'\n18. 'C17'\n19. 'C18'\n20. 'C19'\n21. 'C20'\n22. 'C21'\n23. 'C22'\n24. 'C23'\n25. 'C24'\n26. 'C25'\n27. 'C26'\n28. 'C30'\n29. 'C31'\n30. 'C32'\n31. 'C34'\n32. 'C37'\n33. 'C38'\n34. 'C40'\n35. 'C41'\n36. 'C42'\n37. 'C44'\n38. 'C48'\n39. 'C49'\n40. 'C50'\n41. 'C51'\n42. 'C52'\n43. 'C53'\n44. 'C54'\n45. 'C55'\n46. 'C56'\n47. 'C57'\n48. 'C60'\n49. 'C61'\n50. 'C62'\n51. 'C63'\n52. 'C64'\n53. 'C65'\n54. 'C66'\n55. 'C67'\n56. 'C68'\n57. 'C69'\n58. 'C70'\n59. 'C71'\n60. 'C72'\n61. 'C73'\n62. 'C76'\n63. 'C77'\n64. 'C80'\n\n\n",
            "text/latex": "\\begin{enumerate*}\n\\item C44\n\\item C77\n\\item C67\n\\item C20\n\\item C00\n\\item C04\n\\item C16\n\\item C76\n\\item C61\n\\item C32\n\\item C50\n\\item C80\n\\item C73\n\\item C42\n\\item C15\n\\item C51\n\\item C07\n\\item C18\n\\item C55\n\\item C03\n\\item C56\n\\item C05\n\\item C53\n\\item C71\n\\item C60\n\\item C09\n\\item C34\n\\item C19\n\\item C10\n\\item C48\n\\item C24\n\\item C25\n\\item C69\n\\item C02\n\\item C08\n\\item C23\n\\item C06\n\\item C21\n\\item C11\n\\item C49\n\\item C54\n\\item C41\n\\item C17\n\\item C01\n\\item C64\n\\item C38\n\\item C13\n\\item C52\n\\item C30\n\\item C31\n\\item C12\n\\item C22\n\\item C65\n\\item C40\n\\item C66\n\\item C68\n\\item C26\n\\item C57\n\\item C63\n\\item C62\n\\item C72\n\\item C37\n\\item C14\n\\item C70\n\\end{enumerate*}\n\n\\emph{Levels}: \\begin{enumerate*}\n\\item 'C00'\n\\item 'C01'\n\\item 'C02'\n\\item 'C03'\n\\item 'C04'\n\\item 'C05'\n\\item 'C06'\n\\item 'C07'\n\\item 'C08'\n\\item 'C09'\n\\item 'C10'\n\\item 'C11'\n\\item 'C12'\n\\item 'C13'\n\\item 'C14'\n\\item 'C15'\n\\item 'C16'\n\\item 'C17'\n\\item 'C18'\n\\item 'C19'\n\\item 'C20'\n\\item 'C21'\n\\item 'C22'\n\\item 'C23'\n\\item 'C24'\n\\item 'C25'\n\\item 'C26'\n\\item 'C30'\n\\item 'C31'\n\\item 'C32'\n\\item 'C34'\n\\item 'C37'\n\\item 'C38'\n\\item 'C40'\n\\item 'C41'\n\\item 'C42'\n\\item 'C44'\n\\item 'C48'\n\\item 'C49'\n\\item 'C50'\n\\item 'C51'\n\\item 'C52'\n\\item 'C53'\n\\item 'C54'\n\\item 'C55'\n\\item 'C56'\n\\item 'C57'\n\\item 'C60'\n\\item 'C61'\n\\item 'C62'\n\\item 'C63'\n\\item 'C64'\n\\item 'C65'\n\\item 'C66'\n\\item 'C67'\n\\item 'C68'\n\\item 'C69'\n\\item 'C70'\n\\item 'C71'\n\\item 'C72'\n\\item 'C73'\n\\item 'C76'\n\\item 'C77'\n\\item 'C80'\n\\end{enumerate*}\n",
            "text/plain": [
              " [1] C44 C77 C67 C20 C00 C04 C16 C76 C61 C32 C50 C80 C73 C42 C15 C51 C07 C18 C55\n",
              "[20] C03 C56 C05 C53 C71 C60 C09 C34 C19 C10 C48 C24 C25 C69 C02 C08 C23 C06 C21\n",
              "[39] C11 C49 C54 C41 C17 C01 C64 C38 C13 C52 C30 C31 C12 C22 C65 C40 C66 C68 C26\n",
              "[58] C57 C63 C62 C72 C37 C14 C70\n",
              "64 Levels: C00 C01 C02 C03 C04 C05 C06 C07 C08 C09 C10 C11 C12 C13 C14 ... C80"
            ]
          },
          "metadata": {}
        },
        {
          "output_type": "display_data",
          "data": {
            "text/html": [
              "<style>\n",
              ".list-inline {list-style: none; margin:0; padding: 0}\n",
              ".list-inline>li {display: inline-block}\n",
              ".list-inline>li:not(:last-child)::after {content: \"\\00b7\"; padding: 0 .5ex}\n",
              "</style>\n",
              "<ol class=list-inline><li>2017</li><li>2019</li><li>2011</li><li>2020</li><li>2021</li><li>2005</li><li>2007</li><li>2015</li><li>2016</li><li>2010</li><li>2012</li><li>2014</li><li>2004</li><li>2008</li><li>2009</li><li>2001</li><li>2002</li><li>2003</li><li>2013</li><li>2000</li><li>2018</li><li>2022</li><li>2006</li></ol>\n"
            ],
            "text/markdown": "1. 2017\n2. 2019\n3. 2011\n4. 2020\n5. 2021\n6. 2005\n7. 2007\n8. 2015\n9. 2016\n10. 2010\n11. 2012\n12. 2014\n13. 2004\n14. 2008\n15. 2009\n16. 2001\n17. 2002\n18. 2003\n19. 2013\n20. 2000\n21. 2018\n22. 2022\n23. 2006\n\n\n",
            "text/latex": "\\begin{enumerate*}\n\\item 2017\n\\item 2019\n\\item 2011\n\\item 2020\n\\item 2021\n\\item 2005\n\\item 2007\n\\item 2015\n\\item 2016\n\\item 2010\n\\item 2012\n\\item 2014\n\\item 2004\n\\item 2008\n\\item 2009\n\\item 2001\n\\item 2002\n\\item 2003\n\\item 2013\n\\item 2000\n\\item 2018\n\\item 2022\n\\item 2006\n\\end{enumerate*}\n",
            "text/plain": [
              " [1] 2017 2019 2011 2020 2021 2005 2007 2015 2016 2010 2012 2014 2004 2008 2009\n",
              "[16] 2001 2002 2003 2013 2000 2018 2022 2006"
            ]
          },
          "metadata": {}
        },
        {
          "output_type": "display_data",
          "data": {
            "text/html": [
              "70+\n",
              "<details>\n",
              "\t<summary style=display:list-item;cursor:pointer>\n",
              "\t\t<strong>Levels</strong>:\n",
              "\t</summary>\n",
              "\t'70+'\n",
              "</details>"
            ],
            "text/markdown": "70+\n**Levels**: '70+'",
            "text/latex": "70+\n\\emph{Levels}: '70+'",
            "text/plain": [
              "[1] 70+\n",
              "Levels: 70+"
            ]
          },
          "metadata": {}
        }
      ]
    },
    {
      "cell_type": "code",
      "source": [
        "round(colSums(is.na(anos))*100/nrow(anos), 2)"
      ],
      "metadata": {
        "colab": {
          "base_uri": "https://localhost:8080/",
          "height": 260
        },
        "id": "H7tNWyWaW5Kp",
        "outputId": "67ec2f6f-db66-429a-ba3c-8b43d5ca47de"
      },
      "execution_count": null,
      "outputs": [
        {
          "output_type": "display_data",
          "data": {
            "text/html": [
              "<style>\n",
              ".dl-inline {width: auto; margin:0; padding: 0}\n",
              ".dl-inline>dt, .dl-inline>dd {float: none; width: auto; display: inline-block}\n",
              ".dl-inline>dt::after {content: \":\\0020\"; padding-right: .5ex}\n",
              ".dl-inline>dt:not(:first-of-type) {padding-left: .5ex}\n",
              "</style><dl class=dl-inline><dt>ESCOLARI</dt><dd>0</dd><dt>IDADE</dt><dd>0</dd><dt>SEXO</dt><dd>0</dd><dt>UFNASC</dt><dd>0</dd><dt>UFRESID</dt><dd>0</dd><dt>IBGE</dt><dd>0</dd><dt>CIDADE</dt><dd>0</dd><dt>CATEATEND</dt><dd>0</dd><dt>DTCONSULT</dt><dd>0</dd><dt>CLINICA</dt><dd>0</dd><dt>DIAGPREV</dt><dd>0</dd><dt>DTDIAG</dt><dd>0</dd><dt>BASEDIAG</dt><dd>0</dd><dt>TOPO</dt><dd>0</dd><dt>TOPOGRUP</dt><dd>0</dd><dt>MORFO</dt><dd>0</dd><dt>DESCMORFO</dt><dd>0</dd><dt>EC</dt><dd>0</dd><dt>ECGRUP</dt><dd>0</dd><dt>T</dt><dd>0</dd><dt>N</dt><dd>0</dd><dt>M</dt><dd>0</dd><dt>PT</dt><dd>53.78</dd><dt>PN</dt><dd>54.42</dd><dt>PM</dt><dd>56.54</dd><dt>S</dt><dd>0</dd><dt>G</dt><dd>0</dd><dt>LOCALTNM</dt><dd>0</dd><dt>IDMITOTIC</dt><dd>0</dd><dt>PSA</dt><dd>0</dd><dt>GLEASON</dt><dd>0</dd><dt>META01</dt><dd>92.89</dd><dt>META02</dt><dd>98.46</dd><dt>META03</dt><dd>99.63</dd><dt>META04</dt><dd>99.93</dd><dt>DTTRAT</dt><dd>12.48</dd><dt>NAOTRAT</dt><dd>0</dd><dt>TRATAMENTO</dt><dd>0</dd><dt>TRATHOSP</dt><dd>0</dd><dt>TRATFANTES</dt><dd>0</dd><dt>TRATFAPOS</dt><dd>0</dd><dt>NENHUM</dt><dd>0</dd><dt>CIRURGIA</dt><dd>0</dd><dt>RADIO</dt><dd>0</dd><dt>QUIMIO</dt><dd>0</dd><dt>HORMONIO</dt><dd>0</dd><dt>TMO</dt><dd>0</dd><dt>IMUNO</dt><dd>0</dd><dt>OUTROS</dt><dd>0</dd><dt>NENHUMANT</dt><dd>0</dd><dt>CIRURANT</dt><dd>0</dd><dt>RADIOANT</dt><dd>0</dd><dt>QUIMIOANT</dt><dd>0</dd><dt>HORMOANT</dt><dd>0</dd><dt>TMOANT</dt><dd>0</dd><dt>IMUNOANT</dt><dd>0</dd><dt>OUTROANT</dt><dd>0</dd><dt>NENHUMAPOS</dt><dd>0</dd><dt>CIRURAPOS</dt><dd>0</dd><dt>RADIOAPOS</dt><dd>0</dd><dt>QUIMIOAPOS</dt><dd>0</dd><dt>HORMOAPOS</dt><dd>0</dd><dt>TMOAPOS</dt><dd>0</dd><dt>IMUNOAPOS</dt><dd>0</dd><dt>OUTROAPOS</dt><dd>0</dd><dt>DTULTINFO</dt><dd>0</dd><dt>ULTINFO</dt><dd>0</dd><dt>CONSDIAG</dt><dd>0.36</dd><dt>TRATCONS</dt><dd>12.77</dd><dt>DIAGTRAT</dt><dd>12.56</dd><dt>ANODIAG</dt><dd>0</dd><dt>FAIXAETAR</dt><dd>0</dd><dt>LATERALI</dt><dd>0</dd><dt>PERDASEG</dt><dd>0</dd><dt>ERRO</dt><dd>0</dd><dt>DTRECIDIVA</dt><dd>96.45</dd><dt>RECNENHUM</dt><dd>0</dd><dt>RECLOCAL</dt><dd>0</dd><dt>RECREGIO</dt><dd>0</dd><dt>RECDIST</dt><dd>0</dd><dt>REC01</dt><dd>98.24</dd><dt>REC02</dt><dd>99.58</dd><dt>REC03</dt><dd>99.91</dd><dt>REC04</dt><dd>99.99</dd><dt>CIDO</dt><dd>0</dd><dt>DSCCIDO</dt><dd>0</dd></dl>\n"
            ],
            "text/markdown": "ESCOLARI\n:   0IDADE\n:   0SEXO\n:   0UFNASC\n:   0UFRESID\n:   0IBGE\n:   0CIDADE\n:   0CATEATEND\n:   0DTCONSULT\n:   0CLINICA\n:   0DIAGPREV\n:   0DTDIAG\n:   0BASEDIAG\n:   0TOPO\n:   0TOPOGRUP\n:   0MORFO\n:   0DESCMORFO\n:   0EC\n:   0ECGRUP\n:   0T\n:   0N\n:   0M\n:   0PT\n:   53.78PN\n:   54.42PM\n:   56.54S\n:   0G\n:   0LOCALTNM\n:   0IDMITOTIC\n:   0PSA\n:   0GLEASON\n:   0META01\n:   92.89META02\n:   98.46META03\n:   99.63META04\n:   99.93DTTRAT\n:   12.48NAOTRAT\n:   0TRATAMENTO\n:   0TRATHOSP\n:   0TRATFANTES\n:   0TRATFAPOS\n:   0NENHUM\n:   0CIRURGIA\n:   0RADIO\n:   0QUIMIO\n:   0HORMONIO\n:   0TMO\n:   0IMUNO\n:   0OUTROS\n:   0NENHUMANT\n:   0CIRURANT\n:   0RADIOANT\n:   0QUIMIOANT\n:   0HORMOANT\n:   0TMOANT\n:   0IMUNOANT\n:   0OUTROANT\n:   0NENHUMAPOS\n:   0CIRURAPOS\n:   0RADIOAPOS\n:   0QUIMIOAPOS\n:   0HORMOAPOS\n:   0TMOAPOS\n:   0IMUNOAPOS\n:   0OUTROAPOS\n:   0DTULTINFO\n:   0ULTINFO\n:   0CONSDIAG\n:   0.36TRATCONS\n:   12.77DIAGTRAT\n:   12.56ANODIAG\n:   0FAIXAETAR\n:   0LATERALI\n:   0PERDASEG\n:   0ERRO\n:   0DTRECIDIVA\n:   96.45RECNENHUM\n:   0RECLOCAL\n:   0RECREGIO\n:   0RECDIST\n:   0REC01\n:   98.24REC02\n:   99.58REC03\n:   99.91REC04\n:   99.99CIDO\n:   0DSCCIDO\n:   0\n\n",
            "text/latex": "\\begin{description*}\n\\item[ESCOLARI] 0\n\\item[IDADE] 0\n\\item[SEXO] 0\n\\item[UFNASC] 0\n\\item[UFRESID] 0\n\\item[IBGE] 0\n\\item[CIDADE] 0\n\\item[CATEATEND] 0\n\\item[DTCONSULT] 0\n\\item[CLINICA] 0\n\\item[DIAGPREV] 0\n\\item[DTDIAG] 0\n\\item[BASEDIAG] 0\n\\item[TOPO] 0\n\\item[TOPOGRUP] 0\n\\item[MORFO] 0\n\\item[DESCMORFO] 0\n\\item[EC] 0\n\\item[ECGRUP] 0\n\\item[T] 0\n\\item[N] 0\n\\item[M] 0\n\\item[PT] 53.78\n\\item[PN] 54.42\n\\item[PM] 56.54\n\\item[S] 0\n\\item[G] 0\n\\item[LOCALTNM] 0\n\\item[IDMITOTIC] 0\n\\item[PSA] 0\n\\item[GLEASON] 0\n\\item[META01] 92.89\n\\item[META02] 98.46\n\\item[META03] 99.63\n\\item[META04] 99.93\n\\item[DTTRAT] 12.48\n\\item[NAOTRAT] 0\n\\item[TRATAMENTO] 0\n\\item[TRATHOSP] 0\n\\item[TRATFANTES] 0\n\\item[TRATFAPOS] 0\n\\item[NENHUM] 0\n\\item[CIRURGIA] 0\n\\item[RADIO] 0\n\\item[QUIMIO] 0\n\\item[HORMONIO] 0\n\\item[TMO] 0\n\\item[IMUNO] 0\n\\item[OUTROS] 0\n\\item[NENHUMANT] 0\n\\item[CIRURANT] 0\n\\item[RADIOANT] 0\n\\item[QUIMIOANT] 0\n\\item[HORMOANT] 0\n\\item[TMOANT] 0\n\\item[IMUNOANT] 0\n\\item[OUTROANT] 0\n\\item[NENHUMAPOS] 0\n\\item[CIRURAPOS] 0\n\\item[RADIOAPOS] 0\n\\item[QUIMIOAPOS] 0\n\\item[HORMOAPOS] 0\n\\item[TMOAPOS] 0\n\\item[IMUNOAPOS] 0\n\\item[OUTROAPOS] 0\n\\item[DTULTINFO] 0\n\\item[ULTINFO] 0\n\\item[CONSDIAG] 0.36\n\\item[TRATCONS] 12.77\n\\item[DIAGTRAT] 12.56\n\\item[ANODIAG] 0\n\\item[FAIXAETAR] 0\n\\item[LATERALI] 0\n\\item[PERDASEG] 0\n\\item[ERRO] 0\n\\item[DTRECIDIVA] 96.45\n\\item[RECNENHUM] 0\n\\item[RECLOCAL] 0\n\\item[RECREGIO] 0\n\\item[RECDIST] 0\n\\item[REC01] 98.24\n\\item[REC02] 99.58\n\\item[REC03] 99.91\n\\item[REC04] 99.99\n\\item[CIDO] 0\n\\item[DSCCIDO] 0\n\\end{description*}\n",
            "text/plain": [
              "  ESCOLARI      IDADE       SEXO     UFNASC    UFRESID       IBGE     CIDADE \n",
              "      0.00       0.00       0.00       0.00       0.00       0.00       0.00 \n",
              " CATEATEND  DTCONSULT    CLINICA   DIAGPREV     DTDIAG   BASEDIAG       TOPO \n",
              "      0.00       0.00       0.00       0.00       0.00       0.00       0.00 \n",
              "  TOPOGRUP      MORFO  DESCMORFO         EC     ECGRUP          T          N \n",
              "      0.00       0.00       0.00       0.00       0.00       0.00       0.00 \n",
              "         M         PT         PN         PM          S          G   LOCALTNM \n",
              "      0.00      53.78      54.42      56.54       0.00       0.00       0.00 \n",
              " IDMITOTIC        PSA    GLEASON     META01     META02     META03     META04 \n",
              "      0.00       0.00       0.00      92.89      98.46      99.63      99.93 \n",
              "    DTTRAT    NAOTRAT TRATAMENTO   TRATHOSP TRATFANTES  TRATFAPOS     NENHUM \n",
              "     12.48       0.00       0.00       0.00       0.00       0.00       0.00 \n",
              "  CIRURGIA      RADIO     QUIMIO   HORMONIO        TMO      IMUNO     OUTROS \n",
              "      0.00       0.00       0.00       0.00       0.00       0.00       0.00 \n",
              " NENHUMANT   CIRURANT   RADIOANT  QUIMIOANT   HORMOANT     TMOANT   IMUNOANT \n",
              "      0.00       0.00       0.00       0.00       0.00       0.00       0.00 \n",
              "  OUTROANT NENHUMAPOS  CIRURAPOS  RADIOAPOS QUIMIOAPOS  HORMOAPOS    TMOAPOS \n",
              "      0.00       0.00       0.00       0.00       0.00       0.00       0.00 \n",
              " IMUNOAPOS  OUTROAPOS  DTULTINFO    ULTINFO   CONSDIAG   TRATCONS   DIAGTRAT \n",
              "      0.00       0.00       0.00       0.00       0.36      12.77      12.56 \n",
              "   ANODIAG  FAIXAETAR   LATERALI   PERDASEG       ERRO DTRECIDIVA  RECNENHUM \n",
              "      0.00       0.00       0.00       0.00       0.00      96.45       0.00 \n",
              "  RECLOCAL   RECREGIO    RECDIST      REC01      REC02      REC03      REC04 \n",
              "      0.00       0.00       0.00      98.24      99.58      99.91      99.99 \n",
              "      CIDO    DSCCIDO \n",
              "      0.00       0.00 "
            ]
          },
          "metadata": {}
        }
      ]
    },
    {
      "cell_type": "code",
      "source": [
        "sum(is.na(anos$DESCMORFO))\n",
        "sum(is.na(anos$PT))\n",
        "sum(is.na(anos$PN))\n",
        "sum(is.na(anos$PM))\n",
        "sum(is.na(anos$META01))\n",
        "sum(is.na(anos$META02))\n",
        "sum(is.na(anos$META03))\n",
        "sum(is.na(anos$META04))\n",
        "sum(is.na(anos$DTTRAT))\n",
        "sum(is.na(anos$CONSDIAG))\n",
        "sum(is.na(anos$TRATCONS))\n",
        "sum(is.na(anos$DIAGTRAT))\n",
        "sum(is.na(anos$REC01))\n",
        "sum(is.na(anos$REC02))\n",
        "sum(is.na(anos$REC03))\n",
        "sum(is.na(anos$REC04))\n"
      ],
      "metadata": {
        "colab": {
          "base_uri": "https://localhost:8080/",
          "height": 295
        },
        "id": "2qRLeR4yW8fX",
        "outputId": "94e3f213-fb1d-40c3-e185-e90c0d3b7dbf"
      },
      "execution_count": null,
      "outputs": [
        {
          "output_type": "display_data",
          "data": {
            "text/html": [
              "0"
            ],
            "text/markdown": "0",
            "text/latex": "0",
            "text/plain": [
              "[1] 0"
            ]
          },
          "metadata": {}
        },
        {
          "output_type": "display_data",
          "data": {
            "text/html": [
              "12433"
            ],
            "text/markdown": "12433",
            "text/latex": "12433",
            "text/plain": [
              "[1] 12433"
            ]
          },
          "metadata": {}
        },
        {
          "output_type": "display_data",
          "data": {
            "text/html": [
              "12580"
            ],
            "text/markdown": "12580",
            "text/latex": "12580",
            "text/plain": [
              "[1] 12580"
            ]
          },
          "metadata": {}
        },
        {
          "output_type": "display_data",
          "data": {
            "text/html": [
              "13072"
            ],
            "text/markdown": "13072",
            "text/latex": "13072",
            "text/plain": [
              "[1] 13072"
            ]
          },
          "metadata": {}
        },
        {
          "output_type": "display_data",
          "data": {
            "text/html": [
              "21475"
            ],
            "text/markdown": "21475",
            "text/latex": "21475",
            "text/plain": [
              "[1] 21475"
            ]
          },
          "metadata": {}
        },
        {
          "output_type": "display_data",
          "data": {
            "text/html": [
              "22762"
            ],
            "text/markdown": "22762",
            "text/latex": "22762",
            "text/plain": [
              "[1] 22762"
            ]
          },
          "metadata": {}
        },
        {
          "output_type": "display_data",
          "data": {
            "text/html": [
              "23032"
            ],
            "text/markdown": "23032",
            "text/latex": "23032",
            "text/plain": [
              "[1] 23032"
            ]
          },
          "metadata": {}
        },
        {
          "output_type": "display_data",
          "data": {
            "text/html": [
              "23101"
            ],
            "text/markdown": "23101",
            "text/latex": "23101",
            "text/plain": [
              "[1] 23101"
            ]
          },
          "metadata": {}
        },
        {
          "output_type": "display_data",
          "data": {
            "text/html": [
              "2884"
            ],
            "text/markdown": "2884",
            "text/latex": "2884",
            "text/plain": [
              "[1] 2884"
            ]
          },
          "metadata": {}
        },
        {
          "output_type": "display_data",
          "data": {
            "text/html": [
              "83"
            ],
            "text/markdown": "83",
            "text/latex": "83",
            "text/plain": [
              "[1] 83"
            ]
          },
          "metadata": {}
        },
        {
          "output_type": "display_data",
          "data": {
            "text/html": [
              "2952"
            ],
            "text/markdown": "2952",
            "text/latex": "2952",
            "text/plain": [
              "[1] 2952"
            ]
          },
          "metadata": {}
        },
        {
          "output_type": "display_data",
          "data": {
            "text/html": [
              "2903"
            ],
            "text/markdown": "2903",
            "text/latex": "2903",
            "text/plain": [
              "[1] 2903"
            ]
          },
          "metadata": {}
        },
        {
          "output_type": "display_data",
          "data": {
            "text/html": [
              "22711"
            ],
            "text/markdown": "22711",
            "text/latex": "22711",
            "text/plain": [
              "[1] 22711"
            ]
          },
          "metadata": {}
        },
        {
          "output_type": "display_data",
          "data": {
            "text/html": [
              "23020"
            ],
            "text/markdown": "23020",
            "text/latex": "23020",
            "text/plain": [
              "[1] 23020"
            ]
          },
          "metadata": {}
        },
        {
          "output_type": "display_data",
          "data": {
            "text/html": [
              "23097"
            ],
            "text/markdown": "23097",
            "text/latex": "23097",
            "text/plain": [
              "[1] 23097"
            ]
          },
          "metadata": {}
        },
        {
          "output_type": "display_data",
          "data": {
            "text/html": [
              "23115"
            ],
            "text/markdown": "23115",
            "text/latex": "23115",
            "text/plain": [
              "[1] 23115"
            ]
          },
          "metadata": {}
        }
      ]
    },
    {
      "cell_type": "code",
      "source": [
        "# Excluindo variváveis que foram determinadas (valores ausentes acima de 10%)\n",
        "anos$PT = NULL\n",
        "anos$PN = NULL\n",
        "anos$PM = NULL\n",
        "anos$META01 = NULL\n",
        "anos$META02 = NULL\n",
        "anos$META03 = NULL\n",
        "anos$META04 = NULL\n",
        "anos$DTRECIDIVA = NULL\n",
        "anos$REC01 = NULL\n",
        "anos$REC02 = NULL\n",
        "anos$REC03 = NULL\n",
        "anos$REC04 = NULL"
      ],
      "metadata": {
        "id": "ChKmgtXaXENR"
      },
      "execution_count": 46,
      "outputs": []
    },
    {
      "cell_type": "code",
      "source": [
        "anos$ESCOLARI <- as.factor(anos$ESCOLARI)\n",
        "anos$IDADE <- as.factor(anos$IDADE)\n",
        "anos$SEXO <- as.factor(anos$SEXO)\n",
        "anos$CATEATEND <- as.factor(anos$CATEATEND)\n",
        "anos$DTCONSULT <- as.factor(anos$DTCONSULT)\n",
        "anos$CLINICA <- as.factor(anos$CLINICA)\n",
        "anos$DIAGPREV <- as.factor(anos$DIAGPREV)\n",
        "anos$BASEDIAG <- as.factor(anos$BASEDIAG)\n",
        "anos$S <- as.factor(anos$S)\n",
        "anos$G <- as.factor(anos$G)\n",
        "anos$LOCALTNM <- as.factor(anos$LOCALTNM)\n",
        "anos$IDMITOTIC <- as.factor(anos$IDMITOTIC)\n",
        "anos$PSA <- as.factor(anos$PSA)\n",
        "anos$GLEASON <- as.factor(anos$GLEASON)\n",
        "anos$NAOTRAT <- as.factor(anos$NAOTRAT)\n",
        "anos$NENHUM <- as.factor(anos$NENHUM)\n",
        "anos$CIRURGIA <- as.factor(anos$CIRURGIA)\n",
        "anos$RADIO <- as.factor(anos$RADIO)\n",
        "anos$QUIMIO <- as.factor(anos$QUIMIO)\n",
        "anos$HORMONIO <- as.factor(anos$HORMONIO)\n",
        "anos$TMO <- as.factor(anos$TMO)\n",
        "anos$IMUNO <- as.factor(anos$IMUNO)\n",
        "anos$OUTROS <- as.factor(anos$OUTROS)\n",
        "anos$NENHUMANT <- as.factor(anos$NENHUMANT)\n",
        "anos$CIRURANT <- as.factor(anos$CIRURANT)\n",
        "anos$RADIOANT <- as.factor(anos$RADIOANT)\n",
        "anos$QUIMIOANT <- as.factor(anos$QUIMIOANT)\n",
        "anos$HORMOANT <- as.factor(anos$HORMOANT)\n",
        "anos$TMOANT <- as.factor(anos$TMOANT)\n",
        "anos$IMUNOANT <- as.factor(anos$IMUNOANT)\n",
        "anos$OUTROANT <- as.factor(anos$OUTROANT )\n",
        "anos$NENHUMAPOS <- as.factor(anos$NENHUMAPOS)\n",
        "anos$CIRURAPOS <- as.factor(anos$CIRURAPOS)\n",
        "anos$RADIOAPOS <- as.factor(anos$RADIOAPOS)\n",
        "anos$QUIMIOAPOS <- as.factor(anos$QUIMIOAPOS)\n",
        "anos$HORMOAPOS <- as.factor(anos$HORMOAPOS)\n",
        "anos$TMOAPOS <- as.factor(anos$TMOAPOS)\n",
        "anos$IMUNOAPOS <- as.factor(anos$IMUNOAPOS)\n",
        "anos$OUTROAPOS <- as.factor(anos$OUTROAPOS)\n",
        "anos$ULTINFO <- as.factor(anos$ULTINFO)\n",
        "anos$ANODIAG <- as.factor(anos$ANODIAG)\n",
        "anos$LATERALI <- as.factor(anos$LATERALI)\n",
        "anos$PERDASEG <- as.factor(anos$PERDASEG)\n",
        "anos$ERRO <- as.factor(anos$ERRO)\n",
        "anos$RECNENHUM <- as.factor(anos$RECNENHUM)\n",
        "anos$RECLOCAL <- as.factor(anos$RECLOCAL)\n",
        "anos$RECREGIO <- as.factor(anos$RECREGIO)\n",
        "anos$RECDIST <- as.factor(anos$RECDIST)\n",
        "anos$UFNASC <- as.character(anos$UFNASC)\n",
        "anos$UFRESID <- as.character(anos$UFRESID)\n",
        "anos$IBGE <- as.integer(anos$IBGE)\n",
        "anos$CIDADE <- as.character(anos$CIDADE)\n",
        "anos$DTDIAG <- as.Date(anos$DTDIAG)\n",
        "anos$TOPO <- as.numeric(anos$TOPO)\n",
        "anos$TOPOGRUP <- as.numeric(anos$TOPOGRUP)\n",
        "anos$MORFO <- as.numeric(anos$MORFO)\n",
        "anos$DESCMORFO <- as.numeric(anos$DESCMORFO)\n",
        "anos$EC <- as.character(anos$EC)\n",
        "anos$ECGRUP <- as.factor(anos$ECGRUP)\n",
        "anos$T <- as.factor(anos$T)\n",
        "anos$N <- as.factor(anos$N)\n",
        "anos$M <- as.factor(anos$M)\n",
        "anos$DTTRAT <- as.Date(anos$DTTRAT)\n",
        "anos$TRATAMENTO <- as.factor(anos$TRATAMENTO)\n",
        "anos$TRATHOSP <- as.factor(anos$TRATHOSP)\n",
        "anos$TRATHOSP <- as.factor(anos$TRATHOSP)\n",
        "anos$TRATFANTES <- as.factor(anos$TRATFANTES)\n",
        "anos$TRATFAPOS <- as.factor(anos$TRATFAPOS)\n",
        "anos$DTULTINFO <- as.Date(anos$DTULTINFO)\n",
        "anos$CONSDIAG <- as.factor(anos$CONSDIAG)\n",
        "anos$TRATCONS <- as.factor(anos$TRATCONS)\n",
        "anos$DIAGTRAT <- as.factor(anos$DIAGTRAT)\n",
        "anos$FAIXAETAR <- as.factor(anos$FAIXAETAR)\n",
        "anos$CIDO <- as.numeric(anos$CIDO)\n",
        "anos$DSCCIDO <- as.numeric(anos$DSCCIDO)"
      ],
      "metadata": {
        "id": "n2WmVfboXSQs"
      },
      "execution_count": 47,
      "outputs": []
    },
    {
      "cell_type": "code",
      "source": [
        "anos$DTTRAT = NULL"
      ],
      "metadata": {
        "id": "FYDTERLr93Az"
      },
      "execution_count": 48,
      "outputs": []
    },
    {
      "cell_type": "code",
      "source": [
        "install.packages(\"VIM\")\n",
        "library(VIM)\n",
        "\n"
      ],
      "metadata": {
        "colab": {
          "base_uri": "https://localhost:8080/"
        },
        "id": "0VUa3fU4b1iM",
        "outputId": "f1346345-e3cf-4b02-ce28-cb6a9b228f10"
      },
      "execution_count": 50,
      "outputs": [
        {
          "output_type": "stream",
          "name": "stderr",
          "text": [
            "Installing package into ‘/usr/local/lib/R/site-library’\n",
            "(as ‘lib’ is unspecified)\n",
            "\n",
            "also installing the dependencies ‘SparseM’, ‘MatrixModels’, ‘minqa’, ‘nloptr’, ‘zoo’, ‘carData’, ‘pbkrtest’, ‘quantreg’, ‘lme4’, ‘DEoptimR’, ‘lmtest’, ‘RcppEigen’, ‘car’, ‘robustbase’, ‘vcd’, ‘laeken’, ‘ranger’\n",
            "\n",
            "\n",
            "Loading required package: colorspace\n",
            "\n",
            "\n",
            "Attaching package: ‘colorspace’\n",
            "\n",
            "\n",
            "The following object is masked from ‘package:raster’:\n",
            "\n",
            "    RGB\n",
            "\n",
            "\n",
            "Loading required package: grid\n",
            "\n",
            "VIM is ready to use.\n",
            "\n",
            "\n",
            "Suggestions and bug-reports can be submitted at: https://github.com/statistikat/VIM/issues\n",
            "\n",
            "\n",
            "Attaching package: ‘VIM’\n",
            "\n",
            "\n",
            "The following object is masked from ‘package:datasets’:\n",
            "\n",
            "    sleep\n",
            "\n",
            "\n"
          ]
        }
      ]
    },
    {
      "cell_type": "code",
      "source": [
        "\n",
        "anos <- kNN(anos, variable = c(\"CONSDIAG\", \"TRATCONS\", \"DIAGTRAT\"), k = 5)"
      ],
      "metadata": {
        "id": "i_vGvj_7b1p9"
      },
      "execution_count": 53,
      "outputs": []
    },
    {
      "cell_type": "code",
      "source": [
        "round(colSums(is.na(anos))*100/nrow(anos), 2)"
      ],
      "metadata": {
        "id": "XsgPKXq7fvYg"
      },
      "execution_count": null,
      "outputs": []
    },
    {
      "cell_type": "code",
      "source": [
        "sum(is.na(anos))"
      ],
      "metadata": {
        "colab": {
          "base_uri": "https://localhost:8080/",
          "height": 34
        },
        "id": "RxKllM6HfnGy",
        "outputId": "6f6402c3-e787-4031-c0fb-1b7e14c57402"
      },
      "execution_count": 54,
      "outputs": [
        {
          "output_type": "display_data",
          "data": {
            "text/html": [
              "0"
            ],
            "text/markdown": "0",
            "text/latex": "0",
            "text/plain": [
              "[1] 0"
            ]
          },
          "metadata": {}
        }
      ]
    },
    {
      "cell_type": "code",
      "source": [
        "glimpse(anos)"
      ],
      "metadata": {
        "colab": {
          "base_uri": "https://localhost:8080/"
        },
        "id": "_QVqoESgmEUi",
        "outputId": "e3a11974-d266-47de-cedb-4e9e803b324e"
      },
      "execution_count": 56,
      "outputs": [
        {
          "output_type": "stream",
          "name": "stdout",
          "text": [
            "Rows: 23,118\n",
            "Columns: 76\n",
            "$ ESCOLARI     \u001b[3m\u001b[90m<fct>\u001b[39m\u001b[23m 9, 9, 9, 2, 2, 2, 4, 1, 1, 9, 9, 1, 9, 9, 3, 2, 1, 9, 2, …\n",
            "$ IDADE        \u001b[3m\u001b[90m<fct>\u001b[39m\u001b[23m 113, 109, 107, 106, 106, 106, 106, 105, 105, 105, 105, 10…\n",
            "$ SEXO         \u001b[3m\u001b[90m<fct>\u001b[39m\u001b[23m 2, 2, 2, 1, 2, 2, 1, 2, 2, 2, 1, 2, 1, 1, 1, 1, 1, 2, 2, …\n",
            "$ UFNASC       \u001b[3m\u001b[90m<chr>\u001b[39m\u001b[23m \"SP\", \"BA\", \"SP\", \"SP\", \"MG\", \"MG\", \"SP\", \"SP\", \"SP\", \"PI…\n",
            "$ UFRESID      \u001b[3m\u001b[90m<chr>\u001b[39m\u001b[23m \"SP\", \"SP\", \"SP\", \"SP\", \"SP\", \"SP\", \"SP\", \"SP\", \"SP\", \"SP…\n",
            "$ IBGE         \u001b[3m\u001b[90m<int>\u001b[39m\u001b[23m 623, 623, 623, 529, 488, 488, 375, 585, 365, 623, 536, 41…\n",
            "$ CIDADE       \u001b[3m\u001b[90m<chr>\u001b[39m\u001b[23m \"SAO PAULO\", \"SAO PAULO\", \"SAO PAULO\", \"POTIRENDABA\", \"PA…\n",
            "$ CATEATEND    \u001b[3m\u001b[90m<fct>\u001b[39m\u001b[23m 2, 1, 9, 2, 2, 2, 1, 9, 9, 2, 2, 2, 1, 1, 2, 2, 2, 2, 2, …\n",
            "$ DTCONSULT    \u001b[3m\u001b[90m<fct>\u001b[39m\u001b[23m 2017-03-16, 2019-04-09, 2011-08-15, 2020-03-11, 2020-07-2…\n",
            "$ CLINICA      \u001b[3m\u001b[90m<fct>\u001b[39m\u001b[23m 6, 17, 3, 32, 10, 10, 23, 24, 24, 32, 24, 6, 10, 10, 10, …\n",
            "$ DIAGPREV     \u001b[3m\u001b[90m<fct>\u001b[39m\u001b[23m 1, 1, 1, 1, 1, 1, 1, 1, 1, 1, 2, 1, 1, 1, 1, 2, 1, 1, 1, …\n",
            "$ DTDIAG       \u001b[3m\u001b[90m<date>\u001b[39m\u001b[23m 2017-05-11, 2019-06-26, 2011-09-19, 2020-05-08, 2020-07-…\n",
            "$ BASEDIAG     \u001b[3m\u001b[90m<fct>\u001b[39m\u001b[23m 3, 3, 3, 3, 3, 3, 3, 3, 3, 3, 3, 3, 3, 3, 3, 3, 3, 3, 3, …\n",
            "$ TOPO         \u001b[3m\u001b[90m<dbl>\u001b[39m\u001b[23m 155, 248, 151, 218, 151, 154, 151, 155, 153, 89, 156, 155…\n",
            "$ TOPOGRUP     \u001b[3m\u001b[90m<dbl>\u001b[39m\u001b[23m 37, 63, 37, 55, 37, 37, 37, 37, 37, 21, 37, 37, 37, 37, 3…\n",
            "$ MORFO        \u001b[3m\u001b[90m<dbl>\u001b[39m\u001b[23m 38, 228, 26, 49, 26, 26, 26, 26, 26, 58, 7, 204, 26, 39, …\n",
            "$ DESCMORFO    \u001b[3m\u001b[90m<dbl>\u001b[39m\u001b[23m 50, 214, 90, 79, 90, 90, 90, 90, 90, 25, 164, 272, 90, 51…\n",
            "$ EC           \u001b[3m\u001b[90m<chr>\u001b[39m\u001b[23m \"X\", \"Y\", \"X\", \"I\", \"II\", \"I\", \"II\", \"I\", \"II\", \"X\", \"Y\",…\n",
            "$ ECGRUP       \u001b[3m\u001b[90m<fct>\u001b[39m\u001b[23m X, Y, X, I, II, I, II, I, II, X, Y, Y, I, I, II, Y, I, I,…\n",
            "$ T            \u001b[3m\u001b[90m<fct>\u001b[39m\u001b[23m X, Y, X, 1, 2, 1, 2, 1, 2, X, Y, Y, 1, 1, 3, Y, 1, 1, IS,…\n",
            "$ N            \u001b[3m\u001b[90m<fct>\u001b[39m\u001b[23m X, Y, X, 0, 0, 0, 0, 0, 0, X, Y, Y, 0, 0, 0, Y, 0, 0, 0, …\n",
            "$ M            \u001b[3m\u001b[90m<fct>\u001b[39m\u001b[23m X, Y, X, 0, 0, 0, 0, 0, 0, X, Y, Y, 0, 0, 0, Y, 0, 0, 0, …\n",
            "$ S            \u001b[3m\u001b[90m<fct>\u001b[39m\u001b[23m 8, 8, 8, 8, 8, 8, 8, 8, 8, 8, 8, 8, 8, 8, 8, 8, 8, 8, 8, …\n",
            "$ G            \u001b[3m\u001b[90m<fct>\u001b[39m\u001b[23m 8, 8, 8, 8, 8, 8, 8, 8, 8, 8, 8, 8, 8, 8, 8, 8, 8, 8, 8, …\n",
            "$ LOCALTNM     \u001b[3m\u001b[90m<fct>\u001b[39m\u001b[23m 8, 8, 8, 8, 8, 8, 8, 8, 8, 8, 8, 8, 8, 8, 8, 8, 8, 8, 8, …\n",
            "$ IDMITOTIC    \u001b[3m\u001b[90m<fct>\u001b[39m\u001b[23m 8, 8, 8, 8, 8, 8, 8, 8, 8, 8, 8, 8, 8, 8, 8, 8, 8, 8, 8, …\n",
            "$ PSA          \u001b[3m\u001b[90m<fct>\u001b[39m\u001b[23m 8, 8, 8, 8, 8, 8, 8, 8, 8, 8, 8, 8, 8, 8, 8, 8, 8, 8, 8, …\n",
            "$ GLEASON      \u001b[3m\u001b[90m<fct>\u001b[39m\u001b[23m 8, 8, 8, 8, 8, 8, 8, 8, 8, 8, 8, 8, 8, 8, 8, 8, 8, 8, 8, …\n",
            "$ NAOTRAT      \u001b[3m\u001b[90m<fct>\u001b[39m\u001b[23m 8, 7, 8, 8, 8, 8, 8, 8, 8, 8, 8, 8, 8, 8, 8, 8, 8, 8, 8, …\n",
            "$ TRATAMENTO   \u001b[3m\u001b[90m<fct>\u001b[39m\u001b[23m A, J, A, A, A, A, A, A, A, A, D, A, A, A, D, A, A, A, B, …\n",
            "$ TRATHOSP     \u001b[3m\u001b[90m<fct>\u001b[39m\u001b[23m A, J, A, A, A, A, A, A, A, A, D, A, A, A, D, A, A, A, B, …\n",
            "$ TRATFANTES   \u001b[3m\u001b[90m<fct>\u001b[39m\u001b[23m J, J, J, J, J, J, J, J, J, J, J, J, J, J, J, J, J, J, J, …\n",
            "$ TRATFAPOS    \u001b[3m\u001b[90m<fct>\u001b[39m\u001b[23m J, J, J, J, J, J, J, J, J, J, J, J, J, J, J, J, J, J, J, …\n",
            "$ NENHUM       \u001b[3m\u001b[90m<fct>\u001b[39m\u001b[23m 0, 1, 0, 0, 0, 0, 0, 0, 0, 0, 0, 0, 0, 0, 0, 0, 0, 0, 0, …\n",
            "$ CIRURGIA     \u001b[3m\u001b[90m<fct>\u001b[39m\u001b[23m 1, 0, 1, 1, 1, 1, 1, 1, 1, 1, 1, 1, 1, 1, 1, 1, 1, 1, 0, …\n",
            "$ RADIO        \u001b[3m\u001b[90m<fct>\u001b[39m\u001b[23m 0, 0, 0, 0, 0, 0, 0, 0, 0, 0, 1, 0, 0, 0, 1, 0, 0, 0, 1, …\n",
            "$ QUIMIO       \u001b[3m\u001b[90m<fct>\u001b[39m\u001b[23m 0, 0, 0, 0, 0, 0, 0, 0, 0, 0, 0, 0, 0, 0, 0, 0, 0, 0, 0, …\n",
            "$ HORMONIO     \u001b[3m\u001b[90m<fct>\u001b[39m\u001b[23m 0, 0, 0, 0, 0, 0, 0, 0, 0, 0, 0, 0, 0, 0, 0, 0, 0, 0, 0, …\n",
            "$ TMO          \u001b[3m\u001b[90m<fct>\u001b[39m\u001b[23m 0, 0, 0, 0, 0, 0, 0, 0, 0, 0, 0, 0, 0, 0, 0, 0, 0, 0, 0, …\n",
            "$ IMUNO        \u001b[3m\u001b[90m<fct>\u001b[39m\u001b[23m 0, 0, 0, 0, 0, 0, 0, 0, 0, 0, 0, 0, 0, 0, 0, 0, 0, 0, 0, …\n",
            "$ OUTROS       \u001b[3m\u001b[90m<fct>\u001b[39m\u001b[23m 0, 0, 0, 0, 0, 0, 0, 0, 0, 0, 0, 0, 0, 0, 0, 0, 0, 0, 0, …\n",
            "$ NENHUMANT    \u001b[3m\u001b[90m<fct>\u001b[39m\u001b[23m 1, 1, 1, 1, 1, 1, 1, 1, 1, 1, 1, 1, 1, 1, 1, 1, 1, 1, 1, …\n",
            "$ CIRURANT     \u001b[3m\u001b[90m<fct>\u001b[39m\u001b[23m 0, 0, 0, 0, 0, 0, 0, 0, 0, 0, 0, 0, 0, 0, 0, 0, 0, 0, 0, …\n",
            "$ RADIOANT     \u001b[3m\u001b[90m<fct>\u001b[39m\u001b[23m 0, 0, 0, 0, 0, 0, 0, 0, 0, 0, 0, 0, 0, 0, 0, 0, 0, 0, 0, …\n",
            "$ QUIMIOANT    \u001b[3m\u001b[90m<fct>\u001b[39m\u001b[23m 0, 0, 0, 0, 0, 0, 0, 0, 0, 0, 0, 0, 0, 0, 0, 0, 0, 0, 0, …\n",
            "$ HORMOANT     \u001b[3m\u001b[90m<fct>\u001b[39m\u001b[23m 0, 0, 0, 0, 0, 0, 0, 0, 0, 0, 0, 0, 0, 0, 0, 0, 0, 0, 0, …\n",
            "$ TMOANT       \u001b[3m\u001b[90m<fct>\u001b[39m\u001b[23m 0, 0, 0, 0, 0, 0, 0, 0, 0, 0, 0, 0, 0, 0, 0, 0, 0, 0, 0, …\n",
            "$ IMUNOANT     \u001b[3m\u001b[90m<fct>\u001b[39m\u001b[23m 0, 0, 0, 0, 0, 0, 0, 0, 0, 0, 0, 0, 0, 0, 0, 0, 0, 0, 0, …\n",
            "$ OUTROANT     \u001b[3m\u001b[90m<fct>\u001b[39m\u001b[23m 0, 0, 0, 0, 0, 0, 0, 0, 0, 0, 0, 0, 0, 0, 0, 0, 0, 0, 0, …\n",
            "$ NENHUMAPOS   \u001b[3m\u001b[90m<fct>\u001b[39m\u001b[23m 1, 1, 1, 1, 1, 1, 1, 1, 1, 1, 1, 1, 1, 1, 1, 1, 1, 1, 1, …\n",
            "$ CIRURAPOS    \u001b[3m\u001b[90m<fct>\u001b[39m\u001b[23m 0, 0, 0, 0, 0, 0, 0, 0, 0, 0, 0, 0, 0, 0, 0, 0, 0, 0, 0, …\n",
            "$ RADIOAPOS    \u001b[3m\u001b[90m<fct>\u001b[39m\u001b[23m 0, 0, 0, 0, 0, 0, 0, 0, 0, 0, 0, 0, 0, 0, 0, 0, 0, 0, 0, …\n",
            "$ QUIMIOAPOS   \u001b[3m\u001b[90m<fct>\u001b[39m\u001b[23m 0, 0, 0, 0, 0, 0, 0, 0, 0, 0, 0, 0, 0, 0, 0, 0, 0, 0, 0, …\n",
            "$ HORMOAPOS    \u001b[3m\u001b[90m<fct>\u001b[39m\u001b[23m 0, 0, 0, 0, 0, 0, 0, 0, 0, 0, 0, 0, 0, 0, 0, 0, 0, 0, 0, …\n",
            "$ TMOAPOS      \u001b[3m\u001b[90m<fct>\u001b[39m\u001b[23m 0, 0, 0, 0, 0, 0, 0, 0, 0, 0, 0, 0, 0, 0, 0, 0, 0, 0, 0, …\n",
            "$ IMUNOAPOS    \u001b[3m\u001b[90m<fct>\u001b[39m\u001b[23m 0, 0, 0, 0, 0, 0, 0, 0, 0, 0, 0, 0, 0, 0, 0, 0, 0, 0, 0, …\n",
            "$ OUTROAPOS    \u001b[3m\u001b[90m<fct>\u001b[39m\u001b[23m 0, 0, 0, 0, 0, 0, 0, 0, 0, 0, 0, 0, 0, 0, 0, 0, 0, 0, 0, …\n",
            "$ DTULTINFO    \u001b[3m\u001b[90m<date>\u001b[39m\u001b[23m 2019-02-22, 2022-06-16, 2019-02-22, 2020-05-16, 2021-05-…\n",
            "$ ULTINFO      \u001b[3m\u001b[90m<fct>\u001b[39m\u001b[23m 2, 2, 2, 3, 2, 2, 4, 4, 4, 2, 1, 4, 2, 2, 4, 3, 2, 2, 1, …\n",
            "$ CONSDIAG     \u001b[3m\u001b[90m<fct>\u001b[39m\u001b[23m 56, 78, 35, 58, 1, 1, 6, 0, 45, 7, 112, 15, 3, 3, 4, 27, …\n",
            "$ TRATCONS     \u001b[3m\u001b[90m<fct>\u001b[39m\u001b[23m 56, 11, 35, 58, 82, 82, 6, 0, 45, 7, 0, 15, 3, 3, 39, 63,…\n",
            "$ DIAGTRAT     \u001b[3m\u001b[90m<fct>\u001b[39m\u001b[23m 0, 8, 0, 0, 81, 81, 0, 0, 0, 0, 112, 0, 0, 0, 35, 90, 0, …\n",
            "$ ANODIAG      \u001b[3m\u001b[90m<fct>\u001b[39m\u001b[23m 2017, 2019, 2011, 2020, 2020, 2020, 2021, 2005, 2007, 201…\n",
            "$ FAIXAETAR    \u001b[3m\u001b[90m<fct>\u001b[39m\u001b[23m 70+, 70+, 70+, 70+, 70+, 70+, 70+, 70+, 70+, 70+, 70+, 70…\n",
            "$ LATERALI     \u001b[3m\u001b[90m<fct>\u001b[39m\u001b[23m 8, 8, 2, 8, 8, 8, 8, 8, 8, 8, 8, 8, 8, 8, 8, 8, 8, 8, 8, …\n",
            "$ PERDASEG     \u001b[3m\u001b[90m<fct>\u001b[39m\u001b[23m 0, 0, 1, 0, 0, 0, 0, 0, 0, 0, 0, 0, 0, 0, 0, 0, 1, 0, 0, …\n",
            "$ ERRO         \u001b[3m\u001b[90m<fct>\u001b[39m\u001b[23m 0, 0, 0, 0, 0, 0, 0, 0, 0, 0, 0, 0, 0, 0, 0, 0, 0, 0, 0, …\n",
            "$ RECNENHUM    \u001b[3m\u001b[90m<fct>\u001b[39m\u001b[23m 1, 1, 1, 1, 1, 1, 1, 1, 1, 1, 1, 1, 1, 1, 1, 1, 1, 1, 1, …\n",
            "$ RECLOCAL     \u001b[3m\u001b[90m<fct>\u001b[39m\u001b[23m 0, 0, 0, 0, 0, 0, 0, 0, 0, 0, 0, 0, 0, 0, 0, 0, 0, 0, 0, …\n",
            "$ RECREGIO     \u001b[3m\u001b[90m<fct>\u001b[39m\u001b[23m 0, 0, 0, 0, 0, 0, 0, 0, 0, 0, 0, 0, 0, 0, 0, 0, 0, 0, 0, …\n",
            "$ RECDIST      \u001b[3m\u001b[90m<fct>\u001b[39m\u001b[23m 0, 0, 0, 0, 0, 0, 0, 0, 0, 0, 0, 0, 0, 0, 0, 0, 0, 0, 0, …\n",
            "$ CIDO         \u001b[3m\u001b[90m<dbl>\u001b[39m\u001b[23m 38, 226, 26, 49, 26, 26, 26, 26, 26, 58, 7, 203, 26, 39, …\n",
            "$ DSCCIDO      \u001b[3m\u001b[90m<dbl>\u001b[39m\u001b[23m 49, 200, 83, 72, 83, 83, 83, 83, 83, 25, 149, 253, 83, 50…\n",
            "$ CONSDIAG_imp \u001b[3m\u001b[90m<lgl>\u001b[39m\u001b[23m FALSE, FALSE, FALSE, FALSE, FALSE, FALSE, FALSE, FALSE, F…\n",
            "$ TRATCONS_imp \u001b[3m\u001b[90m<lgl>\u001b[39m\u001b[23m FALSE, TRUE, FALSE, FALSE, FALSE, FALSE, FALSE, FALSE, FA…\n",
            "$ DIAGTRAT_imp \u001b[3m\u001b[90m<lgl>\u001b[39m\u001b[23m FALSE, TRUE, FALSE, FALSE, FALSE, FALSE, FALSE, FALSE, FA…\n"
          ]
        }
      ]
    },
    {
      "cell_type": "code",
      "source": [
        "anos$CONSDIAG_imp = NULL\n",
        "anos$DIAGTRAT_imp - NULL\n",
        "anos$TRATCONS_imp = NULL\n",
        "anos$DIAGTRAT_imp = NULL"
      ],
      "metadata": {
        "colab": {
          "base_uri": "https://localhost:8080/",
          "height": 17
        },
        "id": "aJRkenx_mUSg",
        "outputId": "53a71bc1-0acf-4410-cca0-b4cf8961bd56"
      },
      "execution_count": 59,
      "outputs": [
        {
          "output_type": "display_data",
          "data": {
            "text/html": [],
            "text/markdown": "",
            "text/latex": "",
            "text/plain": [
              "integer(0)"
            ]
          },
          "metadata": {}
        }
      ]
    },
    {
      "cell_type": "code",
      "source": [
        "glimpse(anos)"
      ],
      "metadata": {
        "colab": {
          "base_uri": "https://localhost:8080/"
        },
        "id": "61FYjYMJmiuH",
        "outputId": "8773ed50-6ff4-4d5a-cc39-fc871d21891f"
      },
      "execution_count": 60,
      "outputs": [
        {
          "output_type": "stream",
          "name": "stdout",
          "text": [
            "Rows: 23,118\n",
            "Columns: 73\n",
            "$ ESCOLARI   \u001b[3m\u001b[90m<fct>\u001b[39m\u001b[23m 9, 9, 9, 2, 2, 2, 4, 1, 1, 9, 9, 1, 9, 9, 3, 2, 1, 9, 2, 1,…\n",
            "$ IDADE      \u001b[3m\u001b[90m<fct>\u001b[39m\u001b[23m 113, 109, 107, 106, 106, 106, 106, 105, 105, 105, 105, 105,…\n",
            "$ SEXO       \u001b[3m\u001b[90m<fct>\u001b[39m\u001b[23m 2, 2, 2, 1, 2, 2, 1, 2, 2, 2, 1, 2, 1, 1, 1, 1, 1, 2, 2, 2,…\n",
            "$ UFNASC     \u001b[3m\u001b[90m<chr>\u001b[39m\u001b[23m \"SP\", \"BA\", \"SP\", \"SP\", \"MG\", \"MG\", \"SP\", \"SP\", \"SP\", \"PI\",…\n",
            "$ UFRESID    \u001b[3m\u001b[90m<chr>\u001b[39m\u001b[23m \"SP\", \"SP\", \"SP\", \"SP\", \"SP\", \"SP\", \"SP\", \"SP\", \"SP\", \"SP\",…\n",
            "$ IBGE       \u001b[3m\u001b[90m<int>\u001b[39m\u001b[23m 623, 623, 623, 529, 488, 488, 375, 585, 365, 623, 536, 415,…\n",
            "$ CIDADE     \u001b[3m\u001b[90m<chr>\u001b[39m\u001b[23m \"SAO PAULO\", \"SAO PAULO\", \"SAO PAULO\", \"POTIRENDABA\", \"PAUL…\n",
            "$ CATEATEND  \u001b[3m\u001b[90m<fct>\u001b[39m\u001b[23m 2, 1, 9, 2, 2, 2, 1, 9, 9, 2, 2, 2, 1, 1, 2, 2, 2, 2, 2, 9,…\n",
            "$ DTCONSULT  \u001b[3m\u001b[90m<fct>\u001b[39m\u001b[23m 2017-03-16, 2019-04-09, 2011-08-15, 2020-03-11, 2020-07-29,…\n",
            "$ CLINICA    \u001b[3m\u001b[90m<fct>\u001b[39m\u001b[23m 6, 17, 3, 32, 10, 10, 23, 24, 24, 32, 24, 6, 10, 10, 10, 24…\n",
            "$ DIAGPREV   \u001b[3m\u001b[90m<fct>\u001b[39m\u001b[23m 1, 1, 1, 1, 1, 1, 1, 1, 1, 1, 2, 1, 1, 1, 1, 2, 1, 1, 1, 2,…\n",
            "$ DTDIAG     \u001b[3m\u001b[90m<date>\u001b[39m\u001b[23m 2017-05-11, 2019-06-26, 2011-09-19, 2020-05-08, 2020-07-30…\n",
            "$ BASEDIAG   \u001b[3m\u001b[90m<fct>\u001b[39m\u001b[23m 3, 3, 3, 3, 3, 3, 3, 3, 3, 3, 3, 3, 3, 3, 3, 3, 3, 3, 3, 3,…\n",
            "$ TOPO       \u001b[3m\u001b[90m<dbl>\u001b[39m\u001b[23m 155, 248, 151, 218, 151, 154, 151, 155, 153, 89, 156, 155, …\n",
            "$ TOPOGRUP   \u001b[3m\u001b[90m<dbl>\u001b[39m\u001b[23m 37, 63, 37, 55, 37, 37, 37, 37, 37, 21, 37, 37, 37, 37, 37,…\n",
            "$ MORFO      \u001b[3m\u001b[90m<dbl>\u001b[39m\u001b[23m 38, 228, 26, 49, 26, 26, 26, 26, 26, 58, 7, 204, 26, 39, 26…\n",
            "$ DESCMORFO  \u001b[3m\u001b[90m<dbl>\u001b[39m\u001b[23m 50, 214, 90, 79, 90, 90, 90, 90, 90, 25, 164, 272, 90, 51, …\n",
            "$ EC         \u001b[3m\u001b[90m<chr>\u001b[39m\u001b[23m \"X\", \"Y\", \"X\", \"I\", \"II\", \"I\", \"II\", \"I\", \"II\", \"X\", \"Y\", \"…\n",
            "$ ECGRUP     \u001b[3m\u001b[90m<fct>\u001b[39m\u001b[23m X, Y, X, I, II, I, II, I, II, X, Y, Y, I, I, II, Y, I, I, 0…\n",
            "$ T          \u001b[3m\u001b[90m<fct>\u001b[39m\u001b[23m X, Y, X, 1, 2, 1, 2, 1, 2, X, Y, Y, 1, 1, 3, Y, 1, 1, IS, 3…\n",
            "$ N          \u001b[3m\u001b[90m<fct>\u001b[39m\u001b[23m X, Y, X, 0, 0, 0, 0, 0, 0, X, Y, Y, 0, 0, 0, Y, 0, 0, 0, 2,…\n",
            "$ M          \u001b[3m\u001b[90m<fct>\u001b[39m\u001b[23m X, Y, X, 0, 0, 0, 0, 0, 0, X, Y, Y, 0, 0, 0, Y, 0, 0, 0, 0,…\n",
            "$ S          \u001b[3m\u001b[90m<fct>\u001b[39m\u001b[23m 8, 8, 8, 8, 8, 8, 8, 8, 8, 8, 8, 8, 8, 8, 8, 8, 8, 8, 8, 8,…\n",
            "$ G          \u001b[3m\u001b[90m<fct>\u001b[39m\u001b[23m 8, 8, 8, 8, 8, 8, 8, 8, 8, 8, 8, 8, 8, 8, 8, 8, 8, 8, 8, 8,…\n",
            "$ LOCALTNM   \u001b[3m\u001b[90m<fct>\u001b[39m\u001b[23m 8, 8, 8, 8, 8, 8, 8, 8, 8, 8, 8, 8, 8, 8, 8, 8, 8, 8, 8, 8,…\n",
            "$ IDMITOTIC  \u001b[3m\u001b[90m<fct>\u001b[39m\u001b[23m 8, 8, 8, 8, 8, 8, 8, 8, 8, 8, 8, 8, 8, 8, 8, 8, 8, 8, 8, 8,…\n",
            "$ PSA        \u001b[3m\u001b[90m<fct>\u001b[39m\u001b[23m 8, 8, 8, 8, 8, 8, 8, 8, 8, 8, 8, 8, 8, 8, 8, 8, 8, 8, 8, 8,…\n",
            "$ GLEASON    \u001b[3m\u001b[90m<fct>\u001b[39m\u001b[23m 8, 8, 8, 8, 8, 8, 8, 8, 8, 8, 8, 8, 8, 8, 8, 8, 8, 8, 8, 8,…\n",
            "$ NAOTRAT    \u001b[3m\u001b[90m<fct>\u001b[39m\u001b[23m 8, 7, 8, 8, 8, 8, 8, 8, 8, 8, 8, 8, 8, 8, 8, 8, 8, 8, 8, 8,…\n",
            "$ TRATAMENTO \u001b[3m\u001b[90m<fct>\u001b[39m\u001b[23m A, J, A, A, A, A, A, A, A, A, D, A, A, A, D, A, A, A, B, A,…\n",
            "$ TRATHOSP   \u001b[3m\u001b[90m<fct>\u001b[39m\u001b[23m A, J, A, A, A, A, A, A, A, A, D, A, A, A, D, A, A, A, B, A,…\n",
            "$ TRATFANTES \u001b[3m\u001b[90m<fct>\u001b[39m\u001b[23m J, J, J, J, J, J, J, J, J, J, J, J, J, J, J, J, J, J, J, J,…\n",
            "$ TRATFAPOS  \u001b[3m\u001b[90m<fct>\u001b[39m\u001b[23m J, J, J, J, J, J, J, J, J, J, J, J, J, J, J, J, J, J, J, J,…\n",
            "$ NENHUM     \u001b[3m\u001b[90m<fct>\u001b[39m\u001b[23m 0, 1, 0, 0, 0, 0, 0, 0, 0, 0, 0, 0, 0, 0, 0, 0, 0, 0, 0, 0,…\n",
            "$ CIRURGIA   \u001b[3m\u001b[90m<fct>\u001b[39m\u001b[23m 1, 0, 1, 1, 1, 1, 1, 1, 1, 1, 1, 1, 1, 1, 1, 1, 1, 1, 0, 1,…\n",
            "$ RADIO      \u001b[3m\u001b[90m<fct>\u001b[39m\u001b[23m 0, 0, 0, 0, 0, 0, 0, 0, 0, 0, 1, 0, 0, 0, 1, 0, 0, 0, 1, 0,…\n",
            "$ QUIMIO     \u001b[3m\u001b[90m<fct>\u001b[39m\u001b[23m 0, 0, 0, 0, 0, 0, 0, 0, 0, 0, 0, 0, 0, 0, 0, 0, 0, 0, 0, 0,…\n",
            "$ HORMONIO   \u001b[3m\u001b[90m<fct>\u001b[39m\u001b[23m 0, 0, 0, 0, 0, 0, 0, 0, 0, 0, 0, 0, 0, 0, 0, 0, 0, 0, 0, 0,…\n",
            "$ TMO        \u001b[3m\u001b[90m<fct>\u001b[39m\u001b[23m 0, 0, 0, 0, 0, 0, 0, 0, 0, 0, 0, 0, 0, 0, 0, 0, 0, 0, 0, 0,…\n",
            "$ IMUNO      \u001b[3m\u001b[90m<fct>\u001b[39m\u001b[23m 0, 0, 0, 0, 0, 0, 0, 0, 0, 0, 0, 0, 0, 0, 0, 0, 0, 0, 0, 0,…\n",
            "$ OUTROS     \u001b[3m\u001b[90m<fct>\u001b[39m\u001b[23m 0, 0, 0, 0, 0, 0, 0, 0, 0, 0, 0, 0, 0, 0, 0, 0, 0, 0, 0, 0,…\n",
            "$ NENHUMANT  \u001b[3m\u001b[90m<fct>\u001b[39m\u001b[23m 1, 1, 1, 1, 1, 1, 1, 1, 1, 1, 1, 1, 1, 1, 1, 1, 1, 1, 1, 1,…\n",
            "$ CIRURANT   \u001b[3m\u001b[90m<fct>\u001b[39m\u001b[23m 0, 0, 0, 0, 0, 0, 0, 0, 0, 0, 0, 0, 0, 0, 0, 0, 0, 0, 0, 0,…\n",
            "$ RADIOANT   \u001b[3m\u001b[90m<fct>\u001b[39m\u001b[23m 0, 0, 0, 0, 0, 0, 0, 0, 0, 0, 0, 0, 0, 0, 0, 0, 0, 0, 0, 0,…\n",
            "$ QUIMIOANT  \u001b[3m\u001b[90m<fct>\u001b[39m\u001b[23m 0, 0, 0, 0, 0, 0, 0, 0, 0, 0, 0, 0, 0, 0, 0, 0, 0, 0, 0, 0,…\n",
            "$ HORMOANT   \u001b[3m\u001b[90m<fct>\u001b[39m\u001b[23m 0, 0, 0, 0, 0, 0, 0, 0, 0, 0, 0, 0, 0, 0, 0, 0, 0, 0, 0, 0,…\n",
            "$ TMOANT     \u001b[3m\u001b[90m<fct>\u001b[39m\u001b[23m 0, 0, 0, 0, 0, 0, 0, 0, 0, 0, 0, 0, 0, 0, 0, 0, 0, 0, 0, 0,…\n",
            "$ IMUNOANT   \u001b[3m\u001b[90m<fct>\u001b[39m\u001b[23m 0, 0, 0, 0, 0, 0, 0, 0, 0, 0, 0, 0, 0, 0, 0, 0, 0, 0, 0, 0,…\n",
            "$ OUTROANT   \u001b[3m\u001b[90m<fct>\u001b[39m\u001b[23m 0, 0, 0, 0, 0, 0, 0, 0, 0, 0, 0, 0, 0, 0, 0, 0, 0, 0, 0, 0,…\n",
            "$ NENHUMAPOS \u001b[3m\u001b[90m<fct>\u001b[39m\u001b[23m 1, 1, 1, 1, 1, 1, 1, 1, 1, 1, 1, 1, 1, 1, 1, 1, 1, 1, 1, 1,…\n",
            "$ CIRURAPOS  \u001b[3m\u001b[90m<fct>\u001b[39m\u001b[23m 0, 0, 0, 0, 0, 0, 0, 0, 0, 0, 0, 0, 0, 0, 0, 0, 0, 0, 0, 0,…\n",
            "$ RADIOAPOS  \u001b[3m\u001b[90m<fct>\u001b[39m\u001b[23m 0, 0, 0, 0, 0, 0, 0, 0, 0, 0, 0, 0, 0, 0, 0, 0, 0, 0, 0, 0,…\n",
            "$ QUIMIOAPOS \u001b[3m\u001b[90m<fct>\u001b[39m\u001b[23m 0, 0, 0, 0, 0, 0, 0, 0, 0, 0, 0, 0, 0, 0, 0, 0, 0, 0, 0, 0,…\n",
            "$ HORMOAPOS  \u001b[3m\u001b[90m<fct>\u001b[39m\u001b[23m 0, 0, 0, 0, 0, 0, 0, 0, 0, 0, 0, 0, 0, 0, 0, 0, 0, 0, 0, 0,…\n",
            "$ TMOAPOS    \u001b[3m\u001b[90m<fct>\u001b[39m\u001b[23m 0, 0, 0, 0, 0, 0, 0, 0, 0, 0, 0, 0, 0, 0, 0, 0, 0, 0, 0, 0,…\n",
            "$ IMUNOAPOS  \u001b[3m\u001b[90m<fct>\u001b[39m\u001b[23m 0, 0, 0, 0, 0, 0, 0, 0, 0, 0, 0, 0, 0, 0, 0, 0, 0, 0, 0, 0,…\n",
            "$ OUTROAPOS  \u001b[3m\u001b[90m<fct>\u001b[39m\u001b[23m 0, 0, 0, 0, 0, 0, 0, 0, 0, 0, 0, 0, 0, 0, 0, 0, 0, 0, 0, 0,…\n",
            "$ DTULTINFO  \u001b[3m\u001b[90m<date>\u001b[39m\u001b[23m 2019-02-22, 2022-06-16, 2019-02-22, 2020-05-16, 2021-05-25…\n",
            "$ ULTINFO    \u001b[3m\u001b[90m<fct>\u001b[39m\u001b[23m 2, 2, 2, 3, 2, 2, 4, 4, 4, 2, 1, 4, 2, 2, 4, 3, 2, 2, 1, 3,…\n",
            "$ CONSDIAG   \u001b[3m\u001b[90m<fct>\u001b[39m\u001b[23m 56, 78, 35, 58, 1, 1, 6, 0, 45, 7, 112, 15, 3, 3, 4, 27, 0,…\n",
            "$ TRATCONS   \u001b[3m\u001b[90m<fct>\u001b[39m\u001b[23m 56, 11, 35, 58, 82, 82, 6, 0, 45, 7, 0, 15, 3, 3, 39, 63, 0…\n",
            "$ DIAGTRAT   \u001b[3m\u001b[90m<fct>\u001b[39m\u001b[23m 0, 8, 0, 0, 81, 81, 0, 0, 0, 0, 112, 0, 0, 0, 35, 90, 0, 0,…\n",
            "$ ANODIAG    \u001b[3m\u001b[90m<fct>\u001b[39m\u001b[23m 2017, 2019, 2011, 2020, 2020, 2020, 2021, 2005, 2007, 2011,…\n",
            "$ FAIXAETAR  \u001b[3m\u001b[90m<fct>\u001b[39m\u001b[23m 70+, 70+, 70+, 70+, 70+, 70+, 70+, 70+, 70+, 70+, 70+, 70+,…\n",
            "$ LATERALI   \u001b[3m\u001b[90m<fct>\u001b[39m\u001b[23m 8, 8, 2, 8, 8, 8, 8, 8, 8, 8, 8, 8, 8, 8, 8, 8, 8, 8, 8, 8,…\n",
            "$ PERDASEG   \u001b[3m\u001b[90m<fct>\u001b[39m\u001b[23m 0, 0, 1, 0, 0, 0, 0, 0, 0, 0, 0, 0, 0, 0, 0, 0, 1, 0, 0, 0,…\n",
            "$ ERRO       \u001b[3m\u001b[90m<fct>\u001b[39m\u001b[23m 0, 0, 0, 0, 0, 0, 0, 0, 0, 0, 0, 0, 0, 0, 0, 0, 0, 0, 0, 0,…\n",
            "$ RECNENHUM  \u001b[3m\u001b[90m<fct>\u001b[39m\u001b[23m 1, 1, 1, 1, 1, 1, 1, 1, 1, 1, 1, 1, 1, 1, 1, 1, 1, 1, 1, 1,…\n",
            "$ RECLOCAL   \u001b[3m\u001b[90m<fct>\u001b[39m\u001b[23m 0, 0, 0, 0, 0, 0, 0, 0, 0, 0, 0, 0, 0, 0, 0, 0, 0, 0, 0, 0,…\n",
            "$ RECREGIO   \u001b[3m\u001b[90m<fct>\u001b[39m\u001b[23m 0, 0, 0, 0, 0, 0, 0, 0, 0, 0, 0, 0, 0, 0, 0, 0, 0, 0, 0, 0,…\n",
            "$ RECDIST    \u001b[3m\u001b[90m<fct>\u001b[39m\u001b[23m 0, 0, 0, 0, 0, 0, 0, 0, 0, 0, 0, 0, 0, 0, 0, 0, 0, 0, 0, 0,…\n",
            "$ CIDO       \u001b[3m\u001b[90m<dbl>\u001b[39m\u001b[23m 38, 226, 26, 49, 26, 26, 26, 26, 26, 58, 7, 203, 26, 39, 26…\n",
            "$ DSCCIDO    \u001b[3m\u001b[90m<dbl>\u001b[39m\u001b[23m 49, 200, 83, 72, 83, 83, 83, 83, 83, 25, 149, 253, 83, 50, …\n"
          ]
        }
      ]
    },
    {
      "cell_type": "code",
      "source": [
        "# Alterando a posição da variável de saída:\n",
        "anos <- anos%>%relocate(TRATAMENTO, .after = DSCCIDO)"
      ],
      "metadata": {
        "id": "MpdJLnzjp5X1"
      },
      "execution_count": 63,
      "outputs": []
    },
    {
      "cell_type": "code",
      "source": [
        "#SUbstituindo dados categóricos\n",
        "\n",
        "anos$UFNASC = as.numeric(factor(anos$UFNASC, levels = c(\"SP\",\"BA\",\"MG\",\"PI\",\"SI\",\"CE\",\"PE\",\"PR\",\"MS\",\"RS\",\"AL\",\"OP\",\"GO\",\"RN\",\"PB\",\"SE\",\"SC\",\"PA\",\"ES\",\"RJ\",\"MA\",\"MT\",\"AM\",\"TO\",\"DF\",\"AC\",\"RO\",\"AP\",\"RR\"), labels(c(0,1,2,3,4,5,6,7,8,9,10,11,12,13,14,15,16,17,18,19,20,21,22,23,24,25,26,27,28))))\n",
        "anos$UFRESID = as.numeric(factor(anos$UFRESID, levels = c(\"SP\",\"MG\",\"GO\",\"PR\",\"OP\",\"MS\",\"MT\",\"RJ\",\"DF\",\"CE\",\"PE\",\"SC\",\"BA\",\"RS\",\"RO\",\"ES\",\"PA\",\"MA\",\"AC\",\"AM\",\"SE\",\"TO\",\"AL\",\"RN\",\"PB\",\"PI\",\"AP\",\"RR\"), labels(c(0,1,2,3,4,5,6,7,8,9,10,11,12,13,14,15,16,17,18,19,20,21,22,23,24,25,26,27))))\n",
        "anos$TOPO = as.numeric(factor(anos$TOPO, levels = c(\"C447\",\"C773\",\"C443\",\"C679\",\"C446\",\"C445\",\"C209\",\"C448\",\"C441\",\"C001\",\"C049\",\"C163\",\"C760\",\"C444\",\"C169\",\"C619\",\"C329\",\"C508\",\"C449\", \"C440\", \"C809\", \"C509\", \"C739\", \"C421\", \"C154\", \"C519\", \"C079\", \"C159\", \"C501\", \"C184\", \"C506\", \"C678\", \"C162\", \"C442\", \"C504\", \"C559\", \"C031\", \"C569\", \"C050\",\"C539\", \"C187\", \"C772\", \"C710\", \"C051\", \"C420\", \"C602\", \"C168\", \"C099\", \"C774\", \"C343\", \"C199\", \"C349\", \"C109\", \"C770\",\n",
        "                                                          \"C480\",\"C503\",\"C241\",\"C250\",\"C690\",\"C021\",\"C080\",\"C320\",\"C500\",\"C239\", \"C069\", \"C211\", \"C119\", \"C180\", \"C028\", \"C165\", \"C062\", \"C029\",\"C341\",\"C189\",\"C155\",\"C492\",\"C764\", \"C502\", \"C549\", \"C601\", \"C505\", \"C182\", \"C413\", \"C170\", \"C151\", \"C672\", \"C019\", \"C779\", \"C251\", \"C490\",\"C158\",\"C161\",\"C649\",\"C482\", \"C670\", \"C039\", \"C384\", \"C491\",\"C185\",\"C139\",\"C529\",\"C600\",\"C765\",\"C762\",\"C541\",\"C258\",\"C411\",\"C160\",\n",
        "                                                          \"C674\",\"C259\",\"C102\",\"C340\", \"C300\", \"C310\", \"C048\",\"C129\",\"C000\",\"C179\", \"C321\", \"C609\", \"C410\", \"C030\",\"C005\", \"C248\",\"C186\",\"C673\",\"C511\",\"C530\",\"C719\",\"C220\", \"C181\", \"C020\", \"C060\", \"C006\", \"C543\", \"C659\", \"C693\", \"C419\", \"C131\", \"C493\", \"C761\", \"C221\", \"C009\", \"C348\",\"C778\",\"C775\",\"C540\",\"C052\", \"C218\", \"C402\", \"C183\", \"C495\", \"C090\", \"C767\", \"C499\", \"C068\", \"C172\", \"C518\", \"C675\", \"C164\", \"C671\", \"C669\",\n",
        "                                                          \"C696\",\"C089\",\"C423\",\"C002\", \"C091\", \"C481\",\"C153\",\"C252\", \"C240\", \"C424\", \"C383\", \"C113\", \"C608\", \"C023\", \"C166\", \"C676\", \"C138\", \"C510\",\"C210\",\"C538\",\"C680\",\"C249\", \"C108\", \"C269\", \"C178\", \"C711\", \"C414\", \"C152\", \"C698\", \"C040\", \"C301\", \"C401\", \"C579\", \"C637\", \"C130\", \"C342\",\"C531\",\"C058\",\"C403\",\"C494\", \"C496\", \"C257\",\"C328\", \"C699\",\"C620\", \"C061\", \"C059\", \"C412\", \"C712\", \"C400\", \"C118\", \"C212\", \"C318\", \"C638\",\n",
        "                                                          \"C718\",\"C150\",\"C319\",\"C717\", \"C729\", \"C629\",\"C004\", \"C763\", \"C022\", \"C720\", \"C542\", \"C008\", \"C408\", \"C041\", \"C188\", \"C253\", \"C103\", \"C379\",\"C695\",\"C101\",\"C148\",\"C081\", \"C260\", \"C003\", \"C700\", \"C691\", \"C771\", \"C639\", \"C140\", \"C409\", \"C268\", \"C422\", \"C381\", \"C311\", \"C713\", \"C100\",\"C632\",\"C132\",\"C173\",\"C621\", \"C724\", \"C750\", \"C322\", \"C323\", \"C399\", \"C714\", \"C472\", \"C098\", \"C716\", \"C339\", \"C382\", \"C512\", \"C694\", \"C572\",\n",
        "                                                          \"C548\",\"C111\",\"C171\",\"C024\",\"C110\",\"C112\",\"C749\", \"C570\", \"C498\", \"C471\", \"C488\", \"C740\", \"C475\", \"C390\", \"C754\", \"C759\",\"C768\",\"C577\",\"C418\",\"C751\",\"C741\",\"C312\", \"C313\",\"C470\",\"C677\",\"C088\",\"C574\",\"C473\", \"C380\", \"C688\", \"C709\", \"C692\", \"C755\", \"C141\", \"C478\", \"C752\",\"C578\",\"C715\",\"C388\",\"C631\",\"C474\",\"C254\",\"C753\",\"C142\",\"C479\",\"C689\", \"C728\", \"C701\", \"C725\", \"C589\", \"C721\", \"C476\", \"C723\", \"C630\",\"C573\",\"C758\",\n",
        "                                                          \"C398\",\"C681\",\"C104\",\"C722\",\"C571\"), labels = c(seq.int(1:331))))\n",
        "anos$TOPOGRUP = as.numeric(factor(anos$TOPOGRUP, levels = c(\"C44\", \"C77\", \"C67\", \"C20\", \"C00\", \"C04\", \"C16\", \"C76\", \"C61\", \"C32\", \"C50\", \"C80\", \"C73\", \"C42\", \"C15\", \"C51\", \"C07\", \"C18\", \"C55\", \"C03\", \"C56\", \"C05\", \"C53\", \"C71\", \"C60\", \"C09\", \"C34\", \"C19\", \"C10\",\"C48\", \"C24\", \"C25\", \"C69\", \"C02\", \"C08\", \"C23\", \"C06\",\"C21\", \"C11\", \"C49\", \"C54\", \"C41\", \"C17\", \"C01\", \"C64\", \"C38\", \"C13\", \"C52\", \"C30\", \"C31\", \"C12\", \"C22\",\"C65\", \"C40\", \"C66\", \"C68\", \"C26\", \"C57\",\"C63\", \n",
        "                                                                  \"C62\", \"C72\", \"C37\", \"C14\", \"C70\", \"C75\", \"C39\", \"C47\", \"C33\", \"C74\", \"C58\"), labels = c(seq.int(1:70))))\n",
        "anos$DESCMORFO = as.numeric(factor(anos$DESCMORFO, levels = c(\"CARCINOMA BASOCELULAR SOE\",\"LINFOMA MALIGNO DE LINFOCITOS PEQUENOS SOE\",\"CARCINOMA ESCAMOCELULAR SOE\",\"CARCINOMA DE CELULAS TRANSICIONAIS SOE\",\"ADENOCARCINOMA SOE\",\"EPITELIOMA MALIGNO\",\"SARCOMA DE KAPOSI\",\"CARCINOMA BASOCELULAR SUPERFICIAL MULTIFOCAL\",\"CARCINOMA ESCAMOCELULAR IN SITU SOE\",\"ADENOCARCINOMA TUBULAR\",\"CARCINOMA SOE\",\"CARCINOMA DE CELULAS ESCAMOSAS SOE\",\"CARCINOMA DE CELULAS ACINOSAS\",\"CARCINOMA BASOCELULAR NODULAR\",\"CARCINOMA DUCTAL INFILTRANTE SOE\",\"CARCINOMA BASOCELULAR INFILTRATIVO SOE\",\"CARCINOMA DE CELULAS EM ANEL DE SINETE\",\n",
        "                                                                    \"CARCINOMA PAPILAR SOE\",\"NEOPLASIA MALIGNA\",\"DOENCA DE BOWEN\",\"CARCINOMA BASOESCAMOSO\",\"LEUCEMIA MIELOMONOCITICA CRONICA SOE\",\"CARCINOMA PSEUDOSARCOMATOSO\",\"LEUCEMIA MIELOIDE AGUDA COM DISPLASIA DE MULTILINHAGEM\",\"CARCINOMA DUCTAL INFILTRANTE E LOBULAR\",\"GRANULOMA DE HODGKIN\",\"LEUCEMIA LINFOBLASTICA AGUDA SOE\",\"CARCINOMA DE CELULAS DE TRANSICAO PAPILAR NAO INVASIVO\",\"MIELOMA MULTIPLO\",\"TUMOR ESTROMAL GASTROINTESTINAL SOE\",\"CARCINOSSARCOMA SOE\",\"CISTADENOCARCINOMA SEROSO SOE\",\"LINFOMA MALIGNO NAOHODGKIN SOE\",\"CARCINOMA METATIPICO\",                                                           \n",
        "                                                                    \"CARCINOMA ESCAMOSO CERATINIZADO SOE\",\"EPENDIMOMA ANAPLASICO,CARCINOMA LOBULAR SOE\",\"ANGIOMIOSSARCOMA,CARCINOMA ANAPLASICO SOE\",\"CARCINOMA DE CELULAS DE MERKEL\",\"SINDROME MIELODISPLASICA SOE\",\"MELANOMA MALIGNO SOE\",\"ADENOCARCINOMA TIPO INTESTINAL\",\"CARCINOMA DE CELULAS PEQUENAS E DE CELULAS GRANDES\",\"LINFOMA MALIGNO DE CELULAS GRANDES DIFUSO SOE\",\"LIPOSSARCOMA BEM DIFERENCIADO\",\"CARCINOMA VERRUCOSO SOE\",\"CARCINOMA PAPILAR DE CELULAS TRANSICIONAIS\",\"TUMOR MALIGNO TIPO DE CELULAS FUSIFORMES\",\"CARCINOMA ESCAMOSO DE CELULAS FUSIFORMES\",\n",
        "                                                                    \"NEOPLASIA INTRAEPITELIAL GLANDULAR GRAU III\",\"CARCINOMA BASOCELULAR TIPO MORFEIA\",\"CARCINOMA ESCAMOSO BASALOIDE\",\"CARCINOMA BASAL ADENOIDE\",\"CARCINOMA CLOACOGENICO\",\"DENOCARCINOMA MUCINOSO\",\"LINFOMA MALIGNO MISTO DE CELULAS PEQUENAS CLIVADAS E CELULAS GRANDES FOLICULAR\",\"TRICOLEMOCARCINOMA\",\"LEUCEMIA MEGACARIOBLASTICA AGUDA\",\"CARCINOMA MUCOEPIDERMOIDE\",\"ADENOCARCINOMA FOLICULAR SOE\",\"CARCINOMA TIPO DIFUSO\",\"CARCINOMA BASOCELULAR FIBROEPITELIAL\",\"CARCINOMA INDIFERENCIADO SOE\",\"CARCINOMA ESCAMOSO MICROINVASOR\",\"LINFOMA MALIGNO SOE\",                                                            \n",
        "                                                                    \"SARCOMA FUSOCELULAR\",\"CARCINOMA ADENOIDE CISTICO\",\"LEUCEMIA LINFOCITICA CRONICA\",\"MELANOMA NODULAR\",\"CARCINOMA DE CELULAS NAO PEQUENAS\",\"CARCINOMA IN SITU CRIBRIFORME\",\"HEMANGIOSSARCOMA\",\"DOENCA LINFOPROLIFERATIVA SOE\",\"LINFOMA MALIGNO LINFOCITICO DIFERENCIACAO INTERMEDIARIA DIFUSO\",\"ADENOCARCINOMA DE CELULAS CLARAS SOE\",\"TROMBOCITEMIA ESSENCIAL\",\"MESOTELIOMA MALIGNO\",\"CARCINOMA OAT CEL\",\"CARCINOMA DUCTAL INFILTRATIVO MISTO COM OUTROS TIPOS DE CARCINOMA\",\"HISTIOCITOMA FIBROSO ATIPICO\",\"CARCINOMA DUCTULAR INFILTRANTE\",\"CARCINOMA FUSOCELULAR SOE\",\n",
        "                                                                    \"ADENOCARCINOMA VILOSO\",\"LEIOMIOSSARCOMA SOE\",\"NEOPLASIA INTRAEPITELIAL GRAU III DE COLO UTERINO VULVA E VAGINA\",\"CARCINOMA DE CELULAS PEQUENAS SOE\",\"ADENOCARCINOMA APOCRINO\",\"MELANOMA EM LENTIGO MALIGNO\",\"ADENOFIBROMA ENDOMETRIOIDE MALIGNO\",\"CISTADENOCARCINOMA MUCINOSO PAPILAR\",\"CARCINOMA BASOCELULAR MULTICENTRICO\",\"CARCINOMA IN SITU DE C\\x90LULAS ESCAMOSAS SOE\",\"ADENOCARCINOMA PRODUTOR DE MUCINA\", \"ADENOCARCINOMA ENDOMETRIOIDE SOE\",\"ADENOCARCINOMA IN SITU SOE\",\"LINFOMA DE ZONA MARGINAL TIPO CELULAS B SOE\",\"MELANOMA LENTIGINOSO MALIGNO DAS EXTREMIDADES\",                                  \n",
        "                                                                    \"HISTIOCITOMA FIBROSO MALIGNO\",\"SARCOMA DE EWING\",\"ADENOCARCINOMA EM ADENOMA TUBULOVILOSO\",\"CARCINOMA NEUROENDOCRINO SOE\",\"SARCOMA SOE\",\"CISTADENOCARCINOMA PAPILAR SEROSO\",\"LEUCEMIA MIELOIDE AGUDA\",\"GLIOBLASTOMA SOE\",\"DOENCA MIELOPROLIFERATIVA SOE\",\"LEUCEMIA MIELOIDE CRONICA\",\"CARCINOMA IN SITU SOE\",\"LINFOMA MALIGNO FOLICULAR SOE\",\"MELANOMA LENTIGINOSO DE MUCOSA\",\"MELANOMA IN SITU\",\"DOENCA DE PAGET EXTRAMAMARIA EXCETO DOENCA DE PAGET DO OSSO\",\"LIPOSSARCOMA PLEOMORFICO\",\"CARCINOMA CRIBRIFORME SOE\",\"CARCINOMA METAPLASICO SOE\",\"CARCINOMA HEPATOCELULAR SOE\",\n",
        "                                                                    \"LINFOMA DE CELULAS GRANDES KI1\",\"LEUCEMIA MIELOIDE AGUDA COM DIFERENCIACAO MINIMA\",\"CARCINOMA ESCAMOCELULAR PAPILAR\",\"ADENOCARCINOMA BASOCELULAR\",\"MICOSE FUNGOIDE\",\"CELULAS TUMORAIS INCERTO SE BENIGNAS OU MALIGNAS\",\"CARCINOMA PILOMATRICIAL MALIGNO\",\"LEUCEMIA SOE\",\"OSTEOSSARCOMA CONDROBLASTICO\",\"LINFOMA MALIGNO IMUNOBLASTICO SOE\",\"TUMOR CARCINOIDE SOE EXCETO DO APENDICE M82401\",\"ADENOCARCINOMA ALVEOLAR\",\"CARCINOMA INFLAMATORIO\",\"CARCINOMA DE CELULAS RENAIS SOE\",\"CARCINOMA MEDULAR SOE\",\"LEUCEMIA AGUDA SOE\",\"LINFOMA MALIGNO DE CELULAS PEQUENAS CLIVADAS FOLICULAR\",\n",
        "                                                                    \"ADENOCARCINOMA DE GLANDULAS DA REGIAO ANAL\",\"CARCINOMA INTRADUCTAL NAO INFILTRANTE SOE\",\"DOEN\\x80A DE HODGKIN ESCLEROSE NODULAR SOE\",\"COLANGIOCARCINOMA,SARCOMA SINOVIAL SOE\",\"ADENOCARCINOMA BRONQUIOLOALVEOLAR SOE\",\"ADENOCARCINOMA PAPILAR INTRADUCTAL COM INVASAO\",\"TROMBOCITEMIA IDIOPATICA\", \"DOEN\\x80A DE HODGKIN SOE\",\"LINFOMA DE BURKITT SOE\",\"DOENCA DE PAGET E CARCINOMA DUCTAL INFILTRANTE DA MAMA\",\"SARCOMA ESTROMAL GASTROINTESTINAL\",\"NEOPLASIA DE CELULAS TRANSICIONAIS PAPILAR DE BAIXO POTENCIAL DE MALIGNIDADE\",\"TUMOR MALIGNO DE CELULAS DA GRANULOSA\",\n",
        "                                                                    \"CARCINOMA DUCTAL IN SITU TIPO SOLIDO\",\"CARCINOMA ESCAMOSO ADENOIDE\",\"LINFOMA MALIGNO DE CELULAS GRANDES FOLICULAR SOE\",\"SARCOMA DE CELULAS GIGANTES EXCETO DE OSSO M92503\",\"LINFOMA MALIGNO MISTO DE CELULAS PEQUENAS E GRANDES DIFUSO\",\"MELANOMA DE PROPAGACAO SUPERFICIAL\",\"ADENOCARCINOMA PAPILAR SOE\",\"DOENCA DE PAGET E CARCINOMA INTRADUCTAL DA MAMA\", \"CARCINOMA PAPILAR IN SITU\",\"CARCINOMA ESCAMOSO TIPO CELULAS CLARAS\",\"ADENOCARCINOMA COM SUBTIPOS MISTOS\",\"CARCINOMA DE CELULAS TRANSICIONAIS IN SITU\",\"TUMOR FILODES MALIGNO\",\"CARCINOMA SOLIDO SOE\",                                                           \n",
        "                                                                    \"MELANOMA MALIGNO EM REGRESSAO\",\"CARCINOMA DE CELULAS GRANDES SOE\",\"CARCINOMA DE CELULAS DE TRANSICAO MICROPAPILAR\",\"LEUCEMIA LINFOIDE SOE\",\"MIXOSSARCOMA\",\"LEUCEMIA MIELOIDE SOE\",\"ANEMIA REFRATARIA COM EXCESSO DE BLASTOS\",\"EFELIDE OU LENTIGO MELANOTICO DE HUTCHINSON SOE\",\"CARCINOMA BASALOIDE\",\"ADENOCARCINOMA ENDOMETRIOIDE TIPO SECRETOR\",\"CARCINOMA LOBULAR INFILTRANTE MISTO COM OUTROS TIPOS DE CARCINOMA\",\"ADENOSSARCOMA\",\"MICROCARCINOMA PAPILAR\",\"ADENOCARCINOMA IN SITU EM POLIPO ADENOMATOSO\",\"FIBROSSARCOMA SOE\",\"GLIOMA MALIGNO\",\"CORDOMA\",\"DERMATOFIBROSSARCOMA SOE\",\n",
        "                                                                    \"LEUCEMIA MIELOMONOCITICA AGUDA\",\"MELANOMA AMELANOTICO\",\"ADENOCARCINOMA PAPILAR INTRADUCTAL NAO INFILTRANTE\",\"MELANOMA DE CELULAS EPITELIOIDES\",\"LINFOMA DE CELULAS T ANGIOCENTRICO\",\"DOENCA DE PAGET MAMARIA\",\"MELANOMA MALIGNO EM NEVO JUNCIONAL\",\"ANEMIA REFRATARIA SOE\",\"LINFOMA MALIGNO DIFUSO SOE\",\"LEUCEMIA PROLINFOCITICA\",\"ASTROCITOMA SOE\",\"CARCINOMA DE CELULAS GIGANTES E FUSOCELULAR\",\"CITOPENIA REFRATARIA COM DISPLASIA MULTILINHAGEM\",\"DOEN\\x80A DE HODGKIN ESCLEROSE NODULAR PREDOMINANCIA LINFOCITICA\",\"RABDOMIOSSARCOMA SOE\",\"LIPOSSARCOMA DE CELULAS REDONDAS\",                                               \n",
        "                                                                    \"ANEMIA REFRATARIA\",\"MACROGLOBULINEMIA DE WALDENSTROM\",\"ADENOMA BRONQUICO SOE\",\"LINFOMA COMPOSTO: HODGKIN E NAOHODGKIN\",\"CARCINOMA NEUROENDOCRINO\",\"CARCINOMAS DE CELULAS GRANDES SOE\",\"TUMOR NEUROECTODERMICO PERIFERICO\",\"POROMA ECRINO MALIGNO\",\"CARCINOIDE TUBULAR\",\"CARCINOMA DE CELULAS ESCAMOSAS CERATINIZADO SOE\",\"LIPOSSARCOMA SOE\",\"ADENOCARCINOMA SEBACEO\",\"LINFOMA NASAL E TIPO NASAL DE CELULAS TNK\",\"DOENCA MIELOPROLIFERATIVA CRONICA SOE\", \"HIDRADENOMA NODULAR MALIGNO\",\"SARCOMA EPITELIOIDE\",\"LINFOMA DE CELULAS T PERIFERICO SOE\",\"TIMOMA MALIGNO\",\"TUMOR MISTO MULLERIANO\",\n",
        "                                                                    \"ADENOMAS ENDOCRINOS MULTIPLOS\",\"DOENCA LINFOPROLIFERATIVA GAMAT\",\"COMEDOCARCINOMA NAO INFILTRANTE\",\"LEUCEMIA DE CELULAS CABELUDAS PILOSAS \\\\HAIRY CELL\\\\\",\"RABDOMIOSSARCOMA PLEOMORFICO TIPO ADULTO\",\"PLASMOCITOMA SOE\",\"LIPOSSARCOMA MIXOIDE\",\"ADENOCARCINOMA TRABECULAR\",\"CISTADENOCARCINOMA SOE\",\"LEUCEMIA MIELOIDE AGUDA COM MATURACAO\",\"TUMOR CISTICO MUCINOSO DE MALIGNIDADE LIMITROFE\",\"OSTEOSSARCOMA SOE\",\"LEUCEMIA LINFOBLASTICA DE CELULAS PRECURSORAS TIPO B\",\"DOENCA IMUNOPROLIFERATIVA SOE\",\"ADENOCARCINOMA COM METAPLASIA ESCAMOSA\",\"DOEN\\x80A DE SEZARY\",\n",
        "                                                                    \"MIELOESCLEROSE COM METAPLASIA MIELOIDE\",\"TUMOR CARCINOIDE ATIPICO\",\"LINFOMA MALIGNO LINFOPLASMOCITICO\",\"ADENOCARCINOMA EM POLIPO ADENOMATOSO\",\"LEUCEMIA CRONICA NEUTROFILICA\",\"CARCINOMA ADENOESCAMOSO\",\"CISTADENOCARCINOMA PAPILAR SOE\",\"MENINGIOMA MALIGNO\",\"SEMINOMA SOE\",\"DOENCA MIELOPROLIFERATIVA CRONICA\",\"LINFOMA MALIGNO DE CELULAS GRANDES NAOCLIVADAS DIFUSO\",\"TUMOR ADENOCARCINOIDE\",\"LINFOMA CUTANEO\",\"CARCINOMA DE CELULAS PEQUENAS INTERMEDIARIAS\",\"OSTEOSSARCOMA DE CELULAS PEQUENAS\",\"CARCINOMA IN SITU INTRADUCTAL E LOBULAR\",\n",
        "                                                                    \"CARCINOMA DUCTAL DE GLANDULA SUDORIPARA ESCLEROSANTE\",\"LEUCEMIA LINFOBLASTICA DE CELULAS PRECURSORAS SOE\",\"CARCINOMA ESCAMOCELULAR IN SITU COM INVASAO QUESTIONAVEL DO ESTROMA\",\"CARCINOMA DE CELULAS RENAIS TIPO CROMOFOBO\",\"LINFOMA DE HODGKIN TIPO LINFOCITICO\",\"NEOPLASIA DE COMPORTAMENTO INCERTO SE BENIGNO OU MALIGNO\",\"PLASMOCITOMA EXTRAMEDULAR EXCETO OSSO M97313\",\"MESOTELIOMA EPITELIOIDE MALIGNO\",\"LINITE PLASTICA\",\"TUMOR MISTO MALIGNO SOE\",\"TUMOR PAPILAR INTRADUCTAL MUCINOSO COM DISPLASIA MODERADA\",\"TIMOMA TIPO A SOE\",\n",
        "                                                                    \"CARCINOMA DE CELULAS RENAIS ASSOCIADO A CISTO\",\"CARCINOMA SIMPLES\",\"CARCINOMA PAPILAR DE SUPERFICIE SEROSA\",\"SARCOMA INDIFERENCIADO\",\"SARCOMA HISTIOCITICO\",\"CARCINOMA ESCAMOSO DE CELULAS GRANDES NAO CERATINIZADO SOE\",\"CARCINOMA HEPATOCELULAR E COLANGIOCARCINOMA COMBINADOS\",\"CARCINOMA DE CELULAS ESCAMOSAS MICROINVASOR\",\"CARCINOMA DE CELULAS ESCAMOSAS GRANDES NAO CERATINIZADO\",\"TUMOR DE CELULAS GIGANTES DO OSSO\",\"LEUCEMIA MIELOIDE AGUDA SEM MATURACAO\",\"HEMANGIOENDOTELIOMA SOE\",\"SARCOMA DO ESTROMA ENDOMETRIAL BAIXO GRAU\",                                      \n",
        "                                                                    \"MIOEPITELIOMA MALIGNO,POLICITEMIA VERA\",\"CISTADENOMA MUCINOSO DE MALIGNIDADE LIMITROFE\",\"DOEN\\x80A DE HODGKIN ESCLEROSE NODULAR DEPLECAO LINFOCITICA\",\"SARCOMA DO ESTROMA ENDOMETRIAL\",\"MELANOMA DESMOPLASICO MALIGNO\",\"LEUCEMIA MIELOIDE AGUDA COM ANORMALIDADE EM 11q23\",\"MELANOMA FUSOCELULAR SOE\",\"CISTADENOMA SEROSO DE MALIGNIDADE LIMITROFE \\\\BORDERLINE\\\\\",\"ARCINOMA DE CELULAS GIGANTES\",\"CARCINOMA ESCAMOSO PAPILAR NAO INVASIVO\",\"TIMOMA TIPO B1 SOE\",\"CISTADENOCARCINOMA MUCINOSO SOE\",\"ADENOCARCINOMA COM DIFERENCIACAO NEUROENDOCRINA\",                                \n",
        "                                                                    \"LINFOMA DE CELULAS T PERIFERICO LAID\",\"CARCINOMA EM ADENOMA PLEOMORFICO\",\"FIBROMIXOSSARCOMA\",\"HEMANGIOENDOTELIOMA EPITELIOIDE MALIGNO\",\"GAMOPATIA MONOCLONAL\",\"CARCINOMA ESCAMOSO DE CELULAS PEQUENAS NAO CERATINIZADO\",\"LIPOSSARCOMA DEDIFERENCIADO\",\"CARCINOMA DE CELULAS RENAIS SARCOMATOIDE\",\"LINFOMA DE CELULAS DA ZONA MARGINAL ESPLENICA\",\"CARCINOMA DE CELULAS ESCAMOSAS ADENOIDE,CARCINOMA DE APENDICE CUTANEO\",\"ADENOMA VILOSO SOE\",\"SARCOMA ALVEOLAR DE PARTES MOLES\",\"LINFOMA MALIGNO DE CELULAS GRANDES CLIVADAS DIFUSO\",                             \n",
        "                                                                    \"ADENOCARCINOMA EXOCRINO MISTO DE CELULAS DAS ILHOTAS\",\"ADENOCARCINOMA MUCINOSO TIPO ENDOCERVICAL\",\"HEMANGIOENDOTELIOMA MALIGNO\",\"CORDOMA CONDROIDE\",\"PANMIELOSE AGUDA\",\"TUMOR DE CELULAS DA GRANULOSA SOE\",\"DERMATOFIBROSSARCOMA PROTUBERANTE PIGMENTADO\",\"LEUCEMIA PROMIELOCITICA AGUDA\",\"LEIOMIOSSARCOMA EPITELIOIDE\",\"FIBROMA CELULAR\",\"CARCINOMA NEUROENDOCRINO DE GRANDES CELULAS\",\"LINFOMA LINFOBLASTICO DE CELULAS PRECURSORAS B\",\"TUMOR BASOCELULAR\",\"CARCINOMA LINFOEPITELIAL\",\"NEURINOMATOSE\",\"CARCINOMA PLEOMORFICO\",\"ADENOCARCINOMA ESQUIRROSO\",\n",
        "                                                                    \"LEUCEMIA DE PLASMOCITOSP\",\"APILOMA UROTELIAL\",\"LEUCEMIA MONOCITICA AGUDA\",\"TIMOMA TIPO A MALIGNO\",\"ADENOCARCINOMA OXIFILICO\",\"CARCINOMA FOLICULAR POUCO INVASIVO\",\"CARCINOMA PSEUDOSSARCOMATOSO\",\"CARCINOMA INTRACISTICO SOE\",\"MIELOFIBROSE AGUDA\",\"SARCOMA MIELOIDE\",\"TUMOR FILODES SOE\",\"LEUCEMIA CRONICA SOE\",\"ADENOCARCINOMA IN SITU EM ADENOMA VILOSO\",\"MELANOMA MALIGNO EM MELANOSE PRECANCEROSA\",\"LEUCEMIA MIELOIDE AGUDA RELACIONADA AO TRATAMENTO SOE\",\"ASTROCITOMA GEMISTOCITICO\",\"LIPOMA ATIPICO\",\"CARCINOMA INTRACISTICO NAO INFILTRANTE\",\n",
        "                                                                    \"TUMOR MALIGNO TIPO DE CELULAS PEQUENAS\",\"CARCINOMA HEPATOCELULAR PLEOMORFICO\",\"SARCOMA DE CELULAS CLARAS EXCETO DO RIM M89643\",\"ADENOCARCINOMA EM ADENOMA VILOSO\",\"OSTEOSSARCOMA TELANGIECTASICO\",\"NEURILEMOMA MALIGNO\",\"CARCINOMA PAPILAR VARIANTE FOLICULAR\",\"INSULINOMA MALIGNO\",\"TIMOMA TIPO B2 MALIGNO\",\"OLIGODENDROGLIOMA ANAPLASICO\",\"NEOPLASIA INTRAEPITELIAL ESCAMOSA GRAU III\",\"TUMOR DE KLATSKIN\",\"ADENOCARCINOMA DE CELULAS MISTAS\",\"PERINEUROMA MALIGNO\",\"ADENOCARCINOMA FOLICULAR BEM DIFERENCIADO\",\"MENINGIOMA PAPILAR\",\"LEUCEMIA MIELOIDE AGUDA T 821 q22q22\",                                           \n",
        "                                                                    \"ADENOCARCINOMA EM POLIPOSE ADENOMATOSA DO COLON\",\"ADENOCARCINOMA POLIMORFO DE BAIXO GRAU\",\"SARCOMA SINOVIAL FUSOCELULAR\",\"ADENOCARCINOMA IN SITU EM ADENOMA TUBULOVILOSO\",\"ADENOFIBROMA SEROSO MALIGNIDADE LIMITROFE\",\"LEUCEMIA MIELOIDE CRONICA ATIPICA BCRABL NEGATIVA\",\"CARCINOMA DE CELULAS TRANSICIONAIS FUSIFORMES\",\"GLIOBLASTOMA DE CELULAS GIGANTES\",\"CARCINOMA LOBULAR IN SITU SOE\",\"LINFOMA LINFOEPITELOIDE\",\"CONDROSSARCOMA MIXOIDE\",\"CARCINOIDE DE CELULAS CALICIFORMES\",\"TIMOMA SOE\",\"SINDROME MIELODISPLASICA RELACIONADA A TERAPIA SOE\",\n",
        "                                                                    \"CARCINOMA DE DUCTOS COLETORES\",\"CARCINOFIBROMA\",\"LINFOMA LINFOBLASTICO DE CELULAS PRECURSORAS SOE\",\"LINFANGIOSSARCOMA\",\"ADENOCARCINOMA DE GLANDULA SUDORIPARA\",\"CARCINOMA DE CELULAS GRANULARES\",\"LIPOSSARCOMA MISTO\",\"ADENOCARCINOMA FOLICULAR TRABECULAR\",\"ESTESIONEUROBLASTOMA\",\"ADENOCARCINOMA HEPATOIDE\",\"CARCINOMA HEPATOCELULAR ESQUIRROSO\",\"TUMOR TROFOBLASTICO EPITELIOIDE\",\"TUMOR DE GLANDULA SUDORIPARA SOE\",\"DOEN\\x80A DE HODGKIN CELULARIDADE MISTA SOE\",\"LINFOMA MALIGNO LINFOBLASTICO\",\"LINFOMA MALIGNO DE CELULAS PEQUENAS NAO CLIVADAS DIFUSO\",\n",
        "                                                                    \"TUMOR CISTICO PAPILAR SEROSO DE MALIGNIDADE LIMITROFE\",\"LEUCEMIA PROLINFOCITICA SOE\", \"LESAO LINFOPROLIFERATIVA CUTANEA PRIMARIA DE CELULAS T CD30\",\"ADENOCARCINOFIBROMA DE CELULAS CLARAS\",\"LEUCEMIA MIELOIDE AGUDA COM EOSINOFILOS ANORMAIS NA MEDULA\",\"RABDOMIOSSARCOMA PLEOMORFICO\",\"LEUCEMIALINFOMA DE CELULAS T DO ADULTO\",\"ADENOFIBROMA MUCINOSO MALIGNIDADE LIMITROFE\",\"CARCINOMA TIMICO SOE\",\"LINFOMA SUBCUTANEO TIPO PANICULITE DE CELULAS T\",\"CARCINOMA CROMOFOBO\",\"CARCINOMA EPITELIALMIOEPITELIAL,MENINGIOMA ATIPICO\",\"ADENOCARCINOMA ECRINO\",                                                          \n",
        "                                                                    \"CARCINOMA BRONQUIOLOALVEOLAR MUCINOSO\",\"EPENDIMOMA SOE\",\"MESONEFROMA MALIGNO\",\"MASTOCITOSE MALIGNA\",\"CISTADENOCARCINOMA DE CELULAS ACINOSAS\",\"OSTEOSSARCOMA FIBROBLASTICO\",\"MELANOMA MISTO EPITELIOIDE E FUSOCELULAR\",\"LIPOSSARCOMA DESDIFERENCIADO\",\"LINFOMA HISTIOCITICO VERDADEIRO\",\"HEPATOBLASTOMA\",\"LINFOMA MALIGNO LINFOCITICO BEM DIFERENCIADO NODULAR\",\"ERITROLEUCEMIA\",\"TUMOR DE CELULAS ACINOSAS\",\"GERMINOMA\",\"LEUCEMIA CRONICA MIELOGENICA BCRABL POSITIVA\",\"ADENOCARCINOFIBROMA MUCINOSO\",\"TUMOR DE CELULAS DE LEYDIG SOE\",\n",
        "                                                                    \"CARCINOMA DE CELULAS ESCAMOSAS PEQUENAS NAO CERATINIZADO\",\"CARCINOMA PAPILAR INTRADUCTAL MUCINOSO NAO INVASIVO\",\"DOEN\\x80A DE HODGKIN ESCLEROSE NODULAR FASE CELULAR\",\"OLIGODENDROGLIOMA SOE\",\"CONDROSSARCOMA SOE\",\"HEMANGIOPERICITOMA SOE\",\"CARCINOMA BRONQUIOLOALVEOLAR MISTO MUCINOSO E NAO MUCINOSO\",\"GLIOMA MISTO,MIOFIBROMATOSE\",\"CARCINOMA DO CORTEX SUPRARENAL\",\"GLIOSSARCOMA\",\"CARCINOMA BRONQUIOLOALVEOLAR NAO MUCINOSO\",\"CONDROSSARCOMA DEDIFERENCIADO\",\"CARCINOMA DE CELULAS DE SERTOLI\",\"LEUCEMIA PROLINFOCITICA TIPO CELULAS T\", \n",
        "                                                                    \"CARCINOMA DE CELULAS ESCAMOSAS FUSIFORMES\",\"FIBROMATOSE AGRESSIVA\",\"LINFOMA MALIGNO DE CELULAS PEQUENAS CLIVADAS DIFUSO\",\"LINFOMA DE CELULAS T PERIFERICO DE CELULAS PEQUENAS PLEOMORFICAS\",\"SINDROME MIELODISPLASICA COM DELECAO 5q 5q\",\"SARCOMA ESTROMAL SOE\",\"LINFOMA INTESTINAL DE CELULAS T\",\"TUMOR MALIGNO DE CELULAS CLARAS\",\"CARCINOMA HEPATOCELULAR TIPO FUSOCELULAR\",\"CARCINOMA PAPILAR CELULAS OXIFILICAS\",\"HEMANGIOPERICITOMA MALIGNO\",\"TUMOR MALIGNO DA BAINHA DE NERVO PERIFERICO\",\"TUMOR MALIGNO FIBROSO SOLITARIO\",\"CARCINOMA SECRETOR DA MAMA\",\n",
        "                                                                    \"FIBROMATOSE ABDOMINAL\",\"MELANOMA LENTIGINOSO MALIGNO DAS EXTREMIDADES PERIFERICAS\",\"CARCINOMA PAPILAR DE CELULAS ESCAMOSAS\",\"ADENOCARCINOMA EM POLIPOS ADENOMATOSOS MULTIPLOS\",\"LEUCEMIA LINFOBLASTICA DE CELULAS T PRECURSORAS\",\"LINFOMA MALIGNO CENTROBLASTICOCENTROCITICO FOLICULAR\",\"TERATOMA MALIGNO SOE\",\"OSTEOBLASTOMA AGRESSIVO\",\"LEUCEMIA MIELOMONOCITICA CRONICA\",\"PARAGANGLIOMA SOE\",\"LINFOMA DE CELULAS B MONOCITOIDES\",\"CARCINOMA DUCTAL INFILTRANTE\",\"ADENOCARCINOMA COM METAPLASIA CARTILAGINOSA E OSSEA\",\"DOEN\\x80A DE HODGKIN PREDOMINANCIA LINFOCITICA NODULAR\",\n",
        "                                                                    \"CONDROSSARCOMA DE CELULAS CLARAS\",\"LINFOMA LINFOBLASTICO DE CELULAS PRECURSORAS T\",\"ANEMIA REFRATARIA COM EXCESSO DE BLASTOS EM TRANSFORMACAO\",\"CARCINOMA PAPILAR CELULAS COLUNARES\",\"ADENOCARCINOMA TIPO ENDOCERVICAL\",\"ADENOCARCINOFIBROMA SEROSO\",\"TUMOR DE SACO VITELINO\",\"LEUCEMIA LINFOCITICA DE CELULAS GRANDES TIPO T GRANULARES\",\"SARCOMA DE CELULAS DENDRITICAS FOLICULAR\",\"MELANOMA DE CELULAS BALONIFORMES\",\"DOENCA DE DEPOSITO DE IMUNOGLOBULINA\",\"ADENOCARCINOMA DE PROPAGACAO SUPERFICIAL\",\"SARCOMA SINOVIAL BIFASICO\",\"ADENOMA FOLICULAR ATIPICO\",                                                      \n",
        "                                                                    \"TUMOR GLOMICO MALIGNO\",\"OSTEOSSARCOMA CENTRAL\",\"RABDOMIOSSARCOMA ALVEOLAR\",\"ADENOCARCINOMA COM METAPLASIA FUSOCELULAR\",\"CARCINOMA DE CELULAS POLIGONAIS\",\"HEMANGIOENDOTELIOMA EPITELIOIDE SOE\",\"CARCINOMA FUSOCELULAR\",\"PARAGANGLIOMA MALIGNO\",\"DOEN\\x80A DE HODGKIN DEPLECAO LINFOCITICA SOE\",\"TUMOR NEUROECTODERMICO PRIMITIVO\",\"CARCINOMA MEDULAR ATIPICO\",\"FEOCROMOCITOMA MALIGNO\",\"TUMOR DE CELULAS DAS ILHOTAS SOE\",\"CARCINOMA INTRADUCTAL MICROPAPILAR\",\"CISTADENOCARCINOMA DE DUCTOS BILIARES\",\"MASTOCITOMA SOE\",\"TUMOR DE CELULAS GRANULARES MALIGNO\",\"TUMOR ESTROMAL SOE\",\n",
        "                                                                    \"CARCINOMA DE CELULAS DAS ILHOTAS\",\"ANEMIA REFRATARIA COM SIDEROBLASTOS\",\"TUMOR MUCOEPIDERMOIDE\",\"TIMOMA TIPO AB SOE\",\"MEDULOBLASTOMA SOE\",\"ADENOFIBROMA ENDOMETRIOIDE DE MALIGNIDADE LIMITROFE\",\"CARCINOIDE COMPOSTO\",\"CARCINOMA DE CELULAS PEQUENAS FUSIFORMES\",\"ADENOMA ENDOMETRIOIDE DE MALIGNIDADE LIMITROFE\",\"CARCINOMA ESCAMOSO COM FORMACAO CORNEA\",\"ASTRINOMA MALIGNO\",\"COMEDOCARCINOMA SOE\",\"MELANOMA MALIGNO EM LENTIGO MELANOTICO DE HUTCHINSON\",\"CARCINOMA DE GRANDES CELULAS RABDOIDE\",\"CARCINOMA PAPILAR INTRADUCTAL MUCINOSO INVASIVO\",\"CISTADENOCARCINOMA MUCINOSO NAO INVASIVO\",\n",
        "                                                                    \"CARCINOMA INSULAR\",\"TIMOMA TIPO B1 MALIGNO\",\"LIPOSSARCOMA FIBROBLASTICO,ADENOCARCINOMA PAPILAR ECRINO\",\"LEUCEMIA AGUDA BIFENOTIPICA\",\"MESOTELIOMA FIBROSO MALIGNO\",\"TUMOR CARCINOIDE DE MALIGNIDADE INCERTA\",\"CARCINOMA HEPATOCELULAR DE CELULAS CLARAS\",\"HISTIOCITOSE DE CELULAS DE LANGERHANS SOE\",\"LINFOMA MALIGNO CENTROBLASTICO FOLICULAR\",\"LEUCEMIA LINFOIDE SUBAGUDA\",\"TUMOR MALIGNO DE CELULAS GIGANTES DE PARTES MOLES\",\"RABDOMIOSSARCOMA EMBRIONARIO\",\"SEMINOMA ESPERMATOCITICO LEUCEMIA MONOCITICA CRONICA\",\"LINFOMA DA ZONA T\",\"MESOTELIOMA BIFASICO MALIGNO\",\n",
        "                                                                    \"LINFOMA MALIGNO LINFOCITICO POUCO DIFERENCIADO NODULAR\",\"TERATOMA SOE\",\"SARCOMA DE CELULAS DENDRITICAS DIGITIFORME\",\"LEUCEMIA PROLINFOCITICA TIPO CELULAS B\",\"ADENOCARCINOMA COM METAPLASIA APOCRINA\",\"LESAO IMUNOPROLIFERATIVA ANGIOCENTRICA\",\"ADAMANTINOMA DE OSSOS LONGOS\",\"CONDROSSARCOMA MESENQUIMAL\",\"LEUCEMIA DE CELULAS DE BURKITT\",\"GLIOMATOSE CEREBRAL\",\"MELANOMA FUSOCELULAR TIPO B\",\"ASTROCITOMA FIBRILAR\",\"LINFOMA MALIGNO CENTROCITICO\",\"ADENOCARCINOMA ENDOMETRIOIDE DE CELULAS CILIARES\",\"TUMOR DE CELULAS DE SERTOLILEYDIG POUCO DIFERENCIADA\",\n",
        "                                                                    \"CARCINOMA DE CELULAS GIGANTES E DE CELULAS FUSIFORMES\",\"CARCINOMA HEPATOCELULAR FIBROLAMELAR\",\"CARCINOMA DE CELULAS GIGANTES SEMELHANTES A OSTEOCLASTO\",\"LINFANGIOMIOMATOSE\",\"TUMOR MALIGNO DE CELULAS GIGANTES TENOSSINOVIAL\",\"TIMOMA TIPO B3 SOE\",\"CORIOCARCINOMA SOE\",\"LEIOMIOSSARCOMA MIXOIDE\",\"MELANOMA MALIGNO EM NEVO PIGMENTADO GIGANTE\",\"MESENQUINOMA SOE\",\"LEIOMIOMATOSE SOE\",\"CARCINOMA ESCLEROSANTE NAOENCAPSULADO\",\"OLIGODENDROBLASTOMA\",\"LINFOMA MALIGNO CENTROBLASTICOCENTROCITICO DIFUSO\",\"DOEN\\x80A DE HODGKIN PREDOMINANCIA LINFOCITICA SOE\",\"ESPIRADENOMA ECRINO MALIGNO\",\n",
        "                                                                    \"TUMOR MALIGNO DE CELULAS GIGANTES DO OSSO\",\"CARCINOMA DE CELULAS PARIETAIS\",\"SARCOMA DE CELULAS DE LANGERHANS\",\"NEOPLASIA INTRATUBULAR DE CELULAS GERMINATIVAS\",\"MESENQUIMOMA SOE\",\"GANGLIOGLIOMA\",\"TUMOR MIOFIBROBLASTICO SOE\",\"CARCINOMA ENDOMETRIOIDE\",\"RABDOMIOSSARCOMA EMBRIONARIO SOE\",\"CRANIOFARINGIOMA ADAMANTINOMATOSO\",\"TIMOMA TIPO AB MALIGNO\",\"CARCINOMA IN SITU DE CELULAS ESCAMOSAS COM INVASAO QUESTION\\xb5VEL DO ESTROMA\",\"SARCOMA RABDOIDE\", \"SARCOMA SINOVIAL DE CELULAS EPITELIOIDES\",\"MESENQUIMOMA MALIGNO\",\"TUMOR HIPERNEFROIDE\",\"LINFOMA MALIGNO CENTROBLASTICO DIFUSO\",\n",
        "                                                                    \"LEUCEMIA DE CELULAS TIPO NK AGRESSIVA\",\"FIBROBLASTOMA DE CELULAS GIGANTES\", \"CARCINOMA PSEUDOPAPILAR SOLIDO\",\"TUMOR DO GLOMO JUGULAR\",\"CARCINOMA EMBRIONARIO SOE\",\"SARCOMA DE C\\x90LULAS CLARAS DO RIM\",\"TUMOR DO CORPO CAROTIDEO\",\"GASTRINOMA SOE\",\"NEVO AZUL MALIGNO\",\"FIBROMA DESMOPLASICO\",\"DISGERMINOMA\",\"TUMOR PAPILAR CISTICO\",\"HEMANGIOBLASTOMA\",\"MIOSSARCOMA\",\"CARCINOMA PAPILAR ENCAPSULADO\",\"ESTROMA OVARIANO MALIGNO\",\"TUMOR DE MUSCULO LISO SOE\",\"CARCINOMA CISTICO HIPERSSECRETOR\",\"LINFOMA MALIGNO DO MEDIASTINO DE CELULAS GRANDES B\",\"AMELOBLASTOMA MALIGNO\",\n",
        "                                                                    \"TUMOR ODONTOGENICO MALIGNO\",\"MENINGIOMATOSE SOE\",\"TUMOR DE BRENNER DE MALIGNIDADE LIMITROFE\",\"TUMOR MISTO MESODERMICO\",\"CARCINOSSARCOMA EMBRIONARIO\",\"ADENOCARCINOMA FETAL\",\"TUMOR DE CELULAS GIGANTES DE PARTES MOLES SOE\",\"TUMOR DO CORPO AORTICO\",\"CARCINOMA DUCTAL DESMOPLASICO\",\"NEUROBLASTOMA SOE\",\"POLIEMBRIOMA\",\"RABDOMIOSSARCOMA FUSOCELULAR\",\"TIMOMA TIPO B3 MALIGNO\",\"CARCINOMA DE CELULAS VITREAS\",\"CARCINOMA RICO EM LIPIDES\",\"SARCOMA DE CELULAS PEQUENAS\",\"MESOTELIOMA CISTICO\",\"CARCINOMA ACIDOFILO\",\"CRANIOFARINGIOMA\",\"ASTROCITOMA PROTOPLASMATICO\",\n",
        "                                                                    \"CARCINOMA MISTO MEDULAR PAPILAR\",\"HISTIOCITOMA FIBROSO ANGIOMATOIDE\",\"ASTROCITOMA PILOCITICO\",\"EPENDIMOMA PAPILAR\",\"TUMOR MALIGNO DE CELULAS DE LEYDIG\",\"CARCINOMA SCHNEIDERIANO\",\"TUMOR MALIGNO TIPO DE CELULAS GIGANTES\",\"TUMOR DE MUSCULO LISO DE MALIGNIDADE LIMITROFE\",\"NEVO PIGMENTADO GIGANTE SOE\",\"OSTEOSSARCOMA PERIOSTAL\",\"MELANOMA FUSOCELULAR TIPO A\",\"TUMOR MALIGNO DA BAINHA DE NERVO PERIFERICO COM DIFERENCIACAO RABDOMIOBLASTICA\",\"TUMOR MISTO DE CELULAS GERMINATIVAS\",\"ANGIOMIXOMA\",\"LINFOMA DE CELULAS T PERIFERICO PLEOMORFICO DE CELULAS MEDIAS E GRANDES\",\n",
        "                                                                    \"HISTIOCITOSE MALIGNA\",\"ABDOMIOSSARCOMA TIPO MISTO\",\"CISTADENOMA MUCINOSO PAPILAR DE MALIGNIDADE LIMITROFE\",\"CARCINOMA MEDULAR COM ESTROMA LINFOIDE\",\"OSTEOSSARCOMA EM DOENCA DE PAGET DO OSSO\",\"PAPILOMA DE CELULAS TRANSICIONAIS TIPO INVERTIDO\", \"CORDOMA DEDIFERENCIADO\",\"TUMOR PAPILAR DE SUPERFICIE SEROSA MALIGNIDADE LIMITROFE\",\"NEUROFIBROMATOSE SOE\",\"NEUROCITOMA CENTRAL\",\"CARCINOMA MEDULAR COM ESTROMA AMILOIDE\",\"MEDULOBLASTOMA DESMOPLASICO\",\"ANDROBLASTOMA SOE\",\"CORIOCARCINOMA COMBINADO COM OUTROS ELEMENTOS DE CELULAS GERMINATIVAS\",\"TUMOR ODONTOGENICO SOE\",\n",
        "                                                                    \"TUMOR DE CELULAS ESTEROIDE MALIGNO\",\"ADENOFIBROMA DE CELULAS CLARAS MALIGNIDADE LIMITROFE\",\"CARCINOMA DA GLANDULA PITUITARIASOE\",\"PARAGANGLIOMA EXTRASUPRARENAL SOE\",\"PINEOCITOMA\",\"EPENDIMOMA MIXOPAPILAR\",\"HISTIOCITOSE DE CELULAS DE LANGERHANS MULTIFOCAL\",\"PARAGANGLIOMA EXTRASUPRARENAL MALIGNO\",\"TUMOR CARCINOIDE ARGENTAFINICO MALIGNO\",\"TUMORLET\",\"HISTIOCITOSE DE CELULAS DE LANGERHANS DISSEMINADA\",\"MELANOSE PRECANCEROSA SOE\",\"ANEMIA REFRATARIA COM EXCESSO DE BLASTOS COM TRANSFORMACAO\",\"CARCINOMA RICO EM GLICOGENIO\",\"TUMOR DESMOPLASICO DE CELULAS PEQUENAS E REDONDAS\",\n",
        "                                                                    \"TUMOR DE CELULAS DE SERTOLILEYDIG RETIFORME\",\"TERATOMA COM TRANSFORMACAO MALIGNA\",\"CISTADENOMA SEROSO PAPILAR DE MALIGNIDADE LIMITROFE\",\"DOEN\\x80A DE HODGKIN DEPLECAO LINFOCITICA RETICULAR\",\"XANTOASTROCITOMA PLEOMORFICO\",\"LINFOMA HEPATOESPLENICA TIPO GAMADELTA\",\"SINDROME HIPEREOSINOFILICO\",\"TUMOR FIBROHISTIOCITICO PLEXIFORME\",\"PINEOBLASTOMA\",\"TUMOR DE CELULAS DE SERTOLILEYDIG COM DIFERENCIACAO INTERMEDIARIA E ELEMENTOS H\",\"TUMOR CISTICO MUCINOSO COM DISPLASIA MODERADA\",\"LINFADENOPATIA ANGIOIMUNOBLASTICA\",\"SARCOMA CEREBELAR SOE\",\n",
        "                                                                    \"OSTEOSSARCOMA DE SUPERFICIE DE ALTO GRAU\",\"TUMOR DE CELULAS DE SERTOLI SOE\",\"TUMOR DE CELULAS DA TECAGRANULOSA\",\"CISTADENOMA PAPILAR DE MALIGNIDADE LIMITROFE\",\"PILOMATRIXOMA MALIGNO\",\"CARCINOIDE DE CELULAS SEMELHANTES A ENTEROCROMAFINICAS SOE\",\"LEUCEMIA DE MASTOCITOS\",\"OSTEOSSARCOMA PARAOSTAL\",\"EFUSAO POR LINFOMA PRIMARIO\",\"LEIOMIOMA METASTATIZANTE\",\"TUMOR DE TRITAO MALIGNO\",\"OSTEOSSARCOMA INTRAOSSEO BEM DIFERENCIADO\",\"LEUCEMIA EOSINOFILICA\",\"DOENCA DA CADEIA PESADA ALFA\",\"CARCINOMA DE CELULAS RENAIS\",\"SEMINOMA ANAPLASICO\",\"CARCINOMA MISTO MEDULAR FOLICULAR\",\n",
        "                                                                    \"TUMOR DE CELULAS DE SERTOLILEYDIG COM DIFERENCIACAO INTERMEDIARIA\",\"ASTROBLASTOMA\",\"TUMOR DE ASKIN\",\"DOEN\\x80A DE HODGKIN PREDOMINANCIA LINFOCITICA DIFUSA\",\"GANGLIOGLIOMA ANAPLASICO\",\"MELANOCITOMA MENINGEANO\",\"TUMOR DE SEIO ENDODERMICO\",\"FIBROSSARCOMA PERIOSTAL\",\"ADENOCARCINOMA CERUMINOS O\",\"CARCINOMA DE PLEXO COROIDE\",\"CONDROMATOSE SOE\",\"TUMOR MALIGNO DE CELULAS SEMELHANTES A ENTEROCROMAFINICAS\",\"CRANIOFARINGIOMA PAPILAR\",\"CARCINOMA SEROSO PAPILAR SUPERFICIAL\",\"GLIOMA SUBEPENDIMAL\",\"LINFOMA MALIGNO LINFOCITICO NODULAR MODERADAMENTE DIFERENCIADO\",\"TERATOCARCINOMA\",\n",
        "                                                                    \"TUMOR DOS CORDOES SEXUAIS COM TUBULOS ANULARES\",\"SARCOMA DE HODGKIN\",\"RETINOBLASTOMA DIFERENCIADO\",\"GLUCAGONOMA MALIGNO\",\"BLASTOMA PULMONAR\",\"SOMATOSTATINOMA SOE\",\"TUMOR DE CELULAS GERMINATIVAS NAO SEMINOMATOSO\",\"GLIOMA CORDOIDE\",\"OSTEOSSARCOMA JUSTACORTICAL\",\"ASTROCITOMA SUBEPENDIMAL DE CELULAS GIGANTES\",\"TUMOR BRONCOALVEOLAR INTRAVASCULAR\",\"APUDOMA\",\"TUMOR CISTICO DE CELULAS CLARAS MALIGNIDADE LIMITROFE\",\"SARCOMA MONSTROCELULAR\",\"TUMOR DE CELULAS DE SERTOLILEYDIG POUCO DIFERENCIADO COM ELEMENTOS HETEROLOGOS\",\"ADENOMATOSE PULMONAR\",\"TUMOR DO ESTROMA DOS CORDOES SEXUAIS FORMAS MISTAS\",\n",
        "                                                                    \"GANGLIONEUROBLASTOMA\",\"CONDROBLASTOMA MALIGNO\",\"TECOMA MALIGNO\",\"HEMANGIOENDOTELIOMA FUSOCELULAR\",\"MOLA HIDATIFORME INVASIVA\",\"PARAGANGLIOMA SIMPATICO\",\"TUMOR DO ESTROMA DOS CORDOES SEXUAIS COM DIFERENCIACAO INCOMPLETA\",\"SARCOMATOSE MENINGEA\",\"NEFROBLASTOMA SOE\",\"CARCINOMA BASOFILO\",\"MEDULOMIOBLASTOMA\",\"LEUCEMIA MONOCITICA ALEUCEMICA\",\"SARCOMA DE MASTOCITOS\",\"SARCOMA EMBRIONARIO\",\"BLASTOMA PLEURO PULMONAR\",\"NEFROMA MESOBLASTICO\",\"GLUCAGONOMA SOE\",\"NEFROMA MALIGNO CISTICO\",\"GONADOBLASTOM\",\"DOEN\\x80A DE HODGKIN DEPLECAO LINFOCITICA COM FIBROSE DIFUSA\",\"TUMOR TROFOBLASTICO DE LOCALIZACAO PLACENTARIA\",\n",
        "                                                                    \"LEUCEMIA LINFOIDE ALEUCEMICA\",\"FIBROSSARCOMA AMELOBLASTICO\",\"ANDROBLASTOMA MALIGNO\",\"TUMOR EPITELIAL FUSOCELULAR SEMELHANTE A CELULAS TIMICAS\",\"TUMOR JUVENIL DE CELULAS DA GRANULOSA\",\"MEDULOEPITELIOMA SOE\",\"OSTEOCONDROMATOSE SOE\",\"HISTIOCITOSE DE CELULAS DE LANGERHANS UNIFOCAL\",\"DOENCA DE LETTERERSIWE\",\"PAPILOMA ATIPICO DE PLEXO COROIDE\",\"LEUCEMIA SUBAGUDA SOE\",\"LEUCEMIA MIELOIDE SUBAGUDA\",\"FIBROSSARCOMA DE FASCIA\",\"TERATOMA MALIGNO NAO DIFERENCIADO\",\"ESTESIONEUROCITOMA\",\"TERATOMA MALIGNO INTERMEDIARIO\",\"TERATOMA MALIGNO INDIFERENCIADO\",\"OSTEOSSARCOMA INTRACORTICAL\",\n",
        "                                                                    \"CONDROSSARCOMA JUSTACORTICAL\",\"TUMOR DE CELULAS DE SERTOLI GRANDES CELULAS E CALCIFICADAS\",\"TUMOR NEUROGENICO OLFATIVO\",\"MEDULOBLASTOMA DE CELULAS GRANDES\",\"RETINOBLASTOMA SOE\",\"TUMOR TERATOIDERABDOIDE ATIPICO\",\"NEUROEPITELIOMA SOE\",\"PINEALOMA\",\"PANCREATOBLASTOMA\",\"GLIOFIBROMA\",\"NEFROBLASTOMA CISTICO PARCIALMENTE DIFERENCIADO\",\"LEUCEMIA MIELOMONOCITICA JUVENIL\",\"MEDULOEPITELIOMA TERATOIDE\",\"ASTROCITOMA DESMOPLASTICO INFANTIL\",\"FIBROSSARCOMA INFANTIL\",\"PAPILOMA MALIGNO DE PLEXO COROIDE\",\"LEUCEMIA BASOFILICA\",\"RETINOBLASTOMA INDIFERENCIADO\",\"LEUCEMIA MONOCITICA SOE\",\n",
        "                                                                    \"RABDOMIOSSARCOMA COM DIFERENCIACAO GANGLIONICA\",\"MELANOMATOSE MENINGEANA\",\"SIALOBLASTOMA\"), labels(c(seq.int(1:770)))))\n",
        "anos$EC = as.numeric(factor(anos$EC, levels = c(\"X\",\"Y\",\"I\",\"II\",\"0\",\"IIIB\",\"III\",\"IIB\",\"IV\",\"IA\",\"IIA\",\"IIIA\",\"0A\",\"IVA\",\"IIIC\",\"IB\",\"IVB\",\"IVC\",\"IB1\",\"IIC\",\"IC\",\"IB2\",\"IIA1\",\"0IS\",\"IA1\",\"IIIC2\",\"IIIC1\",\"IA2\",\"IIA2\",\"IS\"), labels(c(seq.int(1:30))))) \n",
        "anos$ECGRUP = as.numeric(factor(anos$ECGRUP, levels = c(\"X\",\"Y\",\"I\",\"II\",\"0\",\"III\",\"IV\"), labels(c(seq.int(1:7)))))                           \n",
        "anos$T = as.numeric(factor(anos$T, levels = c(\"X\",\"Y\",\"1\",\"2\",\"3\",\"IS\",\"4\", \"1A\",\"4C\",\"A\",\"4B\",\"2A\",\"4A\",\"2B\",\"3B\",\"1B\",\"1C\",\"3A\",\"2C\",\"4D\",\"0\",\"CDIS\",\"PAGET\",\"3C\",\"1MIC\",\"4E\",\"CLIS\",\"2D\",\"3D\"), labels(c(seq.int(1:29)))))\n",
        "anos$N = as.numeric(factor(anos$N, levels = c(\"X\",\"Y\",\"0\",\"2\",\"1\",\"2B\",\"1B\",\"2A\",\"1A\",\"3\",\"1C\",\"PN0\",\"3A\",\"CN0\",\"3C\",\"2C\",\"3B\"), labels(c(seq.int(1:17)))))\n",
        "anos$M = as.numeric(factor(anos$M, levels = c(\"X\",\"Y\",\"0\",\"1\",\"1B\",\"1A\",\"1C\"), labels(c(seq.int(1:7)))))\n",
        "anos$TRATAMENTO = as.numeric(factor(anos$TRATAMENTO, levels = c(\"A\",\"J\",\"D\",\"B\",\"I\",\"C\",\"F\",\"H\",\"E\",\"G\"), labels(c(seq.int(1:10)))))  \n",
        "anos$FAIXAETAR = as.numeric(factor(anos$FAIXAETAR, levels = c(\"70+\",\"60-69\",\"50-59\",\"40-49\",\"30-39\",\"20-29\",\"10-19\",\"00-09\"), labels(c(seq.int(1:8)))))  \n",
        "anos$DSCCIDO = as.numeric(factor(anos$DSCCIDO, levels = c(\"CARCINOMA BASOCELULAR SOE\",\"LINFOMA MALIGNO DE LINFOCITOS CELULAS B PEQUENAS SOE\",\"CARCINOMA ESCAMOCELULAR SOE\",\"CARCINOMA DE CELULAS TRANSICIONAIS SOE\",\"ADENOCARCINOMA SOE\",\"EPITELIOMA MALIGNO\",\"SARCOMA DE KAPOSI\",\"CARCINOMA BASOCELULAR SUPERFICIAL MULTIFOCAL\",\"CARCINOMA ESCAMOCELULAR IN SITU SOE\",\"ADENOCARCINOMA TUBULAR\",\"CARCINOMA SOE\",\"CARCINOMA DE CELULAS ACINOSAS\", \"CARCINOMA BASOCELULAR NODULAR\",                                                           \n",
        "                                                                \"CARCINOMA DUCTAL INFILTRANTE SOE\",\"CARCINOMA BASOCELULAR INFILTRATIVO SOE\",\"CARCINOMA DE CELULAS EM ANEL DE SINETE\",\"CARCINOMA PAPILAR SOE\",\"NEOPLASIA MALIGNA\",\"DOENCA DE BOWEN\",\"CARCINOMA BASOESCAMOSO\",\"LEUCEMIA MIELOMONOCITICA CRONICA SOE\",\"CARCINOMA PSEUDOSSARCOMATOSO\",\"LEUCEMIA MIELOIDE AGUDA COM DISPLASIA DE MULTILINHAGEM\",\"CARCINOMA DUCTAL INFILTRANTE E LOBULAR\",\"GRANULOMA DE HODGKIN\",\n",
        "                                                                \"LEUCEMIA LINFOBLASTICA DE CELULAS PRECURSORAS SOE\",\"CARCINOMA DE CELULAS DE TRANSICAO PAPILAR NAO INVASIVO\",\"MIELOMA MULTIPLO\",\"TUMOR ESTROMAL GASTROINTESTINAL SOE\",\"CARCINOSSARCOMA SOE\",\"CISTADENOCARCINOMA SEROSO SOE\",\"LINFOMA MALIGNO NAOHODGKIN SOE\",\"CARCINOMA METATIPICO\",\"CARCINOMA ESCAMOSO CERATINIZADO SOE\",\"EPENDIMOMA ANAPLASICO\",\"CARCINOMA LOBULAR SOE\",\"ANGIOMIOSSARCOMA\",                                                                         \n",
        "                                                                \"CARCINOMA ANAPLASICO SOE\",\"CARCINOMA DE CELULAS DE MERKEL\",\"SINDROME MIELODISPLASICA SOE\",\"MELANOMA MALIGNO SOE\",\"ADENOCARCINOMA TIPO INTESTINAL\",\"CARCINOMA DE CELULAS PEQUENAS E DE CELULAS GRANDES\",\"LINFOMA MALIGNO DE CELULAS GRANDES B DIFUSO SOE\",\"LIPOSSARCOMA BEM DIFERENCIADO\",\"CARCINOMA VERRUCOSO SOE\",\"CARCINOMA PAPILAR DE CELULAS TRANSICIONAIS\",\"TUMOR MALIGNO TIPO DE CELULAS FUSIFORMES\",                                                 \n",
        "                                                                \"CARCINOMA ESCAMOSO DE CELULAS FUSIFORMES\",\"NEOPLASIA INTRAEPITELIAL GLANDULAR GRAU III\",\"CARCINOMA ESCAMOSO BASALOIDE\",\"CARCINOMA BASAL ADENOIDE\",\"CARCINOMA CLOACOGENICO\",\"ADENOCARCINOMA MUCINOSO\",\"LINFOMA FOLICULAR GRAU 2\",\"TRICOLEMOCARCINOMA\",\"LEUCEMIA MEGACARIOBLASTICA AGUDA\",\"CARCINOMA MUCOEPIDERMOIDE\",\"ADENOCARCINOMA FOLICULAR SOE\",\"CARCINOMA TIPO DIFUSO\",\"CARCINOMA BASOCELULAR FIBROEPITELIAL\",                                                     \n",
        "                                                                \"CARCINOMA INDIFERENCIADO SOE\",\"CARCINOMA ESCAMOSO MICROINVASOR\",\"LINFOMA MALIGNO SOE\",\"SARCOMA FUSOCELULAR\",\"CARCINOMA ADENOIDE CISTICO\",\"LEUCEMIA LINFOCITICA CRONICA DE CELULAS BLINFOMA LINFOCITICO DE PEQUENAS CELULAS\",\"MELANOMA NODULAR\",\"CARCINOMA DE CELULAS NAO PEQUENAS\",\"CARCINOMA IN SITU CRIBRIFORME\",\"HEMANGIOSSARCOMA\",\"ALTERACOES LINFOPROLIFERATIVAS SOE\",\"LINFOMA DE CELULAS DA ZONA DO MANTO\",                                                      \n",
        "                                                                \"ADENOCARCINOMA DE CELULAS CLARAS SOE\",\"TROMBOCITEMIA ESSENCIAL\",\"MESOTELIOMA MALIGNO\",\"CARCINOMA OAT CEL\",\"CARCINOMA DUCTAL INFILTRATIVO MISTO COM OUTROS TIPOS DE CARCINOMA\",\"HISTIOCITOMA FIBROSO ATIPICO\",\"CARCINOMA DUCTULAR INFILTRANTE\",\"CARCINOMA FUSOCELULAR SOE\",\"ADENOCARCINOMA VILOSO\",\"LEIOMIOSSARCOMA SOE\",\"NEOPLASIA INTRAEPITELIAL ESCAMOSA GRAU III\",\"CARCINOMA DE CELULAS PEQUENAS SOE\",                                                        \n",
        "                                                                \"ADENOCARCINOMA APOCRINO\",\"MELANOMA EM LENTIGO MALIGNO\",\"ADENOFIBROMA ENDOMETRIOIDE MALIGNO\",\"CISTADENOCARCINOMA MUCINOSO PAPILAR\",\"ADENOCARCINOMA PRODUTOR DE MUCINA\",\"ADENOCARCINOMA ENDOMETRIOIDE SOE\",\"ADENOCARCINOMA IN SITU SOE\",\"LINFOMA DE ZONA MARGINAL TIPO CELULAS B SOE\",\"MELANOMA LENTIGINOSO MALIGNO DAS EXTREMIDADES\",\"HISTIOCITOMA FIBROSO MALIGNO\",\"SARCOMA DE EWING\",                                                                        \n",
        "                                                                \"ADENOCARCINOMA EM ADENOMA TUBULOVILOSO\",\"CARCINOMA NEUROENDOCRINO SOE\",\"SARCOMA SOE\",\"CISTADENOCARCINOMA PAPILAR SEROSO\",\"LEUCEMIA MIELOIDE AGUDA SOE\",\"GLIOBLASTOMA SOE\",\"DOENCA MIELOPROLIFERATIVA SOE\",\"LEUCEMIA MIELOIDE CRONICA SOE\",\"CARCINOMA IN SITU SOE\",\"LINFOMA FOLICULAR SOE\",\"MELANOMA LENTIGINOSO DE MUCOSA\",\"MELANOMA IN SITU\",\"DOENCA DE PAGET EXTRAMAMARIA EXCETO DOENCA DE PAGET DO OSSO\",                              \n",
        "                                                                \"LIPOSSARCOMA PLEOMORFICO\",\"CARCINOMA CRIBRIFORME SOE\",\"CARCINOMA METAPLASICO SOE\",\"CARCINOMA HEPATOCELULAR SOE\",\"LINFOMA ANAPLASICO DE GRANDES CELULAS T E NULL\",\"LEUCEMIA MIELOIDE AGUDA COM DIFERENCIACAO MINIMA\",\"CARCINOMA ESCAMOCELULAR PAPILAR\",\"ADENOCARCINOMA BASOCELULAR\",\"MICOSE FUNGOIDE\",\"CELULAS TUMORAIS INCERTO SE BENIGNAS OU MALIGNAS\",\"CARCINOMA PILOMATRICIAL MALIGNO\",                                                          \n",
        "                                                                \"LEUCEMIA SOE\",\"OSTEOSSARCOMA CONDROBLASTICO\",\"LINFOMA MALIGNO DE CELULAS GRANDES B DIFUSO IMUNOBLASTICO SOE\",\"TUMOR CARCINOIDE SOE EXCETO DO APENDICE M82401\",\"ADENOCARCINOMA ALVEOLAR\",\"CARCINOMA INFLAMATORIO\",\"CARCINOMA DE CELULAS RENAIS SOE\",\"CARCINOMA MEDULAR SOE\",\"LEUCEMIA AGUDA SOE\",\"LINFOMA FOLICULAR GRAU 1\",\"ADENOCARCINOMA DE GLANDULAS DA REGIAO ANAL\",\"CARCINOMA INTRADUCTAL NAO INFILTRANTE SOE\",                                                \n",
        "                                                                \"DOEN\\x80A DE HODGKIN ESCLEROSE NODULAR SOE\",\"COLANGIOCARCINOMA\",\"SARCOMA SINOVIAL SOE\",\"ADENOCARCINOMA BRONQUIOLOALVEOLAR SOE\",\"ADENOCARCINOMA PAPILAR INTRADUCTAL COM INVASAO\",\"DOEN\\x80A DE HODGKIN SOE\",\"LINFOMA DE BURKITT SOE\",\"DOENCA DE PAGET E CARCINOMA DUCTAL INFILTRANTE DA MAMA\",\"SARCOMA ESTROMAL GASTROINTESTINAL\",\"NEOPLASIA DE CELULAS TRANSICIONAIS PAPILAR DE BAIXO POTENCIAL DE MALIGNIDADE\",             \n",
        "                                                                \"TUMOR MALIGNO DE CELULAS DA GRANULOSA\",\"CARCINOMA DUCTAL IN SITU TIPO SOLIDO\",\"CARCINOMA ESCAMOSO ADENOIDE\",\"LINFOMA FOLICULAR GRAU 3\",\"SARCOMA DE CELULAS GIGANTES EXCETO DE OSSO M92503\",\"LINFOMA MALIGNO MISTO DE CELULAS PEQUENAS E GRANDES DIFUSO\",\"MELANOMA DE PROPAGACAO SUPERFICIAL\",\"ADENOCARCINOMA PAPILAR SOE\",\"DOENCA DE PAGET E CARCINOMA INTRADUCTAL DA MAMA\",\"CARCINOMA PAPILAR IN SITU\",                                                                \n",
        "                                                                \"CARCINOMA ESCAMOSO TIPO CELULAS CLARAS\",\"ADENOCARCINOMA COM SUBTIPOS MISTOS\",\"CARCINOMA DE CELULAS TRANSICIONAIS IN SITU\",\"TUMOR FILODES MALIGNO\",\"CARCINOMA SOLIDO SOE\",\"MELANOMA MALIGNO EM REGRESSAO\",\"CARCINOMA DE CELULAS GRANDES SOE\",\"CARCINOMA DE CELULAS DE TRANSICAO MICROPAPILAR\",\"LEUCEMIA LINFOIDE SOE\",\"MIXOSSARCOMA\",\"LEUCEMIA MIELOIDE SOE\",\"ANEMIA REFRATARIA COM EXCESSO DE BLASTOS\",                                                 \n",
        "                                                                \"LENTIGO MALIGNO\",\"CARCINOMA BASALOIDE\",\"ADENOCARCINOMA ENDOMETRIOIDE TIPO SECRETOR\",\"CARCINOMA LOBULAR INFILTRANTE MISTO COM OUTROS TIPOS DE CARCINOMA\",\"ADENOSSARCOMA\",\"MICROCARCINOMA PAPILAR\",\"ADENOCARCINOMA IN SITU EM POLIPO ADENOMATOSO\",\"FIBROSSARCOMA SOE\",\"GLIOMA MALIGNO\",\"CORDOMA SOE\",\"DERMATOFIBROSSARCOMA SOE\",\"LEUCEMIA MIELOMONOCITICA AGUDA\",\"MELANOMA AMELANOTICO\",\"ADENOCARCINOMA PAPILAR INTRADUCTAL NAO INFILTRANTE\",                                       \n",
        "                                                                \"MELANOMA DE CELULAS EPITELIOIDES\",\"LINFOMA NASAL E TIPO NASAL DE CELULAS TNK\",\"DOENCA DE PAGET MAMARIA\",\"MELANOMA MALIGNO EM NEVO JUNCIONAL\",\"ANEMIA REFRATARIA\",\"LEUCEMIA PROLINFOCITICA SOE\",\"ASTROCITOMA SOE\",\"CARCINOMA DE CELULAS GIGANTES E DE CELULAS FUSOCELULAR\",\"CITOPENIA REFRATARIA COM DISPLASIA MULTILINHAGEM\",\"DOEN\\x80A DE HODGKIN ESCLEROSE NODULAR GRAU 1\",\"RABDOMIOSSARCOMA SOE\",\"LIPOSSARCOMA DE CELULAS REDONDAS\",\n",
        "                                                                \"MACROGLOBULINEMIA DE WALDENSTROM\",\"ADENOMA BRONQUICO SOE\",\"LINFOMA COMPOSTO: HODGKIN E NAOHODGKIN\",\"TUMOR NEUROECTODERMICO PERIFERICO\",\"POROMA ECRINO MALIGNO\",\"CARCINOIDE TUBULAR\",\"LIPOSSARCOMA SOE\",\"ADENOCARCINOMA SEBACEO\",\"DOENCA MIELOPROLIFERATIVA CRONICA SOE\",\"HIDRADENOMA NODULAR MALIGNO\",\"SARCOMA EPITELIOIDE\",\"LINFOMA DE CELULAS T MADURAS SOE\",\"TIMOMA MALIGNO\",\"TUMOR MISTO MULLERIANO\",\"ADENOMAS ENDOCRINOS MULTIPLOS\",                                                            \n",
        "                                                                \"DOENCA LINFOPROLIFERATIVA GAMAT\",\"COMEDOCARCINOMA NAO INFILTRANTE\",\"LEUCEMIA TIPO CELULAS PILOSAS\",\"RABDOMIOSSARCOMA PLEOMORFICO TIPO ADULTO\",\"PLASMOCITOMA SOE\",\"LIPOSSARCOMA MIXOIDE\",\"ADENOCARCINOMA TRABECULAR\",\"CISTADENOCARCINOMA SOE\",\"LEUCEMIA MIELOIDE AGUDA COM MATURACAO\",\"TUMOR CISTICO MUCINOSO DE MALIGNIDADE LIMITROFE\",\"OSTEOSSARCOMA SOE\",\"LEUCEMIA LINFOBLASTICA DE CELULAS PRECURSORAS TIPO B\",\n",
        "                                                                \"DOENCA IMUNOPROLIFERATIVA SOE\",\"ADENOCARCINOMA COM METAPLASIA ESCAMOSA\",\"SINDROME DE SEZARY\",\"MIELOSCLEROSE COM METAPLASIA MIELOIDE\",\"TUMOR CARCINOIDE ATIPICO\",\"LINFOMA MALIGNO LINFOPLASMOCITICO\",\"ADENOCARCINOMA EM POLIPO ADENOMATOSO\",\"LEUCEMIA CRONICA NEUTROFILICA\",\"CARCINOMA ADENOESCAMOSO\",\"CISTADENOCARCINOMA PAPILAR SOE\",\"MENINGIOMA MALIGNO\",\"SEMINOMA SOE\",\"TUMOR ADENOCARCINOIDE\",\"LINFOMA CUTANEO DE CELULAS T SOE\",\n",
        "                                                                \"CARCINOMA DE CELULAS PEQUENAS INTERMEDIARIAS\",\"OSTEOSSARCOMA DE CELULAS PEQUENAS\",\"CARCINOMA IN SITU INTRADUCTAL E LOBULAR\",\"CARCINOMA DUCTAL DE GLANDULA SUDORIPARA ESCLEROSANTE\",\"CARCINOMA ESCAMOCELULAR IN SITU COM INVASAO QUESTIONAVEL DO ESTROMA\",\"CARCINOMA DE CELULAS RENAIS TIPO CROMOFOBO\",\"LINFOMA DE HODGKIN TIPO LINFOCITICO\",\"NEOPLASIA DE COMPORTAMENTO INCERTO SE BENIGNO OU MALIGNO\",\n",
        "                                                                \"PLASMOCITOMA EXTRAMEDULAR EXCETO OSSO M97313\",\"MESOTELIOMA EPITELIOIDE MALIGNO\",\"LINITE PLASTICA\",\"TUMOR MISTO MALIGNO SOE\",\"TUMOR PAPILAR INTRADUCTAL MUCINOSO COM DISPLASIA MODERADA\",\"TIMOMA TIPO A SOE\",\"CARCINOMA DE CELULAS RENAIS ASSOCIADO A CISTO\",\"CARCINOMA SIMPLES\",\"CARCINOMA PAPILAR DE SUPERFICIE SEROSA\",\"SARCOMA INDIFERENCIADO\",\"SARCOMA HISTIOCITICO\",\"CARCINOMA ESCAMOSO DE CELULAS GRANDES NAO CERATINIZADO SOE\",\n",
        "                                                                \"CARCINOMA HEPATOCELULAR E COLANGIOCARCINOMA COMBINADOS\",\"TUMOR DE CELULAS GIGANTES DO OSSO SOE\",\"LEUCEMIA MIELOIDE AGUDA SEM MATURACAO\",\"HEMANGIOENDOTELIOMA SOE\",\"SARCOMA DO ESTROMA ENDOMETRIAL BAIXO GRAU\",\"MIOEPITELIOMA MALIGNO,POLICITEMIA VERA\",\"DOEN\\x80A DE HODGKIN ESCLEROSE NODULAR GRAU 2\",\"SARCOMA DO ESTROMA ENDOMETRIAL SOE\",\"MELANOMA DESMOPLASICO MALIGNO\",\"LEUCEMIA MIELOIDE AGUDA COM ANORMALIDADE EM 11q23\",                                        \n",
        "                                                                \"MELANOMA FUSOCELULAR SOE\",\"CISTADENOMA SEROSO DE MALIGNIDADE LIMITROFE BORDERLINE\",\"CARCINOMA DE CELULAS GIGANTES\",\"CARCINOMA ESCAMOSO PAPILAR NAO INVASIVO\",\"TIMOMA TIPO B1 SOE\",\"CISTADENOCARCINOMA MUCINOSO SOE\",\"ADENOCARCINOMA COM DIFERENCIACAO NEUROENDOCRINA\",\"LINFOMA ANGIOIMUNOBLASTICO DE CELULAS T\",\"CARCINOMA EM ADENOMA PLEOMORFICO\",\"FIBROMIXOSSARCOMA\",\"HEMANGIOENDOTELIOMA EPITELIOIDE MALIGNO\",\n",
        "                                                                \"GAMOPATIA MONOCLONAL DE SIGNIFICADO NAO DETERMINADO\",\"CARCINOMA ESCAMOSO DE CELULAS PEQUENAS NAO CERATINIZADO\",\"LIPOSSARCOMA DESDIFERENCIADO\",\"CARCINOMA DE CELULAS RENAIS SARCOMATOIDE\",\"LINFOMA DE CELULAS DA ZONA MARGINAL ESPLENICA\",\"CARCINOMA DE APENDICE CUTANEO\",\"ADENOMA VILOSO SOE\",\"SARCOMA ALVEOLAR DE PARTES MOLES\",\"ADENOCARCINOMA EXOCRINO MISTO DE CELULAS DAS ILHOTAS\",\"ADENOCARCINOMA MUCINOSO TIPO ENDOCERVICAL\",                                                \n",
        "                                                                \"HEMANGIOENDOTELIOMA MALIGNO\",\"CORDOMA CONDROIDE\",\"PANMIELOSE AGUDA COM MIELOFIBROSE\",\"TUMOR DE CELULAS DA GRANULOSA SOE\",\"DERMATOFIBROSSARCOMA PROTUBERANTE PIGMENTADO\",\"LEUCEMIA PROMIELOCITICA AGUDA T 1517 q22q1112\",\"LEIOMIOSSARCOMA EPITELIOIDE\",\"FIBROMA CELULAR\",\"CARCINOMA NEUROENDOCRINO DE GRANDES CELULAS\",\"LINFOMA LINFOBLASTICO DE CELULAS PRECURSORAS B\",\"TUMOR BASOCELULAR\",\"CARCINOMA LINFOEPITELIAL\",\"NEURINOMATOSE\",\n",
        "                                                                \"CARCINOMA PLEOMORFICO\",\"ADENOCARCINOMA ESQUIRROSO\",\"LEUCEMIA DE PLASMOCITOS\",\"PAPILOMA UROTELIAL\",\"LEUCEMIA MONOCITICA AGUDA\",\"TIMOMA TIPO A MALIGNO\",\"ADENOCARCINOMA OXIFILICO\",\"CARCINOMA FOLICULAR POUCO INVASIVO\",\"CARCINOMA INTRACISTICO SOE\",\"SARCOMA MIELOIDE\",\"TUMOR FILODES MALIGNIDADE LIMITROFE\",\"ADENOCARCINOMA IN SITU EM ADENOMA VILOSO\",\"MELANOMA MALIGNO EM MELANOSE PRECANCEROSA\",\"LEUCEMIA MIELOIDE AGUDA RELACIONADA AO TRATAMENTO SOE\",\n",
        "                                                                \"ASTROCITOMA GEMISTOCITICO\",\"LIPOMA ATIPICO\",\"CARCINOMA INTRACISTICO NAO INFILTRANTE\",\"TUMOR MALIGNO TIPO DE CELULAS PEQUENAS\",\"CARCINOMA HEPATOCELULAR PLEOMORFICO\",\"SARCOMA DE CELULAS CLARAS EXCETO DO RIM M89643\",\"ADENOCARCINOMA EM ADENOMA VILOSO\",\"OSTEOSSARCOMA TELANGIECTASICO\",\"NEURILEMOMA MALIGNO\",\"CARCINOMA PAPILAR VARIANTE FOLICULAR\",\"TUMOR DO ESTROMA DOS CORDOES SEXUAIS SOE\",\"ASTROCITOMA ANAPLASICO\",\"INSULINOMA MALIGNO\",\n",
        "                                                                \"TIMOMA TIPO B2 MALIGNO\",\"OLIGODENDROGLIOMA ANAPLASICO\",\"TUMOR DE KLATSKIN\",\"ADENOCARCINOMA DE CELULAS MISTAS\",\"PERINEUROMA MALIGNO\",\"ADENOCARCINOMA FOLICULAR BEM DIFERENCIADO\",\"MENINGIOMA DE CELULAS CLARAS\",\"LEUCEMIA MIELOIDE AGUDA T 821 q22q22\",\"ADENOCARCINOMA EM POLIPOSE ADENOMATOSA DO COLON\",\"ADENOCARCINOMA POLIMORFO DE BAIXO GRAU\",\"SARCOMA SINOVIAL FUSOCELULAR\",\"ADENOCARCINOMA IN SITU EM ADENOMA TUBULOVILOSO\",                                           \n",
        "                                                                \"ADENOFIBROMA SEROSO MALIGNIDADE LIMITROFE\",\"LEUCEMIA MIELOIDE CRONICA ATIPICA BCRABL NEGATIVA\",\"CELULAS TUMORAIS MALIGNAS\",\"TUMOR DE BRENNER MALIGNO\",\"CARCINOMA DE CELULAS TRANSICIONAIS FUSIFORMES\",\"GLIOBLASTOMA DE CELULAS GIGANTES\",\"CARCINOMA LOBULAR IN SITU SOE\",\"CONDROSSARCOMA MIXOIDE\",\"CARCINOIDE DE CELULAS CALICIFORMES\",\"TIMOMA SOE\",\"SINDROME MIELODISPLASICA RELACIONADA A TERAPIA SOE\",\"CARCINOMA DE DUCTOS COLETORES\",                                                            \n",
        "                                                                \"CARCINOFIBROMA\",\"LINFOMA LINFOBLASTICO DE CELULAS PRECURSORAS SOE\",\"LINFANGIOSSARCOMA\",\"ADENOCARCINOMA DE GLANDULA SUDORIPARA\",\"CARCINOMA DE CELULAS GRANULARES\",\"LIPOSSARCOMA MISTO\",\"ADENOCARCINOMA FOLICULAR TRABECULAR\",\"NEUROBLASTOMA OLFATIVO\",\"ADENOCARCINOMA HEPATOIDE\",\"CARCINOMA HEPATOCELULAR ESQUIRROSO\",\"TUMOR TROFOBLASTICO EPITELIOIDE\",\"TUMOR DE GLANDULA SUDORIPARA SOE\",\"DOEN\\x80A DE HODGKIN CELULARIDADE MISTA SOE\",\n",
        "                                                                \"TUMOR CISTICO PAPILAR SEROSO DE MALIGNIDADE LIMITROFE\",\"LESAO LINFOPROLIFERATIVA CUTANEA PRIMARIA DE CELULAS T CD30\",\"ADENOCARCINOFIBROMA DE CELULAS CLARAS\",\"LEUCEMIA MIELOIDE AGUDA COM EOSINOFILOS ANORMAIS NA MEDULA\",\"LEUCEMIA DE CELULAS T DO ADULTOLINFOMA HTL V1\",\"ADENOFIBROMA MUCINOSO MALIGNIDADE LIMITROFE\",\"CARCINOMA TIMICO SOE\",\"LINFOMA SUBCUTANEO TIPO PANICULITE DE CELULAS T\",\"CARCINOMA CROMOFOBO\",                                                                      \n",
        "                                                                \"CARCINOMA EPITELIALMIOEPITELIAL\",\"MENINGIOMA ATIPICO\",\"ADENOCARCINOMA ECRINO\",\"CARCINOMA BRONQUIOLO ALVEOLAR MUCINOSO\",\"EPENDIMOMA SOE\",\"MESONEFROMA MALIGNO\",\"MASTOCITOSE MALIGNA\",\"CISTADENOCARCINOMA DE CELULAS ACINOSAS\",\"OSTEOSSARCOMA FIBROBLASTICO\",\"MELANOMA MISTO EPITELIOIDE E FUSOCELULAR\",\"HEPATOBLASTOMA\",\"LEUCEMIA MIELOIDE AGUDA TIPO M6\",\"TUMOR DE CELULAS ACINOSAS\",\"GERMINOMA\",\"LEUCEMIA CRONICA MIELOGENICA BCRABL POSITIVA\",\n",
        "                                                                \"ADENOCARCINOFIBROMA MUCINOSO\",\"TUMOR DE CELULAS DE LEYDIG SOE\",\"CARCINOMA PAPILAR INTRADUCTAL MUCINOSO NAO INVASIVO\",\"DOEN\\x80A DE HODGKIN ESCLEROSE NODULAR FASE CELULAR\",\"OLIGODENDROGLIOMA SOE\",\"CONDROSSARCOMA SOE\",\"HEMANGIOPERICITOMA SOE\",\"CARCINOMA BRONQUIOLO ALVEOLAR MISTO MUCINOSO E NAO MUCINOSO\",\"GLIOMA MISTO\",\"MIOFIBROMATOSE\",\"CARCINOMA DO CORTEX SUPRARENAL\",\"GLIOSSARCOMA\",\"CARCINOMA BRONQUIOLO ALVEOLAR NAO MUCINOSO\",\n",
        "                                                                \"CONDROSSARCOMA DESDIFERENCIADO\",\"CARCINOMA DE CELULAS DE SERTOLI\",\"LEUCEMIA PROLINFOCITICA TIPO CELULAS T\",\"FIBROMATOSE AGRESSIVA\",\"SINDROME MIELODISPLASICA COM DELECAO 5q 5q\",\"SARCOMA ESTROMAL SOE\",\"LINFOMA INTESTINAL DE CELULAS T\",\"TUMOR MALIGNO DE CELULAS CLARAS\",\"CARCINOMA HEPATOCELULAR TIPO FUSOCELULAR\",\"CARCINOMA PAPILAR CELULAS OXIFILICAS\",\"HEMANGIOPERICITOMA MALIGNO\",\"TUMOR MALIGNO DA BAINHA DE NERVO PERIFERICO\",\n",
        "                                                                \"TUMOR MALIGNO FIBROSO SOLITARIO\",\"CARCINOMA SECRETOR DA MAMA\",\"FIBROMATOSE ABDOMINAL\",\"ADENOCARCINOMA EM POLIPOS ADENOMATOSOS MULTIPLOS\",\"LEUCEMIA LINFOBLASTICA DE CELULAS T PRECURSORAS\",\"TERATOMA MALIGNO SOE\",\"OSTEOBLASTOMA AGRESSIVO\",\"PARAGANGLIOMA SOE\",\"ADENOCARCINOMA COM METAPLASIA CARTILAGINOSA E OSSEA\",\"DOEN\\x80A DE HODGKIN PREDOMINANCIA LINFOCITICA NODULAR\",\"CONDROSSARCOMA DE CELULAS CLARAS\",                                                         \n",
        "                                                                \"LINFOMA LINFOBLASTICO DE CELULAS PRECURSORAS T\",\"ANEMIA REFRATARIA COM EXCESSO DE BLASTOS EM TRANSFORMACAO\",\"CARCINOMA PAPILAR CELULAS COLUNARES\",\"ADENOCARCINOMA TIPO ENDOCERVICAL\",\"ADENOCARCINOFIBROMA SEROSO\",\"TUMOR DE SACO VITELINO\",\"LEUCEMIA LINFOCITICA DE CELULAS GRANDES TIPO T GRANULARES\",\"SARCOMA DE CELULAS DENDRITICAS FOLICULAR\",\"MELANOMA DE CELULAS BALONIFORMES\",\"DOENCA DE DEPOSITO DE IMUNOGLOBULINA\",\n",
        "                                                                \"ADENOCARCINOMA DE PROPAGACAO SUPERFICIAL\",\"SARCOMA SINOVIAL BIFASICO\",\"ADENOMA FOLICULAR ATIPICO\",\"TUMOR GLOMICO MALIGNO\",\"OSTEOSSARCOMA CENTRAL\",\"RABDOMIOSSARCOMA ALVEOLAR\",\"ADENOCARCINOMA COM METAPLASIA FUSOCELULAR\",\"CARCINOMA DE CELULAS POLIGONAIS\",\"HEMANGIOENDOTELIOMA EPITELIOIDE SOE\",\"PARAGANGLIOMA MALIGNO\",\"DOEN\\x80A DE HODGKIN DEPLECAO LINFOCITICA SOE\",\"TUMOR NEUROECTODERMICO PRIMITIVO SOE\",\"CARCINOMA MEDULAR ATIPICO\",\n",
        "                                                                \"FEOCROMOCITOMA MALIGNO\",\"TUMOR DE CELULAS DAS ILHOTAS SOE\",\"CARCINOMA INTRADUCTAL MICROPAPILAR\",\"CISTADENOCARCINOMA DE DUCTOS BILIARES\",\"MASTOCITOMA SOE\",\"TUMOR DE CELULAS GRANULARES MALIGNO\",\"TUMOR ESTROMAL SOE\",\"CARCINOMA DE CELULAS DAS ILHOTAS\",\"ANEMIA REFRATARIA COM SIDEROBLASTOS\",\"TUMOR MUCOEPIDERMOIDE\",\"TIMOMA TIPO AB SOE\",\"MEDULOBLASTOMA SOE\",\"ADENOFIBROMA ENDOMETRIOIDE DE MALIGNIDADE LIMITROFE\",\"CARCINOIDE COMPOSTO\",\n",
        "                                                                \"CARCINOMA DE CELULAS PEQUENAS FUSIFORMES\",\"ADENOMA ENDOMETRIOIDE DE MALIGNIDADE LIMITROFE\",\"CARCINOMA ESCAMOSO COM FORMACAO CORNEA\",\"GASTRINOMA MALIGNO\",\"COMEDOCARCINOMA SOE\",\"CARCINOMA DE GRANDES CELULAS RABDOIDE\",\"CARCINOMA PAPILAR INTRADUCTAL MUCINOSO INVASIVOCISTADENOCARCINOMA MUCINOSO NAO INVASIVO\",\"CARCINOMA INSULAR\",\"TIMOMA TIPO B1 MALIGNO\",\"LIPOSSARCOMA FIBROBLASTICO\",\"ADENOCARCINOMA PAPILAR ECRINO\",\"LEUCEMIA AGUDA BIFENOTIPICA\",\n",
        "                                                                \"MESOTELIOMA FIBROSO MALIGNO\",\"TUMOR CARCINOIDE SOE DO APENDICE\",\"CARCINOMA HEPATOCELULAR DE CELULAS CLARAS\",\"HISTIOCITOSE DE CELULAS DE LANGERHANS SOE\",\"TUMOR MALIGNO DE CELULAS GIGANTES DE PARTES MOLES\",\"RABDOMIOSSARCOMA EMBRIONARIO SOE\",\"SEMINOMA ESPERMATOCITICO\",\"MESOTELIOMA BIFASICO MALIGNO\",\"TERATOMA SOE\",\"SARCOMA DE CELULAS DENDRITICAS DIGITIFORME\",\"LEUCEMIA PROLINFOCITICA TIPO CELULAS B\",\"ADENOCARCINOMA COM METAPLASIA APOCRINA\",\n",
        "                                                                \"LESAO IMUNOPROLIFERATIVA ANGIOCENTRICA\",\"ADAMANTINOMA DE OSSOS LONGOS\",\"CONDROSSARCOMA MESENQUIMAL\",\"LEUCEMIA DE CELULAS DE BURKITT\",\"GLIOMATOSE CEREBRAL\",\"MELANOMA FUSOCELULAR TIPO B\",\"ASTROCITOMA FIBRILAR\",\"ADENOCARCINOMA ENDOMETRIOIDE DE CELULAS CILIADAS\",\"TUMOR DE CELULAS DE SERTOLILEYDIG POUCO DIFERENCIADA\",\"CARCINOMA HEPATOCELULAR FIBROLAMELAR\",\"CARCINOMA DE CELULAS GIGANTES SEMELHANTES A OSTEOCLASTO\",\"LINFANGIOMIOMATOSE\",\n",
        "                                                                \"TUMOR MALIGNO DE CELULAS GIGANTES TENOSSINOVIAL\",\"TIMOMA TIPO B3 SOE\",\"CORIOCARCINOMA SOE\",\"LEIOMIOSSARCOMA MIXOIDE\",\"MELANOMA MALIGNO EM NEVO PIGMENTADO GIGANTE\",\"MESENQUIMOMA SOE\",\"LEIOMIOMATOSE SOE\",\"CARCINOMA ESCLEROSANTE NAOENCAPSULADO\",\"OLIGODENDROBLASTOMA\",\"ESPIRADENOMA ECRINO MALIGNO\",\"TUMOR MALIGNO DE CELULAS GIGANTES DO OSSO\",\"CARCINOMA DE CELULAS PARIETAIS\",\"SARCOMA DE CELULAS DE LANGERHANS\",                                                         \n",
        "                                                                \"NEOPLASIA INTRATUBULAR DE CELULAS GERMINATIVAS\",\"TIMOMA TIPO B2 SOE\",\"GANGLIOGLIOMA\",\"TUMOR MIOFIBROBLASTICO SOE\",\"CRANIOFARINGIOMA ADAMANTINOMATOSO\",\"TIMOMA TIPO AB MALIGNO\",\"SARCOMA RABDOIDE\",\"SARCOMA SINOVIAL DE CELULAS EPITELIOIDES\",\"MESENQUIMOMA MALIGNO\",\"TUMOR HIPERNEFROIDE\",\"LEUCEMIA DE CELULAS TIPO NK AGRESSIVA\",\"FIBROBLASTOMA DE CELULAS GIGANTES\",\"CARCINOMA PSEUDOPAPILAR SOLIDO\",\"TUMOR DO GLOMO JUGULAR SOE\",\"CARCINOMA EMBRIONARIO SOE\",\n",
        "                                                                \"SARCOMA DE C\\x90LULAS CLARAS DO RIM\",\"TUMOR DO CORPO CAROTIDEO\",\"GASTRINOMA SOE\",\"NEVO AZUL MALIGNO\",\"FIBROMA DESMOPLASICO\",\"DISGERMINOMA\",\"TUMOR PSEUDOPAPILAR SOLIDOHEMANGIOBLASTOMA\",\"MIOSSARCOMA\",\"CARCINOMA PAPILAR ENCAPSULADO\",\"ESTROMA OVARIANO MALIGNO\",\"TUMOR DE MUSCULO LISO DE MALIGNIDADE LIMITROFE\",\"CARCINOMA CISTICO HIPERSSECRETOR\",\"MENINGIOMA PAPILAR\",\"LINFOMA MALIGNO DO MEDIASTINO DE CELULAS GRANDES B\",\"AMELOBLASTOMA MALIGNO\",\n",
        "                                                                \"TUMOR ODONTOGENICO MALIGNO\",\"MENINGIOMATOSE SOE\",\"TUMOR DE BRENNER DE MALIGNIDADE LIMITROFE\",\"TUMOR MISTO MESODERMICO\",\"CARCINOSSARCOMA EMBRIONARIO\",\"ADENOCARCINOMA FETAL\",\"TUMOR DE CELULAS GIGANTES DE PARTES MOLES SOE\",\"TUMOR DO CORPO AORTICO\",\"CARCINOMA DUCTAL DESMOPLASICO\",\"NEUROBLASTOMA SOE\",\"POLIEMBRIOMA\",\"RABDOMIOSSARCOMA FUSOCELULAR\",\"TIMOMA TIPO B3 MALIGNO\",\"CARCINOMA DE CELULAS VITREAS\",\"CARCINOMA RICO EM LIPIDES\",\n",
        "                                                                \"SARCOMA DE CELULAS PEQUENAS\",\"MESOTELIOMA CISTICO SOE\",\"CARCINOMA ACIDOFILO\",\"CRANIOFARINGIOMA\",\"ASTROCITOMA PROTOPLASMATICO\",\"CARCINOMA MISTO MEDULAR PAPILAR\",\"HISTIOCITOMA FIBROSO ANGIOMATOIDE\",\"ASTROCITOMA PILOCITICO\",\"EPENDIMOMA PAPILAR\",\"TUMOR MALIGNO DE CELULAS DE LEYDIG\",\"CARCINOMA SCHNEIDERIANO\",\"TUMOR MALIGNO TIPO DE CELULAS GIGANTES\",\"NEVO PIGMENTADO GIGANTE SOE\",\"OSTEOSSARCOMA PERIOSTAL\",\"MELANOMA FUSOCELULAR TIPO A\",\n",
        "                                                                \"TUMOR MALIGNO DA BAINHA DE NERVO PERIFERICO COM DIFERENCIACAO RABDOMIOBLASTICA\",\"TUMOR MISTO DE CELULAS GERMINATIVAS\",\"ANGIOMIXOMA\",\"HISTIOCITOSE MALIGNA\",\"RABDOMIOSSARCOMA TIPO MISTO\",\"CISTADENOMA MUCINOSO PAPILAR DE MALIGNIDADE LIMITROFE\",\"CARCINOMA MEDULAR COM ESTROMA LINFOIDE\",\"OSTEOSSARCOMA EM DOENCA DE PAGET DO OSSO\",\"PAPILOMA DE CELULAS TRANSICIONAIS TIPO INVERTIDO SOE\",\"CORDOMA DESDIFERENCIADO\",                                                                  \n",
        "                                                                \"TUMOR PAPILAR DE SUPERFICIE SEROSA MALIGNIDADE LIMITROFE\",\"NEUROFIBROMATOSE SOE\",\"NEUROCITOMA CENTRAL\",\"CARCINOMA MEDULAR COM ESTROMA AMILOIDE\",\"MEDULOBLASTOMA DESMOPLASICO NODULAR\",\"ANDROBLASTOMA SOE\",\"CORIOCARCINOMA COMBINADO COM OUTROS ELEMENTOS DE CELULAS GERMINATIVAS\",\"TUMOR ODONTOGENICO SOE\",\"TUMOR DE CELULAS ESTEROIDE MALIGNO\",\"ADENOFIBROMA DE CELULAS CLARAS MALIGNIDADE LIMITROFE\",                                     \n",
        "                                                                \"CARCINOMA DA GLANDULA PITUITARIASOE\",\"PARAGANGLIOMA EXTRASUPRARENAL SOE\",\"PINEOCITOMA\",\"EPENDIMOMA MIXOPAPILAR\",\"HISTIOCITOSE DE CELULAS DE LANGERHANS MULTIFOCAL\",\"PARAGANGLIOMA EXTRASUPRARENAL MALIGNO\",\"CARCINOIDE DE CELULAS ENTEROCROMAFINICAS\",\"TUMORLET SOE\",\"HISTIOCITOSE DE CELULAS DE LANGERHANS DISSEMINADA\",\"MELANOSE PRECANCEROSA SOE\",\"CARCINOMA RICO EM GLICOGENIO\",\"TUMOR DESMOPLASICO DE CELULAS PEQUENAS E REDONDAS\",\n",
        "                                                                \"TUMOR DE CELULAS DE SERTOLILEYDIG RETIFORME\",\"TERATOMA COM TRANSFORMACAO MALIGNA\",\"DOEN\\x80A DE HODGKIN DEPLECAO LINFOCITICA RETICULAR\",\"XANTOASTROCITOMA PLEOMORFICO\",\"LINFOMA HEPATOESPLENICA TIPO GAMADELTA\",\"SINDROME HIPEREOSINOFILICO\",\"TUMOR FIBROHISTIOCITICO PLEXIFORME\",\"PINEOBLASTOMA\",\"TUMOR DE CELULAS DE SERTOLILEYDIG COM DIFERENCIACAO INTERMEDIARIA E ELEMENTOS HETEROLOGOS\",\n",
        "                                                                \"TUMOR CISTICO MUCINOSO COM DISPLASIA MODERADA\",\"LINFADENOPATIA ANGIOIMUNOBLASTICA\",\"SARCOMA CEREBELAR SOE\",\"OSTEOSSARCOMA DE SUPERFICIE DE ALTO GRAU\",\"TUMOR DE CELULAS DE SERTOLI SOE\",\"TUMOR DE CELULAS DA TECAGRANULOSA\",\"CISTADENOMA PAPILAR DE MALIGNIDADE LIMITROFE\",\"CARCINOIDE DE CELULAS SEMELHANTES A ENTEROCROMAFINICAS SOE\",\"LEUCEMIA DE MASTOCITOS\",\"OSTEOSSARCOMA PARAOSTAL\",\"EFUSAO POR LINFOMA PRIMARIO\",\"LEIOMIOMA METASTATIZANTE\",\n",
        "                                                                \"OSTEOSSARCOMA INTRAOSSEO BEM DIFERENCIADO\",\"DOENCA DE CADEIA PESADA SOE\",\"SEMINOMA ANAPLASICO\",\"CARCINOMA MISTO MEDULAR FOLICULAR\",\"TUMOR DE CELULAS DE SERTOLILEYDIG COM DIFERENCIACAO INTERMEDIARIA\",\"ASTROBLASTOMA\",\"TUMOR DE ASKIN\",\"GANGLIOGLIOMA ANAPLASICO\",\"MELANOCITOMA MENINGEANO\",\"FIBROSSARCOMA PERIOSTAL\",\"ADENOCARCINOMA CERUMINOSOCARCINOMA DE PLEXO COROIDE\",\"CONDROMATOSE SOE\",\"TUMOR MALIGNO DE CELULAS SEMELHANTES A ENTEROCROMAFINICAS\",\n",
        "                                                                \"CRANIOFARINGIOMA PAPILAR\",\"SUBEPENDIMOMA\",\"TERATOCARCINOMA\",\"TUMOR DOS CORDOES SEXUAIS COM TUBULOS ANULARES\",\"SARCOMA DE HODGKIN\",\"RETINOBLASTOMA DIFERENCIADO\",\"GLUCAGONOMA MALIGNO\",\"BLASTOMA PULMONAR\",\"SOMATOSTATINOMA SOE\",\"TUMOR DE CELULAS GERMINATIVAS NAO SEMINOMATOSO\",\"GLIOMA CORDOIDE\",\"ASTROCITOMA SUBEPENDIMAL DE CELULAS GIGANTES\",\"APUDOMA\",\"TUMOR CISTICO DE CELULAS CLARAS MALIGNIDADE LIMITROFE\",\n",
        "                                                                \"TUMOR DE CELULAS DE SERTOLILEYDIG POUCO DIFERENCIADO COM ELEMENTOS HETEROLOGOS\",\"ADENOMATOSE PULMONAR\",\"TUMOR DO ESTROMA DOS CORDOES SEXUAIS FORMAS MISTAS\",\"GANGLIONEUROBLASTOMA\",\"CONDROBLASTOMA MALIGNO\",\"TECOMA MALIGNO\",\"HEMANGIOENDOTELIOMA FUSOCELULAR\",\"MOLA HIDATIFORME INVASIVA\",\"PARAGANGLIOMA SIMPATICO\",\"TUMOR DO ESTROMA DOS CORDOES SEXUAIS COM DIFERENCIACAO INCOMPLETA\",\"SARCOMATOSE MENINGEA\",\"NEFROBLASTOMA SOE\",\"CARCINOMA BASOFILO\",\n",
        "                                                                \"MEDULOMIOBLASTOMA\",\"SARCOMA DE MASTOCITOS\",\"SARCOMA EMBRIONARIO\",\"BLASTOMA PLEURO PULMONAR\",\"NEFROMA MESOBLASTICO\",\"GLUCAGONOMA SOE\",\"NEFROMA MALIGNO CISTICO\",\"GONADOBLASTOMA\",\"DOEN\\x80A DE HODGKIN DEPLECAO LINFOCITICA COM FIBROSE DIFUSA\",\"TUMOR TROFOBLASTICO DE LOCALIZACAO PLACENTARIA\",\"FIBROSSARCOMA AMELOBLASTICO\",\"ANDROBLASTOMA MALIGNO\",\"TUMOR EPITELIAL FUSOCELULAR SEMELHANTE A CELULAS TIMICAS\",\"TUMOR JUVENIL DE CELULAS DA GRANULOSA\",\n",
        "                                                                \"MEDULOEPITELIOMA SOE\",\"OSTEOCONDROMATOSE SOE\",\"HISTIOCITOSE DE CELULAS DE LANGERHANS UNIFOCAL\",\"PAPILOMA ATIPICO DE PLEXO COROIDE\",\"FIBROSSARCOMA DE FASCIA\",\"TERATOMA MALIGNO INDIFERENCIADO\",\"NEUROCITOMA OLFATORIO\",\"TERATOMA MALIGNO INTERMEDIARIO\",\"OSTEOSSARCOMA INTRACORTICAL\",\"CONDROSSARCOMA JUSTACORTICAL\",\"TUMOR DE CELULAS DE SERTOLI GRANDES CELULAS E CALCIFICADAS\",\"TUMOR NEUROGENICO OLFATIVO\",\"MEDULOBLASTOMA DE CELULAS GRANDES\",\n",
        "                                                                \"RETINOBLASTOMA SOE\",\"TUMOR TERATOIDERABDOIDE ATIPICO\",\"NEUROEPITELIOMA SOE\",\"PINEALOMA\",\"PANCREATOBLASTOMA\",\"GLIOFIBROMA\",\"NEFROBLASTOMA CISTICO PARCIALMENTE DIFERENCIADO\",\"LEUCEMIA MIELOMONOCITICA JUVENIL\",\"MEDULOEPITELIOMA TERATOIDE\",\"ASTROCITOMA DESMOPLASTICO INFANTI\",\"FIBROSSARCOMA INFANTIL\",\"LEUCEMIA BASOFILICA AGUDA\",\"RETINOBLASTOMA INDIFERENCIADO\",\"RABDOMIOSSARCOMA COM DIFERENCIACAO GANGLIONICA\",\"MELANOMATOSE MENINGEANA\",\"SIALOBLASTOMA\"), labels(c(seq.int(1:701)))))  \n"
      ],
      "metadata": {
        "id": "WdgyPakzp12b"
      },
      "execution_count": 68,
      "outputs": []
    },
    {
      "cell_type": "code",
      "source": [
        "anos[,1:3] = scale(anos[,1:3])\n",
        "anos[,6] = scale(anos[,6])\n",
        "anos[,8] = scale(anos[,8])\n",
        "anos[,10:11] = scale(anos[,10:11])\n",
        "anos[,13:17] = scale(anos[,13:17])\n",
        "anos[,23:29] = scale(anos[,23:29])\n",
        "anos[,33:56] = scale(anos[,33:56])\n",
        "anos[,58:62] = scale(anos[,58:62])\n",
        "anos[,64:72] = scale(anos[,64:72])"
      ],
      "metadata": {
        "colab": {
          "base_uri": "https://localhost:8080/",
          "height": 187
        },
        "id": "p4iYiDDkmsT2",
        "outputId": "3ee9925f-ca61-405d-c3e8-f56f9203a7d4"
      },
      "execution_count": 69,
      "outputs": [
        {
          "output_type": "error",
          "ename": "ERROR",
          "evalue": "ignored",
          "traceback": [
            "Error in colMeans(x, na.rm = TRUE): 'x' must be numeric\nTraceback:\n",
            "1. scale(anos[, 1:3])",
            "2. scale(anos[, 1:3])",
            "3. scale.default(anos[, 1:3])",
            "4. colMeans(x, na.rm = TRUE)"
          ]
        }
      ]
    }
  ]
}